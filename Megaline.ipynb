{
 "cells": [
  {
   "cell_type": "markdown",
   "metadata": {},
   "source": [
    "----"
   ]
  },
  {
   "cell_type": "markdown",
   "metadata": {
    "id": "3rYiDeEH0q0f"
   },
   "source": [
    "# ¿Cuál es la mejor tarifa?\n",
    "\n",
    "Trabajas como analista para el operador de telecomunicaciones Megaline. La empresa ofrece a sus clientes dos tarifas de prepago, Surf y Ultimate. El departamento comercial quiere saber cuál de las tarifas genera más ingresos para poder ajustar el presupuesto de publicidad.\n",
    "\n",
    "Vas a realizar un análisis preliminar de las tarifas basado en una selección de clientes relativamente pequeña. Tendrás los datos de 500 clientes de Megaline: quiénes son los clientes, de dónde son, qué tarifa usan, así como la cantidad de llamadas que hicieron y los mensajes de texto que enviaron en 2018. Tu trabajo es analizar el comportamiento de los clientes y determinar qué tarifa de prepago genera más ingresos."
   ]
  },
  {
   "cell_type": "markdown",
   "metadata": {
    "id": "VNddPNRQ0q0w"
   },
   "source": [
    "El propósito del proyecto es analizar el comportamiento de los clientes de Megaline que utilizan las tarifas de prepago Surf y Ultimate, con el objetivo de determinar cuál de estas tarifas genera más ingresos. Este análisis es crucial para que el departamento comercial pueda ajustar su presupuesto de publicidad y optimizar sus estrategias de marketing.\n",
    "Acciones que planeo realizar:\n",
    "Recolección y preparación de datos\n",
    "Cálculo de ingresos\n",
    "Análisis de ingresos\n",
    "Pruebas estadísticas\n",
    "Presentación de resultados"
   ]
  },
  {
   "cell_type": "markdown",
   "metadata": {
    "id": "MQi4IPy70q0y"
   },
   "source": [
    "## Inicialización"
   ]
  },
  {
   "cell_type": "code",
   "execution_count": 10,
   "metadata": {
    "id": "MtYIuBxu0q0z",
    "trusted": true
   },
   "outputs": [],
   "source": [
    "# Cargar todas las librerías\n",
    "import pandas as pd\n",
    "import numpy as np\n",
    "import math as mt\n",
    "import matplotlib.pyplot as plt\n",
    "import seaborn as sns\n",
    "\n",
    "from scipy.stats import levene\n",
    "from scipy import stats as st\n"
   ]
  },
  {
   "cell_type": "markdown",
   "metadata": {
    "id": "4ysWWC5i0q00"
   },
   "source": [
    "## Cargar datos"
   ]
  },
  {
   "cell_type": "code",
   "execution_count": 11,
   "metadata": {
    "id": "CCqPW7rS0q01",
    "trusted": true
   },
   "outputs": [
    {
     "name": "stdout",
     "output_type": "stream",
     "text": [
      "Información de llamadas:\n",
      "<class 'pandas.core.frame.DataFrame'>\n",
      "RangeIndex: 137735 entries, 0 to 137734\n",
      "Data columns (total 4 columns):\n",
      " #   Column     Non-Null Count   Dtype  \n",
      "---  ------     --------------   -----  \n",
      " 0   id         137735 non-null  object \n",
      " 1   user_id    137735 non-null  int64  \n",
      " 2   call_date  137735 non-null  object \n",
      " 3   duration   137735 non-null  float64\n",
      "dtypes: float64(1), int64(1), object(2)\n",
      "memory usage: 4.2+ MB\n",
      "None\n"
     ]
    },
    {
     "data": {
      "text/html": [
       "<div>\n",
       "<style scoped>\n",
       "    .dataframe tbody tr th:only-of-type {\n",
       "        vertical-align: middle;\n",
       "    }\n",
       "\n",
       "    .dataframe tbody tr th {\n",
       "        vertical-align: top;\n",
       "    }\n",
       "\n",
       "    .dataframe thead th {\n",
       "        text-align: right;\n",
       "    }\n",
       "</style>\n",
       "<table border=\"1\" class=\"dataframe\">\n",
       "  <thead>\n",
       "    <tr style=\"text-align: right;\">\n",
       "      <th></th>\n",
       "      <th>id</th>\n",
       "      <th>user_id</th>\n",
       "      <th>call_date</th>\n",
       "      <th>duration</th>\n",
       "    </tr>\n",
       "  </thead>\n",
       "  <tbody>\n",
       "    <tr>\n",
       "      <th>0</th>\n",
       "      <td>1000_93</td>\n",
       "      <td>1000</td>\n",
       "      <td>2018-12-27</td>\n",
       "      <td>8.52</td>\n",
       "    </tr>\n",
       "    <tr>\n",
       "      <th>1</th>\n",
       "      <td>1000_145</td>\n",
       "      <td>1000</td>\n",
       "      <td>2018-12-27</td>\n",
       "      <td>13.66</td>\n",
       "    </tr>\n",
       "    <tr>\n",
       "      <th>2</th>\n",
       "      <td>1000_247</td>\n",
       "      <td>1000</td>\n",
       "      <td>2018-12-27</td>\n",
       "      <td>14.48</td>\n",
       "    </tr>\n",
       "    <tr>\n",
       "      <th>3</th>\n",
       "      <td>1000_309</td>\n",
       "      <td>1000</td>\n",
       "      <td>2018-12-28</td>\n",
       "      <td>5.76</td>\n",
       "    </tr>\n",
       "    <tr>\n",
       "      <th>4</th>\n",
       "      <td>1000_380</td>\n",
       "      <td>1000</td>\n",
       "      <td>2018-12-30</td>\n",
       "      <td>4.22</td>\n",
       "    </tr>\n",
       "  </tbody>\n",
       "</table>\n",
       "</div>"
      ],
      "text/plain": [
       "         id  user_id   call_date  duration\n",
       "0   1000_93     1000  2018-12-27      8.52\n",
       "1  1000_145     1000  2018-12-27     13.66\n",
       "2  1000_247     1000  2018-12-27     14.48\n",
       "3  1000_309     1000  2018-12-28      5.76\n",
       "4  1000_380     1000  2018-12-30      4.22"
      ]
     },
     "metadata": {},
     "output_type": "display_data"
    },
    {
     "name": "stdout",
     "output_type": "stream",
     "text": [
      "\n",
      "Información de uso de internet:\n",
      "<class 'pandas.core.frame.DataFrame'>\n",
      "RangeIndex: 104825 entries, 0 to 104824\n",
      "Data columns (total 4 columns):\n",
      " #   Column        Non-Null Count   Dtype  \n",
      "---  ------        --------------   -----  \n",
      " 0   id            104825 non-null  object \n",
      " 1   user_id       104825 non-null  int64  \n",
      " 2   session_date  104825 non-null  object \n",
      " 3   mb_used       104825 non-null  float64\n",
      "dtypes: float64(1), int64(1), object(2)\n",
      "memory usage: 3.2+ MB\n",
      "None\n"
     ]
    },
    {
     "data": {
      "text/html": [
       "<div>\n",
       "<style scoped>\n",
       "    .dataframe tbody tr th:only-of-type {\n",
       "        vertical-align: middle;\n",
       "    }\n",
       "\n",
       "    .dataframe tbody tr th {\n",
       "        vertical-align: top;\n",
       "    }\n",
       "\n",
       "    .dataframe thead th {\n",
       "        text-align: right;\n",
       "    }\n",
       "</style>\n",
       "<table border=\"1\" class=\"dataframe\">\n",
       "  <thead>\n",
       "    <tr style=\"text-align: right;\">\n",
       "      <th></th>\n",
       "      <th>id</th>\n",
       "      <th>user_id</th>\n",
       "      <th>session_date</th>\n",
       "      <th>mb_used</th>\n",
       "    </tr>\n",
       "  </thead>\n",
       "  <tbody>\n",
       "    <tr>\n",
       "      <th>0</th>\n",
       "      <td>1000_13</td>\n",
       "      <td>1000</td>\n",
       "      <td>2018-12-29</td>\n",
       "      <td>89.86</td>\n",
       "    </tr>\n",
       "    <tr>\n",
       "      <th>1</th>\n",
       "      <td>1000_204</td>\n",
       "      <td>1000</td>\n",
       "      <td>2018-12-31</td>\n",
       "      <td>0.00</td>\n",
       "    </tr>\n",
       "    <tr>\n",
       "      <th>2</th>\n",
       "      <td>1000_379</td>\n",
       "      <td>1000</td>\n",
       "      <td>2018-12-28</td>\n",
       "      <td>660.40</td>\n",
       "    </tr>\n",
       "    <tr>\n",
       "      <th>3</th>\n",
       "      <td>1000_413</td>\n",
       "      <td>1000</td>\n",
       "      <td>2018-12-26</td>\n",
       "      <td>270.99</td>\n",
       "    </tr>\n",
       "    <tr>\n",
       "      <th>4</th>\n",
       "      <td>1000_442</td>\n",
       "      <td>1000</td>\n",
       "      <td>2018-12-27</td>\n",
       "      <td>880.22</td>\n",
       "    </tr>\n",
       "  </tbody>\n",
       "</table>\n",
       "</div>"
      ],
      "text/plain": [
       "         id  user_id session_date  mb_used\n",
       "0   1000_13     1000   2018-12-29    89.86\n",
       "1  1000_204     1000   2018-12-31     0.00\n",
       "2  1000_379     1000   2018-12-28   660.40\n",
       "3  1000_413     1000   2018-12-26   270.99\n",
       "4  1000_442     1000   2018-12-27   880.22"
      ]
     },
     "metadata": {},
     "output_type": "display_data"
    },
    {
     "name": "stdout",
     "output_type": "stream",
     "text": [
      "\n",
      "Información de mensajes:\n",
      "<class 'pandas.core.frame.DataFrame'>\n",
      "RangeIndex: 76051 entries, 0 to 76050\n",
      "Data columns (total 3 columns):\n",
      " #   Column        Non-Null Count  Dtype \n",
      "---  ------        --------------  ----- \n",
      " 0   id            76051 non-null  object\n",
      " 1   user_id       76051 non-null  int64 \n",
      " 2   message_date  76051 non-null  object\n",
      "dtypes: int64(1), object(2)\n",
      "memory usage: 1.7+ MB\n",
      "None\n"
     ]
    },
    {
     "data": {
      "text/html": [
       "<div>\n",
       "<style scoped>\n",
       "    .dataframe tbody tr th:only-of-type {\n",
       "        vertical-align: middle;\n",
       "    }\n",
       "\n",
       "    .dataframe tbody tr th {\n",
       "        vertical-align: top;\n",
       "    }\n",
       "\n",
       "    .dataframe thead th {\n",
       "        text-align: right;\n",
       "    }\n",
       "</style>\n",
       "<table border=\"1\" class=\"dataframe\">\n",
       "  <thead>\n",
       "    <tr style=\"text-align: right;\">\n",
       "      <th></th>\n",
       "      <th>id</th>\n",
       "      <th>user_id</th>\n",
       "      <th>message_date</th>\n",
       "    </tr>\n",
       "  </thead>\n",
       "  <tbody>\n",
       "    <tr>\n",
       "      <th>0</th>\n",
       "      <td>1000_125</td>\n",
       "      <td>1000</td>\n",
       "      <td>2018-12-27</td>\n",
       "    </tr>\n",
       "    <tr>\n",
       "      <th>1</th>\n",
       "      <td>1000_160</td>\n",
       "      <td>1000</td>\n",
       "      <td>2018-12-31</td>\n",
       "    </tr>\n",
       "    <tr>\n",
       "      <th>2</th>\n",
       "      <td>1000_223</td>\n",
       "      <td>1000</td>\n",
       "      <td>2018-12-31</td>\n",
       "    </tr>\n",
       "    <tr>\n",
       "      <th>3</th>\n",
       "      <td>1000_251</td>\n",
       "      <td>1000</td>\n",
       "      <td>2018-12-27</td>\n",
       "    </tr>\n",
       "    <tr>\n",
       "      <th>4</th>\n",
       "      <td>1000_255</td>\n",
       "      <td>1000</td>\n",
       "      <td>2018-12-26</td>\n",
       "    </tr>\n",
       "  </tbody>\n",
       "</table>\n",
       "</div>"
      ],
      "text/plain": [
       "         id  user_id message_date\n",
       "0  1000_125     1000   2018-12-27\n",
       "1  1000_160     1000   2018-12-31\n",
       "2  1000_223     1000   2018-12-31\n",
       "3  1000_251     1000   2018-12-27\n",
       "4  1000_255     1000   2018-12-26"
      ]
     },
     "metadata": {},
     "output_type": "display_data"
    },
    {
     "name": "stdout",
     "output_type": "stream",
     "text": [
      "\n",
      "Información de planes:\n",
      "<class 'pandas.core.frame.DataFrame'>\n",
      "RangeIndex: 2 entries, 0 to 1\n",
      "Data columns (total 8 columns):\n",
      " #   Column                 Non-Null Count  Dtype  \n",
      "---  ------                 --------------  -----  \n",
      " 0   messages_included      2 non-null      int64  \n",
      " 1   mb_per_month_included  2 non-null      int64  \n",
      " 2   minutes_included       2 non-null      int64  \n",
      " 3   usd_monthly_pay        2 non-null      int64  \n",
      " 4   usd_per_gb             2 non-null      int64  \n",
      " 5   usd_per_message        2 non-null      float64\n",
      " 6   usd_per_minute         2 non-null      float64\n",
      " 7   plan_name              2 non-null      object \n",
      "dtypes: float64(2), int64(5), object(1)\n",
      "memory usage: 260.0+ bytes\n",
      "None\n"
     ]
    },
    {
     "data": {
      "text/html": [
       "<div>\n",
       "<style scoped>\n",
       "    .dataframe tbody tr th:only-of-type {\n",
       "        vertical-align: middle;\n",
       "    }\n",
       "\n",
       "    .dataframe tbody tr th {\n",
       "        vertical-align: top;\n",
       "    }\n",
       "\n",
       "    .dataframe thead th {\n",
       "        text-align: right;\n",
       "    }\n",
       "</style>\n",
       "<table border=\"1\" class=\"dataframe\">\n",
       "  <thead>\n",
       "    <tr style=\"text-align: right;\">\n",
       "      <th></th>\n",
       "      <th>messages_included</th>\n",
       "      <th>mb_per_month_included</th>\n",
       "      <th>minutes_included</th>\n",
       "      <th>usd_monthly_pay</th>\n",
       "      <th>usd_per_gb</th>\n",
       "      <th>usd_per_message</th>\n",
       "      <th>usd_per_minute</th>\n",
       "      <th>plan_name</th>\n",
       "    </tr>\n",
       "  </thead>\n",
       "  <tbody>\n",
       "    <tr>\n",
       "      <th>0</th>\n",
       "      <td>50</td>\n",
       "      <td>15360</td>\n",
       "      <td>500</td>\n",
       "      <td>20</td>\n",
       "      <td>10</td>\n",
       "      <td>0.03</td>\n",
       "      <td>0.03</td>\n",
       "      <td>surf</td>\n",
       "    </tr>\n",
       "    <tr>\n",
       "      <th>1</th>\n",
       "      <td>1000</td>\n",
       "      <td>30720</td>\n",
       "      <td>3000</td>\n",
       "      <td>70</td>\n",
       "      <td>7</td>\n",
       "      <td>0.01</td>\n",
       "      <td>0.01</td>\n",
       "      <td>ultimate</td>\n",
       "    </tr>\n",
       "  </tbody>\n",
       "</table>\n",
       "</div>"
      ],
      "text/plain": [
       "   messages_included  mb_per_month_included  minutes_included  \\\n",
       "0                 50                  15360               500   \n",
       "1               1000                  30720              3000   \n",
       "\n",
       "   usd_monthly_pay  usd_per_gb  usd_per_message  usd_per_minute plan_name  \n",
       "0               20          10             0.03            0.03      surf  \n",
       "1               70           7             0.01            0.01  ultimate  "
      ]
     },
     "metadata": {},
     "output_type": "display_data"
    },
    {
     "name": "stdout",
     "output_type": "stream",
     "text": [
      "\n",
      "Información de usuarios:\n",
      "<class 'pandas.core.frame.DataFrame'>\n",
      "RangeIndex: 500 entries, 0 to 499\n",
      "Data columns (total 8 columns):\n",
      " #   Column      Non-Null Count  Dtype \n",
      "---  ------      --------------  ----- \n",
      " 0   user_id     500 non-null    int64 \n",
      " 1   first_name  500 non-null    object\n",
      " 2   last_name   500 non-null    object\n",
      " 3   age         500 non-null    int64 \n",
      " 4   city        500 non-null    object\n",
      " 5   reg_date    500 non-null    object\n",
      " 6   plan        500 non-null    object\n",
      " 7   churn_date  34 non-null     object\n",
      "dtypes: int64(2), object(6)\n",
      "memory usage: 31.4+ KB\n",
      "None\n"
     ]
    },
    {
     "data": {
      "text/html": [
       "<div>\n",
       "<style scoped>\n",
       "    .dataframe tbody tr th:only-of-type {\n",
       "        vertical-align: middle;\n",
       "    }\n",
       "\n",
       "    .dataframe tbody tr th {\n",
       "        vertical-align: top;\n",
       "    }\n",
       "\n",
       "    .dataframe thead th {\n",
       "        text-align: right;\n",
       "    }\n",
       "</style>\n",
       "<table border=\"1\" class=\"dataframe\">\n",
       "  <thead>\n",
       "    <tr style=\"text-align: right;\">\n",
       "      <th></th>\n",
       "      <th>user_id</th>\n",
       "      <th>first_name</th>\n",
       "      <th>last_name</th>\n",
       "      <th>age</th>\n",
       "      <th>city</th>\n",
       "      <th>reg_date</th>\n",
       "      <th>plan</th>\n",
       "      <th>churn_date</th>\n",
       "    </tr>\n",
       "  </thead>\n",
       "  <tbody>\n",
       "    <tr>\n",
       "      <th>0</th>\n",
       "      <td>1000</td>\n",
       "      <td>Anamaria</td>\n",
       "      <td>Bauer</td>\n",
       "      <td>45</td>\n",
       "      <td>Atlanta-Sandy Springs-Roswell, GA MSA</td>\n",
       "      <td>2018-12-24</td>\n",
       "      <td>ultimate</td>\n",
       "      <td>NaN</td>\n",
       "    </tr>\n",
       "    <tr>\n",
       "      <th>1</th>\n",
       "      <td>1001</td>\n",
       "      <td>Mickey</td>\n",
       "      <td>Wilkerson</td>\n",
       "      <td>28</td>\n",
       "      <td>Seattle-Tacoma-Bellevue, WA MSA</td>\n",
       "      <td>2018-08-13</td>\n",
       "      <td>surf</td>\n",
       "      <td>NaN</td>\n",
       "    </tr>\n",
       "    <tr>\n",
       "      <th>2</th>\n",
       "      <td>1002</td>\n",
       "      <td>Carlee</td>\n",
       "      <td>Hoffman</td>\n",
       "      <td>36</td>\n",
       "      <td>Las Vegas-Henderson-Paradise, NV MSA</td>\n",
       "      <td>2018-10-21</td>\n",
       "      <td>surf</td>\n",
       "      <td>NaN</td>\n",
       "    </tr>\n",
       "    <tr>\n",
       "      <th>3</th>\n",
       "      <td>1003</td>\n",
       "      <td>Reynaldo</td>\n",
       "      <td>Jenkins</td>\n",
       "      <td>52</td>\n",
       "      <td>Tulsa, OK MSA</td>\n",
       "      <td>2018-01-28</td>\n",
       "      <td>surf</td>\n",
       "      <td>NaN</td>\n",
       "    </tr>\n",
       "    <tr>\n",
       "      <th>4</th>\n",
       "      <td>1004</td>\n",
       "      <td>Leonila</td>\n",
       "      <td>Thompson</td>\n",
       "      <td>40</td>\n",
       "      <td>Seattle-Tacoma-Bellevue, WA MSA</td>\n",
       "      <td>2018-05-23</td>\n",
       "      <td>surf</td>\n",
       "      <td>NaN</td>\n",
       "    </tr>\n",
       "  </tbody>\n",
       "</table>\n",
       "</div>"
      ],
      "text/plain": [
       "   user_id first_name  last_name  age                                   city  \\\n",
       "0     1000   Anamaria      Bauer   45  Atlanta-Sandy Springs-Roswell, GA MSA   \n",
       "1     1001     Mickey  Wilkerson   28        Seattle-Tacoma-Bellevue, WA MSA   \n",
       "2     1002     Carlee    Hoffman   36   Las Vegas-Henderson-Paradise, NV MSA   \n",
       "3     1003   Reynaldo    Jenkins   52                          Tulsa, OK MSA   \n",
       "4     1004    Leonila   Thompson   40        Seattle-Tacoma-Bellevue, WA MSA   \n",
       "\n",
       "     reg_date      plan churn_date  \n",
       "0  2018-12-24  ultimate        NaN  \n",
       "1  2018-08-13      surf        NaN  \n",
       "2  2018-10-21      surf        NaN  \n",
       "3  2018-01-28      surf        NaN  \n",
       "4  2018-05-23      surf        NaN  "
      ]
     },
     "metadata": {},
     "output_type": "display_data"
    }
   ],
   "source": [
    "# Carga los archivos de datos en diferentes DataFrames\n",
    "calls = pd.read_csv(\"megaline_calls.csv\")\n",
    "internet = pd.read_csv(\"megaline_internet.csv\")\n",
    "messages = pd.read_csv(\"megaline_messages.csv\")\n",
    "plans = pd.read_csv(\"megaline_plans.csv\")\n",
    "users = pd.read_csv(\"megaline_users.csv\")\n",
    "\n",
    "print(\"Información de llamadas:\")\n",
    "print(calls.info())\n",
    "display(calls.head())\n",
    "\n",
    "print(\"\\nInformación de uso de internet:\")\n",
    "print(internet.info())\n",
    "display(internet.head())\n",
    "\n",
    "print(\"\\nInformación de mensajes:\")\n",
    "print(messages.info())\n",
    "display(messages.head())\n",
    "\n",
    "print(\"\\nInformación de planes:\")\n",
    "print(plans.info())\n",
    "display(plans.head())\n",
    "\n",
    "print(\"\\nInformación de usuarios:\")\n",
    "print(users.info())\n",
    "display(users.head())\n"
   ]
  },
  {
   "cell_type": "markdown",
   "metadata": {
    "id": "69qqoJ3r0q01"
   },
   "source": [
    "## Preparar los datos"
   ]
  },
  {
   "cell_type": "markdown",
   "metadata": {
    "id": "vUuZw80S0q01"
   },
   "source": [
    "[Los datos para este proyecto se dividen en varias tablas. Explora cada una para tener una comprensión inicial de los datos. Si es necesario, haz las correcciones requeridas en cada tabla.]"
   ]
  },
  {
   "cell_type": "code",
   "execution_count": 12,
   "metadata": {
    "trusted": true
   },
   "outputs": [
    {
     "name": "stdout",
     "output_type": "stream",
     "text": [
      "<class 'pandas.core.frame.DataFrame'>\n",
      "RangeIndex: 137735 entries, 0 to 137734\n",
      "Data columns (total 4 columns):\n",
      " #   Column     Non-Null Count   Dtype         \n",
      "---  ------     --------------   -----         \n",
      " 0   id         137735 non-null  object        \n",
      " 1   user_id    137735 non-null  int64         \n",
      " 2   call_date  137735 non-null  datetime64[ns]\n",
      " 3   duration   137735 non-null  float64       \n",
      "dtypes: datetime64[ns](1), float64(1), int64(1), object(1)\n",
      "memory usage: 4.2+ MB\n",
      "None\n",
      "<class 'pandas.core.frame.DataFrame'>\n",
      "RangeIndex: 104825 entries, 0 to 104824\n",
      "Data columns (total 4 columns):\n",
      " #   Column        Non-Null Count   Dtype         \n",
      "---  ------        --------------   -----         \n",
      " 0   id            104825 non-null  object        \n",
      " 1   user_id       104825 non-null  int64         \n",
      " 2   session_date  104825 non-null  datetime64[ns]\n",
      " 3   mb_used       104825 non-null  float64       \n",
      "dtypes: datetime64[ns](1), float64(1), int64(1), object(1)\n",
      "memory usage: 3.2+ MB\n",
      "None\n",
      "<class 'pandas.core.frame.DataFrame'>\n",
      "RangeIndex: 76051 entries, 0 to 76050\n",
      "Data columns (total 3 columns):\n",
      " #   Column        Non-Null Count  Dtype         \n",
      "---  ------        --------------  -----         \n",
      " 0   id            76051 non-null  object        \n",
      " 1   user_id       76051 non-null  int64         \n",
      " 2   message_date  76051 non-null  datetime64[ns]\n",
      "dtypes: datetime64[ns](1), int64(1), object(1)\n",
      "memory usage: 1.7+ MB\n",
      "None\n",
      "<class 'pandas.core.frame.DataFrame'>\n",
      "RangeIndex: 500 entries, 0 to 499\n",
      "Data columns (total 8 columns):\n",
      " #   Column      Non-Null Count  Dtype         \n",
      "---  ------      --------------  -----         \n",
      " 0   user_id     500 non-null    int64         \n",
      " 1   first_name  500 non-null    object        \n",
      " 2   last_name   500 non-null    object        \n",
      " 3   age         500 non-null    int64         \n",
      " 4   city        500 non-null    object        \n",
      " 5   reg_date    500 non-null    datetime64[ns]\n",
      " 6   plan        500 non-null    object        \n",
      " 7   churn_date  34 non-null     datetime64[ns]\n",
      "dtypes: datetime64[ns](2), int64(2), object(4)\n",
      "memory usage: 31.4+ KB\n",
      "None\n",
      "\n",
      "Número de duplicados en 'calls': 0\n",
      "\n",
      "Número de duplicados en 'internet': 0\n",
      "\n",
      "Número de duplicados en 'messages': 0\n",
      "\n",
      "Número de duplicados en 'users': 0\n"
     ]
    }
   ],
   "source": [
    "calls['call_date'] = pd.to_datetime(calls['call_date'])\n",
    "internet['session_date'] = pd.to_datetime(internet['session_date'])\n",
    "messages['message_date'] = pd.to_datetime(messages['message_date'])\n",
    "users['reg_date'] = pd.to_datetime(users['reg_date'])\n",
    "users['churn_date'] = pd.to_datetime(users['churn_date'])\n",
    "\n",
    "print(calls.info())\n",
    "print(internet.info())\n",
    "print(messages.info())\n",
    "print(users.info())\n",
    "\n",
    "print(\"\\nNúmero de duplicados en 'calls':\", calls['id'].duplicated().sum())\n",
    "print(\"\\nNúmero de duplicados en 'internet':\", internet['id'].duplicated().sum())\n",
    "print(\"\\nNúmero de duplicados en 'messages':\", messages['id'].duplicated().sum())\n",
    "print(\"\\nNúmero de duplicados en 'users':\", users['user_id'].duplicated().sum())                                                                "
   ]
  },
  {
   "cell_type": "code",
   "execution_count": 13,
   "metadata": {
    "trusted": true
   },
   "outputs": [
    {
     "name": "stdout",
     "output_type": "stream",
     "text": [
      "<class 'pandas.core.frame.DataFrame'>\n",
      "RangeIndex: 137735 entries, 0 to 137734\n",
      "Data columns (total 4 columns):\n",
      " #   Column     Non-Null Count   Dtype         \n",
      "---  ------     --------------   -----         \n",
      " 0   id         137735 non-null  object        \n",
      " 1   user_id    137735 non-null  int64         \n",
      " 2   call_date  137735 non-null  datetime64[ns]\n",
      " 3   duration   137735 non-null  float64       \n",
      "dtypes: datetime64[ns](1), float64(1), int64(1), object(1)\n",
      "memory usage: 4.2+ MB\n",
      "None\n",
      "<class 'pandas.core.frame.DataFrame'>\n",
      "RangeIndex: 104825 entries, 0 to 104824\n",
      "Data columns (total 4 columns):\n",
      " #   Column        Non-Null Count   Dtype         \n",
      "---  ------        --------------   -----         \n",
      " 0   id            104825 non-null  object        \n",
      " 1   user_id       104825 non-null  int64         \n",
      " 2   session_date  104825 non-null  datetime64[ns]\n",
      " 3   mb_used       104825 non-null  float64       \n",
      "dtypes: datetime64[ns](1), float64(1), int64(1), object(1)\n",
      "memory usage: 3.2+ MB\n",
      "None\n",
      "<class 'pandas.core.frame.DataFrame'>\n",
      "RangeIndex: 76051 entries, 0 to 76050\n",
      "Data columns (total 3 columns):\n",
      " #   Column        Non-Null Count  Dtype         \n",
      "---  ------        --------------  -----         \n",
      " 0   id            76051 non-null  object        \n",
      " 1   user_id       76051 non-null  int64         \n",
      " 2   message_date  76051 non-null  datetime64[ns]\n",
      "dtypes: datetime64[ns](1), int64(1), object(1)\n",
      "memory usage: 1.7+ MB\n",
      "None\n",
      "<class 'pandas.core.frame.DataFrame'>\n",
      "RangeIndex: 500 entries, 0 to 499\n",
      "Data columns (total 8 columns):\n",
      " #   Column      Non-Null Count  Dtype         \n",
      "---  ------      --------------  -----         \n",
      " 0   user_id     500 non-null    int64         \n",
      " 1   first_name  500 non-null    object        \n",
      " 2   last_name   500 non-null    object        \n",
      " 3   age         500 non-null    int64         \n",
      " 4   city        500 non-null    object        \n",
      " 5   reg_date    500 non-null    datetime64[ns]\n",
      " 6   plan        500 non-null    object        \n",
      " 7   churn_date  34 non-null     datetime64[ns]\n",
      "dtypes: datetime64[ns](2), int64(2), object(4)\n",
      "memory usage: 31.4+ KB\n",
      "None\n"
     ]
    }
   ],
   "source": [
    "# Vericar información\n",
    "print(calls.info())\n",
    "print(internet.info())\n",
    "print(messages.info())\n",
    "print(users.info())\n"
   ]
  },
  {
   "cell_type": "markdown",
   "metadata": {
    "id": "ohBhimvH0q01"
   },
   "source": [
    "## Tarifas"
   ]
  },
  {
   "cell_type": "code",
   "execution_count": 14,
   "metadata": {
    "id": "GptqP3Q40q02",
    "scrolled": true,
    "trusted": true
   },
   "outputs": [
    {
     "name": "stdout",
     "output_type": "stream",
     "text": [
      "Infomación general del DataFrame 'plans':\n",
      "<class 'pandas.core.frame.DataFrame'>\n",
      "RangeIndex: 2 entries, 0 to 1\n",
      "Data columns (total 8 columns):\n",
      " #   Column                 Non-Null Count  Dtype  \n",
      "---  ------                 --------------  -----  \n",
      " 0   messages_included      2 non-null      int64  \n",
      " 1   mb_per_month_included  2 non-null      int64  \n",
      " 2   minutes_included       2 non-null      int64  \n",
      " 3   usd_monthly_pay        2 non-null      int64  \n",
      " 4   usd_per_gb             2 non-null      int64  \n",
      " 5   usd_per_message        2 non-null      float64\n",
      " 6   usd_per_minute         2 non-null      float64\n",
      " 7   plan_name              2 non-null      object \n",
      "dtypes: float64(2), int64(5), object(1)\n",
      "memory usage: 260.0+ bytes\n",
      "None\n",
      "\n",
      "Estadísticas descriptivas del DataFrame 'plans:\n",
      "       messages_included  mb_per_month_included  minutes_included  \\\n",
      "count           2.000000               2.000000          2.000000   \n",
      "mean          525.000000           23040.000000       1750.000000   \n",
      "std           671.751442           10861.160159       1767.766953   \n",
      "min            50.000000           15360.000000        500.000000   \n",
      "25%           287.500000           19200.000000       1125.000000   \n",
      "50%           525.000000           23040.000000       1750.000000   \n",
      "75%           762.500000           26880.000000       2375.000000   \n",
      "max          1000.000000           30720.000000       3000.000000   \n",
      "\n",
      "       usd_monthly_pay  usd_per_gb  usd_per_message  usd_per_minute  \n",
      "count         2.000000     2.00000         2.000000        2.000000  \n",
      "mean         45.000000     8.50000         0.020000        0.020000  \n",
      "std          35.355339     2.12132         0.014142        0.014142  \n",
      "min          20.000000     7.00000         0.010000        0.010000  \n",
      "25%          32.500000     7.75000         0.015000        0.015000  \n",
      "50%          45.000000     8.50000         0.020000        0.020000  \n",
      "75%          57.500000     9.25000         0.025000        0.025000  \n",
      "max          70.000000    10.00000         0.030000        0.030000  \n",
      "\n",
      "Primeras filas del DataFrame 'plans':\n"
     ]
    },
    {
     "data": {
      "text/html": [
       "<div>\n",
       "<style scoped>\n",
       "    .dataframe tbody tr th:only-of-type {\n",
       "        vertical-align: middle;\n",
       "    }\n",
       "\n",
       "    .dataframe tbody tr th {\n",
       "        vertical-align: top;\n",
       "    }\n",
       "\n",
       "    .dataframe thead th {\n",
       "        text-align: right;\n",
       "    }\n",
       "</style>\n",
       "<table border=\"1\" class=\"dataframe\">\n",
       "  <thead>\n",
       "    <tr style=\"text-align: right;\">\n",
       "      <th></th>\n",
       "      <th>messages_included</th>\n",
       "      <th>mb_per_month_included</th>\n",
       "      <th>minutes_included</th>\n",
       "      <th>usd_monthly_pay</th>\n",
       "      <th>usd_per_gb</th>\n",
       "      <th>usd_per_message</th>\n",
       "      <th>usd_per_minute</th>\n",
       "      <th>plan_name</th>\n",
       "    </tr>\n",
       "  </thead>\n",
       "  <tbody>\n",
       "    <tr>\n",
       "      <th>0</th>\n",
       "      <td>50</td>\n",
       "      <td>15360</td>\n",
       "      <td>500</td>\n",
       "      <td>20</td>\n",
       "      <td>10</td>\n",
       "      <td>0.03</td>\n",
       "      <td>0.03</td>\n",
       "      <td>surf</td>\n",
       "    </tr>\n",
       "    <tr>\n",
       "      <th>1</th>\n",
       "      <td>1000</td>\n",
       "      <td>30720</td>\n",
       "      <td>3000</td>\n",
       "      <td>70</td>\n",
       "      <td>7</td>\n",
       "      <td>0.01</td>\n",
       "      <td>0.01</td>\n",
       "      <td>ultimate</td>\n",
       "    </tr>\n",
       "  </tbody>\n",
       "</table>\n",
       "</div>"
      ],
      "text/plain": [
       "   messages_included  mb_per_month_included  minutes_included  \\\n",
       "0                 50                  15360               500   \n",
       "1               1000                  30720              3000   \n",
       "\n",
       "   usd_monthly_pay  usd_per_gb  usd_per_message  usd_per_minute plan_name  \n",
       "0               20          10             0.03            0.03      surf  \n",
       "1               70           7             0.01            0.01  ultimate  "
      ]
     },
     "metadata": {},
     "output_type": "display_data"
    }
   ],
   "source": [
    "# Imprime la información general/resumida sobre el DataFrame de las tarifas\n",
    "\n",
    "print(\"Infomación general del DataFrame 'plans':\")\n",
    "print(plans.info())\n",
    "\n",
    "\n",
    "print(\"\\nEstadísticas descriptivas del DataFrame 'plans:\")\n",
    "print(plans.describe())\n",
    "\n",
    "print(\"\\nPrimeras filas del DataFrame 'plans':\")\n",
    "display(plans.head())\n"
   ]
  },
  {
   "cell_type": "code",
   "execution_count": 15,
   "metadata": {
    "id": "64xzjwL70q02",
    "trusted": true
   },
   "outputs": [
    {
     "name": "stdout",
     "output_type": "stream",
     "text": [
      "\n",
      "Muestra de datos del DataFrame 'plans':\n"
     ]
    },
    {
     "data": {
      "text/html": [
       "<div>\n",
       "<style scoped>\n",
       "    .dataframe tbody tr th:only-of-type {\n",
       "        vertical-align: middle;\n",
       "    }\n",
       "\n",
       "    .dataframe tbody tr th {\n",
       "        vertical-align: top;\n",
       "    }\n",
       "\n",
       "    .dataframe thead th {\n",
       "        text-align: right;\n",
       "    }\n",
       "</style>\n",
       "<table border=\"1\" class=\"dataframe\">\n",
       "  <thead>\n",
       "    <tr style=\"text-align: right;\">\n",
       "      <th></th>\n",
       "      <th>messages_included</th>\n",
       "      <th>mb_per_month_included</th>\n",
       "      <th>minutes_included</th>\n",
       "      <th>usd_monthly_pay</th>\n",
       "      <th>usd_per_gb</th>\n",
       "      <th>usd_per_message</th>\n",
       "      <th>usd_per_minute</th>\n",
       "      <th>plan_name</th>\n",
       "    </tr>\n",
       "  </thead>\n",
       "  <tbody>\n",
       "    <tr>\n",
       "      <th>0</th>\n",
       "      <td>50</td>\n",
       "      <td>15360</td>\n",
       "      <td>500</td>\n",
       "      <td>20</td>\n",
       "      <td>10</td>\n",
       "      <td>0.03</td>\n",
       "      <td>0.03</td>\n",
       "      <td>surf</td>\n",
       "    </tr>\n",
       "    <tr>\n",
       "      <th>1</th>\n",
       "      <td>1000</td>\n",
       "      <td>30720</td>\n",
       "      <td>3000</td>\n",
       "      <td>70</td>\n",
       "      <td>7</td>\n",
       "      <td>0.01</td>\n",
       "      <td>0.01</td>\n",
       "      <td>ultimate</td>\n",
       "    </tr>\n",
       "  </tbody>\n",
       "</table>\n",
       "</div>"
      ],
      "text/plain": [
       "   messages_included  mb_per_month_included  minutes_included  \\\n",
       "0                 50                  15360               500   \n",
       "1               1000                  30720              3000   \n",
       "\n",
       "   usd_monthly_pay  usd_per_gb  usd_per_message  usd_per_minute plan_name  \n",
       "0               20          10             0.03            0.03      surf  \n",
       "1               70           7             0.01            0.01  ultimate  "
      ]
     },
     "metadata": {},
     "output_type": "display_data"
    }
   ],
   "source": [
    "# Imprime una muestra de datos para las tarifas\n",
    "\n",
    "print(\"\\nMuestra de datos del DataFrame 'plans':\")\n",
    "display(plans.sample(2))"
   ]
  },
  {
   "cell_type": "markdown",
   "metadata": {
    "id": "mEc_3_hs0q02"
   },
   "source": [
    "[Describe lo que ves y observas en la información general y en la muestra de datos impresa para el precio de datos anterior. ¿Hay algún problema (tipos de datos no adecuados, datos ausentes, etc.) que pudieran necesitar investigación y cambios adicionales? ¿Cómo se puede arreglar?]\n",
    "Información general: Revisé los tipos de datos en las columnas, de manera que pude observar el error en la columna mb_per_month_included, en primera instancia se observa expresada en Megabytes pero deberia decir Gigabytes así gb_per_month_included, remplazaré dichos datos de manera correcta, también noto que en el nombre de las columnas, \"mb_per_month_included\" está en MB, pero \"usd_per_gb\" está en GB. Esto puede causar confusión, ya que las unidades no son consistentes. Sería mejor estandarizar todas las columnas relacionadas con datos en GB.\n",
    "Además verificaré la ortografía de los nombres de las columnas. \"mb_per_month_included\" podría escribirse mejor como \"gb_per_month_included\" si cambiamos a GB. Además, \"usd_per_gb\" debería ser coherente con las otras columnas.\n",
    "\n",
    "Sería útil añadir más detalles a los planes, como una descripción o beneficios adicionales, para enriquecer el conjunto de datos.\n",
    "\n"
   ]
  },
  {
   "cell_type": "markdown",
   "metadata": {
    "id": "R3C05i1l0q03"
   },
   "source": [
    "## Corregir datos"
   ]
  },
  {
   "cell_type": "markdown",
   "metadata": {
    "id": "bIi8StZI0q03"
   },
   "source": [
    "[Corrige los problemas obvios con los datos basándote en las observaciones iniciales.]"
   ]
  },
  {
   "cell_type": "code",
   "execution_count": 16,
   "metadata": {
    "id": "Y7SVmjGn0q03",
    "trusted": true
   },
   "outputs": [
    {
     "data": {
      "text/html": [
       "<div>\n",
       "<style scoped>\n",
       "    .dataframe tbody tr th:only-of-type {\n",
       "        vertical-align: middle;\n",
       "    }\n",
       "\n",
       "    .dataframe tbody tr th {\n",
       "        vertical-align: top;\n",
       "    }\n",
       "\n",
       "    .dataframe thead th {\n",
       "        text-align: right;\n",
       "    }\n",
       "</style>\n",
       "<table border=\"1\" class=\"dataframe\">\n",
       "  <thead>\n",
       "    <tr style=\"text-align: right;\">\n",
       "      <th></th>\n",
       "      <th>included_messages</th>\n",
       "      <th>mb_per_month_included</th>\n",
       "      <th>included_minutes</th>\n",
       "      <th>usd_monthly_pay</th>\n",
       "      <th>usd_per_gb</th>\n",
       "      <th>usd_per_message</th>\n",
       "      <th>usd_per_minute</th>\n",
       "      <th>plan_name</th>\n",
       "      <th>plan_id</th>\n",
       "    </tr>\n",
       "  </thead>\n",
       "  <tbody>\n",
       "    <tr>\n",
       "      <th>0</th>\n",
       "      <td>50</td>\n",
       "      <td>15360</td>\n",
       "      <td>500</td>\n",
       "      <td>20</td>\n",
       "      <td>10</td>\n",
       "      <td>0.03</td>\n",
       "      <td>0.03</td>\n",
       "      <td>surf</td>\n",
       "      <td>1</td>\n",
       "    </tr>\n",
       "    <tr>\n",
       "      <th>1</th>\n",
       "      <td>1000</td>\n",
       "      <td>30720</td>\n",
       "      <td>3000</td>\n",
       "      <td>70</td>\n",
       "      <td>7</td>\n",
       "      <td>0.01</td>\n",
       "      <td>0.01</td>\n",
       "      <td>ultimate</td>\n",
       "      <td>2</td>\n",
       "    </tr>\n",
       "  </tbody>\n",
       "</table>\n",
       "</div>"
      ],
      "text/plain": [
       "   included_messages  mb_per_month_included  included_minutes  \\\n",
       "0                 50                  15360               500   \n",
       "1               1000                  30720              3000   \n",
       "\n",
       "   usd_monthly_pay  usd_per_gb  usd_per_message  usd_per_minute plan_name  \\\n",
       "0               20          10             0.03            0.03      surf   \n",
       "1               70           7             0.01            0.01  ultimate   \n",
       "\n",
       "   plan_id  \n",
       "0        1  \n",
       "1        2  "
      ]
     },
     "execution_count": 16,
     "metadata": {},
     "output_type": "execute_result"
    }
   ],
   "source": [
    "# Renombrar columnas \n",
    "plans = plans.rename(columns={ \n",
    "    'messages_included': 'included_messages',\n",
    "    'minutes_included':'included_minutes',\n",
    "})\n",
    "\n",
    "# Agregar una columna de ID para cada plan\n",
    "plans['plan_id'] =[1,2]\n",
    "\n",
    "# Ver el DataFrame actualizado\n",
    "plans"
   ]
  },
  {
   "cell_type": "markdown",
   "metadata": {
    "id": "LJir7bml0q03"
   },
   "source": [
    "## Enriquecer los datos"
   ]
  },
  {
   "cell_type": "markdown",
   "metadata": {
    "id": "eqADpCfg0q04"
   },
   "source": [
    "[Agrega factores adicionales a los datos si crees que pudieran ser útiles.]"
   ]
  },
  {
   "cell_type": "code",
   "execution_count": 17,
   "metadata": {
    "id": "gfcIEuXV0q04",
    "trusted": true
   },
   "outputs": [
    {
     "data": {
      "text/html": [
       "<div>\n",
       "<style scoped>\n",
       "    .dataframe tbody tr th:only-of-type {\n",
       "        vertical-align: middle;\n",
       "    }\n",
       "\n",
       "    .dataframe tbody tr th {\n",
       "        vertical-align: top;\n",
       "    }\n",
       "\n",
       "    .dataframe thead th {\n",
       "        text-align: right;\n",
       "    }\n",
       "</style>\n",
       "<table border=\"1\" class=\"dataframe\">\n",
       "  <thead>\n",
       "    <tr style=\"text-align: right;\">\n",
       "      <th></th>\n",
       "      <th>included_messages</th>\n",
       "      <th>included_gb_per_month</th>\n",
       "      <th>included_minutes</th>\n",
       "      <th>usd_monthly_pay</th>\n",
       "      <th>usd_per_gb</th>\n",
       "      <th>usd_per_message</th>\n",
       "      <th>usd_per_minute</th>\n",
       "      <th>plan_name</th>\n",
       "      <th>plan_id</th>\n",
       "    </tr>\n",
       "  </thead>\n",
       "  <tbody>\n",
       "    <tr>\n",
       "      <th>0</th>\n",
       "      <td>50</td>\n",
       "      <td>15</td>\n",
       "      <td>500</td>\n",
       "      <td>20</td>\n",
       "      <td>10</td>\n",
       "      <td>0.03</td>\n",
       "      <td>0.03</td>\n",
       "      <td>surf</td>\n",
       "      <td>1</td>\n",
       "    </tr>\n",
       "    <tr>\n",
       "      <th>1</th>\n",
       "      <td>1000</td>\n",
       "      <td>30</td>\n",
       "      <td>3000</td>\n",
       "      <td>70</td>\n",
       "      <td>7</td>\n",
       "      <td>0.01</td>\n",
       "      <td>0.01</td>\n",
       "      <td>ultimate</td>\n",
       "      <td>2</td>\n",
       "    </tr>\n",
       "  </tbody>\n",
       "</table>\n",
       "</div>"
      ],
      "text/plain": [
       "   included_messages  included_gb_per_month  included_minutes  \\\n",
       "0                 50                     15               500   \n",
       "1               1000                     30              3000   \n",
       "\n",
       "   usd_monthly_pay  usd_per_gb  usd_per_message  usd_per_minute plan_name  \\\n",
       "0               20          10             0.03            0.03      surf   \n",
       "1               70           7             0.01            0.01  ultimate   \n",
       "\n",
       "   plan_id  \n",
       "0        1  \n",
       "1        2  "
      ]
     },
     "execution_count": 17,
     "metadata": {},
     "output_type": "execute_result"
    }
   ],
   "source": [
    "# Se convierten MB a GB\n",
    "plans['mb_per_month_included'] = plans['mb_per_month_included'] / 1024\n",
    "\n",
    "# Se cambia el tipo de valor de la columna a int:\n",
    "plans[\"mb_per_month_included\"] = plans['mb_per_month_included'].astype(int)\n",
    "\n",
    "# Se cambia el nombre de la columna de 'mb_per_month_included' a 'gb_per_month_included'\n",
    "plans.rename(columns = {'mb_per_month_included': 'included_gb_per_month'}, inplace = True)\n",
    "plans\n"
   ]
  },
  {
   "cell_type": "markdown",
   "metadata": {
    "id": "1n2X6WXf0q04"
   },
   "source": [
    "## Usuarios/as"
   ]
  },
  {
   "cell_type": "code",
   "execution_count": 18,
   "metadata": {
    "id": "2NgjWFqx0q05",
    "scrolled": true,
    "trusted": true
   },
   "outputs": [
    {
     "name": "stdout",
     "output_type": "stream",
     "text": [
      "Información general del DataFrame 'users':\n",
      "<class 'pandas.core.frame.DataFrame'>\n",
      "RangeIndex: 500 entries, 0 to 499\n",
      "Data columns (total 8 columns):\n",
      " #   Column      Non-Null Count  Dtype         \n",
      "---  ------      --------------  -----         \n",
      " 0   user_id     500 non-null    int64         \n",
      " 1   first_name  500 non-null    object        \n",
      " 2   last_name   500 non-null    object        \n",
      " 3   age         500 non-null    int64         \n",
      " 4   city        500 non-null    object        \n",
      " 5   reg_date    500 non-null    datetime64[ns]\n",
      " 6   plan        500 non-null    object        \n",
      " 7   churn_date  34 non-null     datetime64[ns]\n",
      "dtypes: datetime64[ns](2), int64(2), object(4)\n",
      "memory usage: 31.4+ KB\n"
     ]
    }
   ],
   "source": [
    "# Imprime la información general/resumida sobre el DataFrame de usuarios\n",
    "print(\"Información general del DataFrame 'users':\")\n",
    "users.info()"
   ]
  },
  {
   "cell_type": "code",
   "execution_count": 19,
   "metadata": {
    "id": "1IN1L9uh0q05",
    "trusted": true
   },
   "outputs": [
    {
     "name": "stdout",
     "output_type": "stream",
     "text": [
      "\n",
      "Muestra de datos del DataFrame 'users':\n"
     ]
    },
    {
     "data": {
      "text/html": [
       "<div>\n",
       "<style scoped>\n",
       "    .dataframe tbody tr th:only-of-type {\n",
       "        vertical-align: middle;\n",
       "    }\n",
       "\n",
       "    .dataframe tbody tr th {\n",
       "        vertical-align: top;\n",
       "    }\n",
       "\n",
       "    .dataframe thead th {\n",
       "        text-align: right;\n",
       "    }\n",
       "</style>\n",
       "<table border=\"1\" class=\"dataframe\">\n",
       "  <thead>\n",
       "    <tr style=\"text-align: right;\">\n",
       "      <th></th>\n",
       "      <th>user_id</th>\n",
       "      <th>first_name</th>\n",
       "      <th>last_name</th>\n",
       "      <th>age</th>\n",
       "      <th>city</th>\n",
       "      <th>reg_date</th>\n",
       "      <th>plan</th>\n",
       "      <th>churn_date</th>\n",
       "    </tr>\n",
       "  </thead>\n",
       "  <tbody>\n",
       "    <tr>\n",
       "      <th>450</th>\n",
       "      <td>1450</td>\n",
       "      <td>Errol</td>\n",
       "      <td>Marquez</td>\n",
       "      <td>67</td>\n",
       "      <td>Bakersfield, CA MSA</td>\n",
       "      <td>2018-06-16</td>\n",
       "      <td>ultimate</td>\n",
       "      <td>NaT</td>\n",
       "    </tr>\n",
       "    <tr>\n",
       "      <th>217</th>\n",
       "      <td>1217</td>\n",
       "      <td>Ned</td>\n",
       "      <td>Thomas</td>\n",
       "      <td>69</td>\n",
       "      <td>Dayton-Kettering, OH MSA</td>\n",
       "      <td>2018-06-04</td>\n",
       "      <td>surf</td>\n",
       "      <td>NaT</td>\n",
       "    </tr>\n",
       "    <tr>\n",
       "      <th>384</th>\n",
       "      <td>1384</td>\n",
       "      <td>Dominique</td>\n",
       "      <td>Good</td>\n",
       "      <td>36</td>\n",
       "      <td>Philadelphia-Camden-Wilmington, PA-NJ-DE-MD MSA</td>\n",
       "      <td>2018-06-09</td>\n",
       "      <td>ultimate</td>\n",
       "      <td>NaT</td>\n",
       "    </tr>\n",
       "  </tbody>\n",
       "</table>\n",
       "</div>"
      ],
      "text/plain": [
       "     user_id first_name last_name  age  \\\n",
       "450     1450      Errol   Marquez   67   \n",
       "217     1217        Ned    Thomas   69   \n",
       "384     1384  Dominique      Good   36   \n",
       "\n",
       "                                                city   reg_date      plan  \\\n",
       "450                              Bakersfield, CA MSA 2018-06-16  ultimate   \n",
       "217                         Dayton-Kettering, OH MSA 2018-06-04      surf   \n",
       "384  Philadelphia-Camden-Wilmington, PA-NJ-DE-MD MSA 2018-06-09  ultimate   \n",
       "\n",
       "    churn_date  \n",
       "450        NaT  \n",
       "217        NaT  \n",
       "384        NaT  "
      ]
     },
     "metadata": {},
     "output_type": "display_data"
    }
   ],
   "source": [
    "# Imprime una muestra de datos para usuarios\n",
    "print(\"\\nMuestra de datos del DataFrame 'users':\")\n",
    "users.head(5)\n",
    "display(users.sample(3))"
   ]
  },
  {
   "cell_type": "markdown",
   "metadata": {
    "id": "dCZoUq4f0q06"
   },
   "source": [
    "# [Describe lo que ves y observas en la información general y en la muestra de datos impresa para el precio de datos anterior. ¿Hay algún problema (tipos de datos no adecuados, datos ausentes, etc.) que pudieran necesitar investigación y cambios adicionales? ¿Cómo se puede arreglar?]\n",
    "\n",
    "Puedo notar de primera instancia que en algunas filas la columna \"churn_date\" está vacía. Esto podría ser intencional (usuarios activos) o un error si se esperaba una fecha, verificaré si los valores vacíos son válidos o si deberían ser llenados con algún valor.\n",
    "\n",
    "Las fechas en \"reg_date\" y \"churn_date\" deben estar en un formato consistente como YYYY-MM-DD. Verificaré si todas las fechas siguen este formato.\n",
    "\n",
    "Algunas ciudades tienen nombres largos con guiones y comas. Mé aseguraré de que los nombres de las MSA (Áreas Estadísticas Metropolitanas) estén correctamente escritos y sean consistentes.\n",
    "\n",
    "Además, para enriquecer los datos, consideraré agregar nuevas columnas que proporcionen más contexto, como:\n",
    "\n",
    "Duración de la suscripción: Calculada como la diferencia entre \"churn_date\" y \"reg_date\" para los usuarios que han dado de baja el servicio.\n",
    "\n",
    "Grupo de edad: Categorizar a los usuarios en grupos como \"18-25\", \"26-35\", etc.\n",
    "\n",
    "Región geográfica: Simplificar las MSA a estados o regiones más amplias para análisis demográficos.\n",
    "\n",
    "Estado actual del usuario: Indicar si el usuario está \"Activo\" o \"Inactivo\" basado en la presencia de \"churn_date\"."
   ]
  },
  {
   "cell_type": "markdown",
   "metadata": {
    "id": "BX5FQh_I0q06"
   },
   "source": [
    "### Corregir los datos"
   ]
  },
  {
   "cell_type": "markdown",
   "metadata": {
    "id": "8OdKMwJv0q06"
   },
   "source": [
    "[Corrige los problemas obvios con los datos basándote en las observaciones iniciales.]"
   ]
  },
  {
   "cell_type": "code",
   "execution_count": 20,
   "metadata": {
    "id": "yUqX-K0C0q07",
    "trusted": true
   },
   "outputs": [
    {
     "name": "stdout",
     "output_type": "stream",
     "text": [
      "<class 'pandas.core.frame.DataFrame'>\n",
      "RangeIndex: 500 entries, 0 to 499\n",
      "Data columns (total 8 columns):\n",
      " #   Column      Non-Null Count  Dtype         \n",
      "---  ------      --------------  -----         \n",
      " 0   user_id     500 non-null    int64         \n",
      " 1   first_name  500 non-null    object        \n",
      " 2   last_name   500 non-null    object        \n",
      " 3   age         500 non-null    int64         \n",
      " 4   city        500 non-null    object        \n",
      " 5   reg_date    500 non-null    datetime64[ns]\n",
      " 6   plan        500 non-null    object        \n",
      " 7   churn_date  34 non-null     datetime64[ns]\n",
      "dtypes: datetime64[ns](2), int64(2), object(4)\n",
      "memory usage: 31.4+ KB\n"
     ]
    }
   ],
   "source": [
    "#Se cambia el formato para las columnas con fecha\n",
    "users['reg_date'] = pd.to_datetime(users['reg_date'])\n",
    "users['churn_date'] = pd.to_datetime(users['churn_date'])\n",
    "users.info()"
   ]
  },
  {
   "cell_type": "markdown",
   "metadata": {
    "id": "ycwuARJp0q07"
   },
   "source": [
    "### Enriquecer los datos"
   ]
  },
  {
   "cell_type": "markdown",
   "metadata": {
    "id": "96NIh4CJ0q08"
   },
   "source": [
    "[Agrega factores adicionales a los datos si crees que pudieran ser útiles.]"
   ]
  },
  {
   "cell_type": "code",
   "execution_count": 21,
   "metadata": {
    "id": "iq0AaBS90q08",
    "trusted": true
   },
   "outputs": [
    {
     "data": {
      "text/html": [
       "<div>\n",
       "<style scoped>\n",
       "    .dataframe tbody tr th:only-of-type {\n",
       "        vertical-align: middle;\n",
       "    }\n",
       "\n",
       "    .dataframe tbody tr th {\n",
       "        vertical-align: top;\n",
       "    }\n",
       "\n",
       "    .dataframe thead th {\n",
       "        text-align: right;\n",
       "    }\n",
       "</style>\n",
       "<table border=\"1\" class=\"dataframe\">\n",
       "  <thead>\n",
       "    <tr style=\"text-align: right;\">\n",
       "      <th></th>\n",
       "      <th>user_id</th>\n",
       "      <th>first_name</th>\n",
       "      <th>last_name</th>\n",
       "      <th>age</th>\n",
       "      <th>city</th>\n",
       "      <th>reg_date</th>\n",
       "      <th>plan</th>\n",
       "      <th>churn_date</th>\n",
       "      <th>city_name</th>\n",
       "      <th>churn_date_category</th>\n",
       "    </tr>\n",
       "  </thead>\n",
       "  <tbody>\n",
       "    <tr>\n",
       "      <th>0</th>\n",
       "      <td>1000</td>\n",
       "      <td>Anamaria</td>\n",
       "      <td>Bauer</td>\n",
       "      <td>45</td>\n",
       "      <td>Atlanta-Sandy Springs-Roswell, GA MSA</td>\n",
       "      <td>2018-12-24</td>\n",
       "      <td>ultimate</td>\n",
       "      <td>NaT</td>\n",
       "      <td>Atlanta</td>\n",
       "      <td>False</td>\n",
       "    </tr>\n",
       "    <tr>\n",
       "      <th>1</th>\n",
       "      <td>1001</td>\n",
       "      <td>Mickey</td>\n",
       "      <td>Wilkerson</td>\n",
       "      <td>28</td>\n",
       "      <td>Seattle-Tacoma-Bellevue, WA MSA</td>\n",
       "      <td>2018-08-13</td>\n",
       "      <td>surf</td>\n",
       "      <td>NaT</td>\n",
       "      <td>Seattle</td>\n",
       "      <td>False</td>\n",
       "    </tr>\n",
       "    <tr>\n",
       "      <th>2</th>\n",
       "      <td>1002</td>\n",
       "      <td>Carlee</td>\n",
       "      <td>Hoffman</td>\n",
       "      <td>36</td>\n",
       "      <td>Las Vegas-Henderson-Paradise, NV MSA</td>\n",
       "      <td>2018-10-21</td>\n",
       "      <td>surf</td>\n",
       "      <td>NaT</td>\n",
       "      <td>Las Vegas</td>\n",
       "      <td>False</td>\n",
       "    </tr>\n",
       "    <tr>\n",
       "      <th>3</th>\n",
       "      <td>1003</td>\n",
       "      <td>Reynaldo</td>\n",
       "      <td>Jenkins</td>\n",
       "      <td>52</td>\n",
       "      <td>Tulsa, OK MSA</td>\n",
       "      <td>2018-01-28</td>\n",
       "      <td>surf</td>\n",
       "      <td>NaT</td>\n",
       "      <td>Tulsa, OK MSA</td>\n",
       "      <td>False</td>\n",
       "    </tr>\n",
       "    <tr>\n",
       "      <th>4</th>\n",
       "      <td>1004</td>\n",
       "      <td>Leonila</td>\n",
       "      <td>Thompson</td>\n",
       "      <td>40</td>\n",
       "      <td>Seattle-Tacoma-Bellevue, WA MSA</td>\n",
       "      <td>2018-05-23</td>\n",
       "      <td>surf</td>\n",
       "      <td>NaT</td>\n",
       "      <td>Seattle</td>\n",
       "      <td>False</td>\n",
       "    </tr>\n",
       "  </tbody>\n",
       "</table>\n",
       "</div>"
      ],
      "text/plain": [
       "   user_id first_name  last_name  age                                   city  \\\n",
       "0     1000   Anamaria      Bauer   45  Atlanta-Sandy Springs-Roswell, GA MSA   \n",
       "1     1001     Mickey  Wilkerson   28        Seattle-Tacoma-Bellevue, WA MSA   \n",
       "2     1002     Carlee    Hoffman   36   Las Vegas-Henderson-Paradise, NV MSA   \n",
       "3     1003   Reynaldo    Jenkins   52                          Tulsa, OK MSA   \n",
       "4     1004    Leonila   Thompson   40        Seattle-Tacoma-Bellevue, WA MSA   \n",
       "\n",
       "    reg_date      plan churn_date      city_name  churn_date_category  \n",
       "0 2018-12-24  ultimate        NaT        Atlanta                False  \n",
       "1 2018-08-13      surf        NaT        Seattle                False  \n",
       "2 2018-10-21      surf        NaT      Las Vegas                False  \n",
       "3 2018-01-28      surf        NaT  Tulsa, OK MSA                False  \n",
       "4 2018-05-23      surf        NaT        Seattle                False  "
      ]
     },
     "execution_count": 21,
     "metadata": {},
     "output_type": "execute_result"
    }
   ],
   "source": [
    "# Nombre de la ciudad\n",
    "users['city_name'] = users['city'].str.split('-').str[0]\n",
    "\n",
    "#Convertir 'plan' a tipo categórico\n",
    "users['plan'] = users['plan'].astype('category')\n",
    "\n",
    "#Reemplazar NAT con Activo\n",
    "users['churn_date'] = users['churn_date'].astype(str).replace('NAT', 'ACTIVO')\n",
    "users['churn_date_category'] = users['churn_date'].isna()\n",
    "\n",
    "#Ver el DataFrame actualizado\n",
    "users.head()"
   ]
  },
  {
   "cell_type": "markdown",
   "metadata": {
    "id": "o7MeKCid0q08"
   },
   "source": [
    "## Llamadas"
   ]
  },
  {
   "cell_type": "code",
   "execution_count": 22,
   "metadata": {
    "id": "6dDlnoDm0q08",
    "trusted": true
   },
   "outputs": [
    {
     "name": "stdout",
     "output_type": "stream",
     "text": [
      "Información general del DataFrame 'calls':\n",
      "<class 'pandas.core.frame.DataFrame'>\n",
      "RangeIndex: 137735 entries, 0 to 137734\n",
      "Data columns (total 4 columns):\n",
      " #   Column     Non-Null Count   Dtype         \n",
      "---  ------     --------------   -----         \n",
      " 0   id         137735 non-null  object        \n",
      " 1   user_id    137735 non-null  int64         \n",
      " 2   call_date  137735 non-null  datetime64[ns]\n",
      " 3   duration   137735 non-null  float64       \n",
      "dtypes: datetime64[ns](1), float64(1), int64(1), object(1)\n",
      "memory usage: 4.2+ MB\n"
     ]
    }
   ],
   "source": [
    "# Imprime la información general/resumida sobre el DataFrame de las llamadas\n",
    "\n",
    "print(\"Información general del DataFrame 'calls':\")\n",
    "calls.info()"
   ]
  },
  {
   "cell_type": "code",
   "execution_count": 23,
   "metadata": {
    "id": "kuh1vlNB0q09",
    "trusted": true
   },
   "outputs": [
    {
     "name": "stdout",
     "output_type": "stream",
     "text": [
      "\n",
      "Muestra de datos del DataFrame 'calls':\n"
     ]
    },
    {
     "data": {
      "text/html": [
       "<div>\n",
       "<style scoped>\n",
       "    .dataframe tbody tr th:only-of-type {\n",
       "        vertical-align: middle;\n",
       "    }\n",
       "\n",
       "    .dataframe tbody tr th {\n",
       "        vertical-align: top;\n",
       "    }\n",
       "\n",
       "    .dataframe thead th {\n",
       "        text-align: right;\n",
       "    }\n",
       "</style>\n",
       "<table border=\"1\" class=\"dataframe\">\n",
       "  <thead>\n",
       "    <tr style=\"text-align: right;\">\n",
       "      <th></th>\n",
       "      <th>id</th>\n",
       "      <th>user_id</th>\n",
       "      <th>call_date</th>\n",
       "      <th>duration</th>\n",
       "    </tr>\n",
       "  </thead>\n",
       "  <tbody>\n",
       "    <tr>\n",
       "      <th>57164</th>\n",
       "      <td>1203_555</td>\n",
       "      <td>1203</td>\n",
       "      <td>2018-06-19</td>\n",
       "      <td>3.67</td>\n",
       "    </tr>\n",
       "    <tr>\n",
       "      <th>131368</th>\n",
       "      <td>1472_330</td>\n",
       "      <td>1472</td>\n",
       "      <td>2018-10-01</td>\n",
       "      <td>9.62</td>\n",
       "    </tr>\n",
       "    <tr>\n",
       "      <th>54397</th>\n",
       "      <td>1196_281</td>\n",
       "      <td>1196</td>\n",
       "      <td>2018-07-13</td>\n",
       "      <td>7.76</td>\n",
       "    </tr>\n",
       "    <tr>\n",
       "      <th>49907</th>\n",
       "      <td>1181_137</td>\n",
       "      <td>1181</td>\n",
       "      <td>2018-09-10</td>\n",
       "      <td>10.74</td>\n",
       "    </tr>\n",
       "    <tr>\n",
       "      <th>131685</th>\n",
       "      <td>1472_817</td>\n",
       "      <td>1472</td>\n",
       "      <td>2018-05-12</td>\n",
       "      <td>5.21</td>\n",
       "    </tr>\n",
       "    <tr>\n",
       "      <th>22533</th>\n",
       "      <td>1082_598</td>\n",
       "      <td>1082</td>\n",
       "      <td>2018-07-25</td>\n",
       "      <td>1.44</td>\n",
       "    </tr>\n",
       "  </tbody>\n",
       "</table>\n",
       "</div>"
      ],
      "text/plain": [
       "              id  user_id  call_date  duration\n",
       "57164   1203_555     1203 2018-06-19      3.67\n",
       "131368  1472_330     1472 2018-10-01      9.62\n",
       "54397   1196_281     1196 2018-07-13      7.76\n",
       "49907   1181_137     1181 2018-09-10     10.74\n",
       "131685  1472_817     1472 2018-05-12      5.21\n",
       "22533   1082_598     1082 2018-07-25      1.44"
      ]
     },
     "metadata": {},
     "output_type": "display_data"
    }
   ],
   "source": [
    "# Imprime una muestra de datos para las llamadas\n",
    "print(\"\\nMuestra de datos del DataFrame 'calls':\")\n",
    "display(calls.sample(6))"
   ]
  },
  {
   "cell_type": "markdown",
   "metadata": {
    "id": "DOAxYJSx0q09"
   },
   "source": [
    "[Describe lo que ves y observas en la información general y en la muestra de datos impresa para el precio de datos anterior. ¿Hay algún problema (tipos de datos no adecuados, datos ausentes, etc.) que pudieran necesitar investigación y cambios adicionales? ¿Cómo se puede arreglar?]\n",
    "Al observar megaline calls puede darme cuenta de los siguientes errores.\n",
    "Datos inconsistentes:\n",
    "\n",
    "Algunos registros tienen duration = 0 (¿llamadas válidas?).\n",
    "\n",
    "Formato de fecha dd/mm/aaaa (puede causar errores al procesar en algunos entornos).\n",
    "\n",
    "Errores potenciales de procesamiento:\n",
    "\n",
    "No manejo de fechas en formato no estándar.\n",
    "\n",
    "Tratamiento incorrecto de decimales en duration.\n",
    "\n",
    "Ausencia de validación de user_id."
   ]
  },
  {
   "cell_type": "markdown",
   "metadata": {
    "id": "S7hzxmbX0q0-"
   },
   "source": [
    "### Corregir los datos"
   ]
  },
  {
   "cell_type": "markdown",
   "metadata": {
    "id": "YxWyAjD20q0-"
   },
   "source": [
    "[Corrige los problemas obvios con los datos basándote en las observaciones iniciales.]"
   ]
  },
  {
   "cell_type": "code",
   "execution_count": 24,
   "metadata": {
    "id": "S2r8xA4f0q0-",
    "trusted": true
   },
   "outputs": [
    {
     "name": "stdout",
     "output_type": "stream",
     "text": [
      "<class 'pandas.core.frame.DataFrame'>\n",
      "RangeIndex: 137735 entries, 0 to 137734\n",
      "Data columns (total 4 columns):\n",
      " #   Column     Non-Null Count   Dtype         \n",
      "---  ------     --------------   -----         \n",
      " 0   id         137735 non-null  object        \n",
      " 1   user_id    137735 non-null  int64         \n",
      " 2   call_date  137735 non-null  datetime64[ns]\n",
      " 3   duration   137735 non-null  float64       \n",
      "dtypes: datetime64[ns](1), float64(1), int64(1), object(1)\n",
      "memory usage: 4.2+ MB\n"
     ]
    }
   ],
   "source": [
    "# Redondear la duración de las llamdas\n",
    "calls['duration'] = np.ceil(calls['duration'])\n",
    "\n",
    "#Cambio de tipo de dato a fecha\n",
    "calls['call_date'] = pd.to_datetime(calls['call_date'])\n",
    "calls.info()"
   ]
  },
  {
   "cell_type": "markdown",
   "metadata": {
    "id": "KrMgTrlG0q0_"
   },
   "source": [
    "### Enriquecer los datos"
   ]
  },
  {
   "cell_type": "markdown",
   "metadata": {
    "id": "a9MbmEvE0q0_"
   },
   "source": [
    "[Agrega factores adicionales a los datos si crees que pudieran ser útiles.]"
   ]
  },
  {
   "cell_type": "code",
   "execution_count": 25,
   "metadata": {
    "id": "iZ1avpA_0q0_",
    "trusted": true
   },
   "outputs": [
    {
     "data": {
      "text/html": [
       "<div>\n",
       "<style scoped>\n",
       "    .dataframe tbody tr th:only-of-type {\n",
       "        vertical-align: middle;\n",
       "    }\n",
       "\n",
       "    .dataframe tbody tr th {\n",
       "        vertical-align: top;\n",
       "    }\n",
       "\n",
       "    .dataframe thead th {\n",
       "        text-align: right;\n",
       "    }\n",
       "</style>\n",
       "<table border=\"1\" class=\"dataframe\">\n",
       "  <thead>\n",
       "    <tr style=\"text-align: right;\">\n",
       "      <th></th>\n",
       "      <th>id</th>\n",
       "      <th>user_id</th>\n",
       "      <th>call_date</th>\n",
       "      <th>duration</th>\n",
       "      <th>month</th>\n",
       "      <th>year</th>\n",
       "    </tr>\n",
       "  </thead>\n",
       "  <tbody>\n",
       "    <tr>\n",
       "      <th>0</th>\n",
       "      <td>1000_93</td>\n",
       "      <td>1000</td>\n",
       "      <td>2018-12-27</td>\n",
       "      <td>9.0</td>\n",
       "      <td>12</td>\n",
       "      <td>2018</td>\n",
       "    </tr>\n",
       "    <tr>\n",
       "      <th>1</th>\n",
       "      <td>1000_145</td>\n",
       "      <td>1000</td>\n",
       "      <td>2018-12-27</td>\n",
       "      <td>14.0</td>\n",
       "      <td>12</td>\n",
       "      <td>2018</td>\n",
       "    </tr>\n",
       "    <tr>\n",
       "      <th>2</th>\n",
       "      <td>1000_247</td>\n",
       "      <td>1000</td>\n",
       "      <td>2018-12-27</td>\n",
       "      <td>15.0</td>\n",
       "      <td>12</td>\n",
       "      <td>2018</td>\n",
       "    </tr>\n",
       "    <tr>\n",
       "      <th>3</th>\n",
       "      <td>1000_309</td>\n",
       "      <td>1000</td>\n",
       "      <td>2018-12-28</td>\n",
       "      <td>6.0</td>\n",
       "      <td>12</td>\n",
       "      <td>2018</td>\n",
       "    </tr>\n",
       "    <tr>\n",
       "      <th>4</th>\n",
       "      <td>1000_380</td>\n",
       "      <td>1000</td>\n",
       "      <td>2018-12-30</td>\n",
       "      <td>5.0</td>\n",
       "      <td>12</td>\n",
       "      <td>2018</td>\n",
       "    </tr>\n",
       "  </tbody>\n",
       "</table>\n",
       "</div>"
      ],
      "text/plain": [
       "         id  user_id  call_date  duration  month  year\n",
       "0   1000_93     1000 2018-12-27       9.0     12  2018\n",
       "1  1000_145     1000 2018-12-27      14.0     12  2018\n",
       "2  1000_247     1000 2018-12-27      15.0     12  2018\n",
       "3  1000_309     1000 2018-12-28       6.0     12  2018\n",
       "4  1000_380     1000 2018-12-30       5.0     12  2018"
      ]
     },
     "metadata": {},
     "output_type": "display_data"
    }
   ],
   "source": [
    "# Agregar columnas para el mes y el año de la llamada\n",
    "calls['month'] = calls['call_date'].dt.month\n",
    "calls['year'] = calls['call_date'].dt.year\n",
    "\n",
    "#Ver del DateFrame actualizado\n",
    "display(calls.head())"
   ]
  },
  {
   "cell_type": "markdown",
   "metadata": {
    "id": "mOUZSi180q0_"
   },
   "source": [
    "## Mensajes\n"
   ]
  },
  {
   "cell_type": "code",
   "execution_count": 26,
   "metadata": {
    "trusted": true
   },
   "outputs": [
    {
     "name": "stdout",
     "output_type": "stream",
     "text": [
      "Información general del DataFrame 'messages':\n",
      "<class 'pandas.core.frame.DataFrame'>\n",
      "RangeIndex: 76051 entries, 0 to 76050\n",
      "Data columns (total 3 columns):\n",
      " #   Column        Non-Null Count  Dtype         \n",
      "---  ------        --------------  -----         \n",
      " 0   id            76051 non-null  object        \n",
      " 1   user_id       76051 non-null  int64         \n",
      " 2   message_date  76051 non-null  datetime64[ns]\n",
      "dtypes: datetime64[ns](1), int64(1), object(1)\n",
      "memory usage: 1.7+ MB\n"
     ]
    }
   ],
   "source": [
    "# Imprime la información general/resumida sobre el DataFrame de los mensajes\n",
    "\n",
    "print(\"Información general del DataFrame 'messages':\")\n",
    "messages.info()"
   ]
  },
  {
   "cell_type": "markdown",
   "metadata": {
    "id": "04xDj7KH0q1A"
   },
   "source": [
    "[Describe lo que ves y observas en la información general y en la muestra de datos impresa para el precio de datos anterior. ¿Hay algún problema (tipos de datos no adecuados, datos ausentes, etc.) que pudieran necesitar investigación y cambios adicionales? ¿Cómo se puede arreglar?]\n",
    "Al revisar el archivo pude notar:\n",
    "\n",
    "No hay problema con el tipo de datos\n",
    "No hay problema de datos ausentes\n",
    "El tipo de dato de fecha debe cambiar a datetime\n",
    "No hay datos duplicados\n",
    "\n"
   ]
  },
  {
   "cell_type": "code",
   "execution_count": 27,
   "metadata": {
    "id": "mCEl2iGE0q1A",
    "trusted": true
   },
   "outputs": [
    {
     "name": "stdout",
     "output_type": "stream",
     "text": [
      "\n",
      "Muestra de datos del DataFrame 'messages':\n"
     ]
    },
    {
     "data": {
      "text/html": [
       "<div>\n",
       "<style scoped>\n",
       "    .dataframe tbody tr th:only-of-type {\n",
       "        vertical-align: middle;\n",
       "    }\n",
       "\n",
       "    .dataframe tbody tr th {\n",
       "        vertical-align: top;\n",
       "    }\n",
       "\n",
       "    .dataframe thead th {\n",
       "        text-align: right;\n",
       "    }\n",
       "</style>\n",
       "<table border=\"1\" class=\"dataframe\">\n",
       "  <thead>\n",
       "    <tr style=\"text-align: right;\">\n",
       "      <th></th>\n",
       "      <th>id</th>\n",
       "      <th>user_id</th>\n",
       "      <th>message_date</th>\n",
       "    </tr>\n",
       "  </thead>\n",
       "  <tbody>\n",
       "    <tr>\n",
       "      <th>45021</th>\n",
       "      <td>1302_126</td>\n",
       "      <td>1302</td>\n",
       "      <td>2018-11-29</td>\n",
       "    </tr>\n",
       "    <tr>\n",
       "      <th>55328</th>\n",
       "      <td>1347_365</td>\n",
       "      <td>1347</td>\n",
       "      <td>2018-09-21</td>\n",
       "    </tr>\n",
       "    <tr>\n",
       "      <th>26174</th>\n",
       "      <td>1159_177</td>\n",
       "      <td>1159</td>\n",
       "      <td>2018-11-14</td>\n",
       "    </tr>\n",
       "    <tr>\n",
       "      <th>48933</th>\n",
       "      <td>1327_26</td>\n",
       "      <td>1327</td>\n",
       "      <td>2018-09-25</td>\n",
       "    </tr>\n",
       "    <tr>\n",
       "      <th>28528</th>\n",
       "      <td>1174_318</td>\n",
       "      <td>1174</td>\n",
       "      <td>2018-10-15</td>\n",
       "    </tr>\n",
       "  </tbody>\n",
       "</table>\n",
       "</div>"
      ],
      "text/plain": [
       "             id  user_id message_date\n",
       "45021  1302_126     1302   2018-11-29\n",
       "55328  1347_365     1347   2018-09-21\n",
       "26174  1159_177     1159   2018-11-14\n",
       "48933   1327_26     1327   2018-09-25\n",
       "28528  1174_318     1174   2018-10-15"
      ]
     },
     "metadata": {},
     "output_type": "display_data"
    }
   ],
   "source": [
    "# Imprime una muestra de datos para los mensajes\n",
    "\n",
    "print(\"\\nMuestra de datos del DataFrame 'messages':\")\n",
    "display(messages.sample(5))"
   ]
  },
  {
   "cell_type": "markdown",
   "metadata": {
    "id": "Sprfak900q1B"
   },
   "source": [
    "### Corregir los datos"
   ]
  },
  {
   "cell_type": "code",
   "execution_count": 28,
   "metadata": {
    "id": "vsllvkoa0q1B",
    "trusted": true
   },
   "outputs": [
    {
     "name": "stdout",
     "output_type": "stream",
     "text": [
      "<class 'pandas.core.frame.DataFrame'>\n",
      "RangeIndex: 76051 entries, 0 to 76050\n",
      "Data columns (total 3 columns):\n",
      " #   Column        Non-Null Count  Dtype         \n",
      "---  ------        --------------  -----         \n",
      " 0   id            76051 non-null  object        \n",
      " 1   user_id       76051 non-null  int64         \n",
      " 2   message_date  76051 non-null  datetime64[ns]\n",
      "dtypes: datetime64[ns](1), int64(1), object(1)\n",
      "memory usage: 1.7+ MB\n"
     ]
    }
   ],
   "source": [
    "#Se cambia el tipo de dato de la columna 'message_date' de object a datetime.\n",
    "messages['message_date'] = pd.to_datetime(messages['message_date'])\n",
    "messages.info()"
   ]
  },
  {
   "cell_type": "markdown",
   "metadata": {
    "id": "HvLid7iD0q1B"
   },
   "source": [
    "### Enriquecer los datos"
   ]
  },
  {
   "cell_type": "markdown",
   "metadata": {
    "id": "8nhPFKIe0q1C"
   },
   "source": [
    "[Agrega factores adicionales a los datos si crees que pudieran ser útiles.]"
   ]
  },
  {
   "cell_type": "code",
   "execution_count": 29,
   "metadata": {
    "id": "zYEXZac10q1C",
    "trusted": true
   },
   "outputs": [
    {
     "data": {
      "text/html": [
       "<div>\n",
       "<style scoped>\n",
       "    .dataframe tbody tr th:only-of-type {\n",
       "        vertical-align: middle;\n",
       "    }\n",
       "\n",
       "    .dataframe tbody tr th {\n",
       "        vertical-align: top;\n",
       "    }\n",
       "\n",
       "    .dataframe thead th {\n",
       "        text-align: right;\n",
       "    }\n",
       "</style>\n",
       "<table border=\"1\" class=\"dataframe\">\n",
       "  <thead>\n",
       "    <tr style=\"text-align: right;\">\n",
       "      <th></th>\n",
       "      <th>id</th>\n",
       "      <th>user_id</th>\n",
       "      <th>message_date</th>\n",
       "      <th>month</th>\n",
       "      <th>year</th>\n",
       "    </tr>\n",
       "  </thead>\n",
       "  <tbody>\n",
       "    <tr>\n",
       "      <th>0</th>\n",
       "      <td>1000_125</td>\n",
       "      <td>1000</td>\n",
       "      <td>2018-12-27</td>\n",
       "      <td>12</td>\n",
       "      <td>2018</td>\n",
       "    </tr>\n",
       "    <tr>\n",
       "      <th>1</th>\n",
       "      <td>1000_160</td>\n",
       "      <td>1000</td>\n",
       "      <td>2018-12-31</td>\n",
       "      <td>12</td>\n",
       "      <td>2018</td>\n",
       "    </tr>\n",
       "    <tr>\n",
       "      <th>2</th>\n",
       "      <td>1000_223</td>\n",
       "      <td>1000</td>\n",
       "      <td>2018-12-31</td>\n",
       "      <td>12</td>\n",
       "      <td>2018</td>\n",
       "    </tr>\n",
       "    <tr>\n",
       "      <th>3</th>\n",
       "      <td>1000_251</td>\n",
       "      <td>1000</td>\n",
       "      <td>2018-12-27</td>\n",
       "      <td>12</td>\n",
       "      <td>2018</td>\n",
       "    </tr>\n",
       "    <tr>\n",
       "      <th>4</th>\n",
       "      <td>1000_255</td>\n",
       "      <td>1000</td>\n",
       "      <td>2018-12-26</td>\n",
       "      <td>12</td>\n",
       "      <td>2018</td>\n",
       "    </tr>\n",
       "  </tbody>\n",
       "</table>\n",
       "</div>"
      ],
      "text/plain": [
       "         id  user_id message_date  month  year\n",
       "0  1000_125     1000   2018-12-27     12  2018\n",
       "1  1000_160     1000   2018-12-31     12  2018\n",
       "2  1000_223     1000   2018-12-31     12  2018\n",
       "3  1000_251     1000   2018-12-27     12  2018\n",
       "4  1000_255     1000   2018-12-26     12  2018"
      ]
     },
     "metadata": {},
     "output_type": "display_data"
    }
   ],
   "source": [
    "# Agregar columnas para el mes y el año del mensaje\n",
    "messages['month'] = messages['message_date'].dt.month\n",
    "messages['year'] = messages['message_date'].dt.year\n",
    "\n",
    "\n",
    "# Ver el Data Frame actualizado\n",
    "display(messages.head())"
   ]
  },
  {
   "cell_type": "markdown",
   "metadata": {
    "id": "bStkaxn40q1C"
   },
   "source": [
    "## Internet"
   ]
  },
  {
   "cell_type": "code",
   "execution_count": 30,
   "metadata": {
    "id": "e-Uz5qyn0q1C",
    "trusted": true
   },
   "outputs": [
    {
     "name": "stdout",
     "output_type": "stream",
     "text": [
      "<class 'pandas.core.frame.DataFrame'>\n",
      "RangeIndex: 104825 entries, 0 to 104824\n",
      "Data columns (total 4 columns):\n",
      " #   Column        Non-Null Count   Dtype         \n",
      "---  ------        --------------   -----         \n",
      " 0   id            104825 non-null  object        \n",
      " 1   user_id       104825 non-null  int64         \n",
      " 2   session_date  104825 non-null  datetime64[ns]\n",
      " 3   mb_used       104825 non-null  float64       \n",
      "dtypes: datetime64[ns](1), float64(1), int64(1), object(1)\n",
      "memory usage: 3.2+ MB\n",
      "None\n"
     ]
    }
   ],
   "source": [
    "# Imprime la información general/resumida sobre el DataFrame de internet\n",
    "print(internet.info())"
   ]
  },
  {
   "cell_type": "code",
   "execution_count": 31,
   "metadata": {
    "id": "9r3x_XLw0q1C",
    "trusted": true
   },
   "outputs": [
    {
     "name": "stdout",
     "output_type": "stream",
     "text": [
      "n\\Muestra de datos del DataFrame 'internet':\n"
     ]
    },
    {
     "name": "stderr",
     "output_type": "stream",
     "text": [
      "<>:3: SyntaxWarning: invalid escape sequence '\\M'\n",
      "<>:3: SyntaxWarning: invalid escape sequence '\\M'\n",
      "C:\\Users\\ISRAELMARIANA\\AppData\\Local\\Temp\\ipykernel_12124\\4101852449.py:3: SyntaxWarning: invalid escape sequence '\\M'\n",
      "  print(\"n\\Muestra de datos del DataFrame 'internet':\")\n"
     ]
    },
    {
     "data": {
      "text/html": [
       "<div>\n",
       "<style scoped>\n",
       "    .dataframe tbody tr th:only-of-type {\n",
       "        vertical-align: middle;\n",
       "    }\n",
       "\n",
       "    .dataframe tbody tr th {\n",
       "        vertical-align: top;\n",
       "    }\n",
       "\n",
       "    .dataframe thead th {\n",
       "        text-align: right;\n",
       "    }\n",
       "</style>\n",
       "<table border=\"1\" class=\"dataframe\">\n",
       "  <thead>\n",
       "    <tr style=\"text-align: right;\">\n",
       "      <th></th>\n",
       "      <th>id</th>\n",
       "      <th>user_id</th>\n",
       "      <th>session_date</th>\n",
       "      <th>mb_used</th>\n",
       "    </tr>\n",
       "  </thead>\n",
       "  <tbody>\n",
       "    <tr>\n",
       "      <th>81471</th>\n",
       "      <td>1381_150</td>\n",
       "      <td>1381</td>\n",
       "      <td>2018-10-13</td>\n",
       "      <td>1063.06</td>\n",
       "    </tr>\n",
       "    <tr>\n",
       "      <th>20440</th>\n",
       "      <td>1095_90</td>\n",
       "      <td>1095</td>\n",
       "      <td>2018-06-20</td>\n",
       "      <td>394.48</td>\n",
       "    </tr>\n",
       "    <tr>\n",
       "      <th>98994</th>\n",
       "      <td>1467_131</td>\n",
       "      <td>1467</td>\n",
       "      <td>2018-05-09</td>\n",
       "      <td>0.00</td>\n",
       "    </tr>\n",
       "    <tr>\n",
       "      <th>14454</th>\n",
       "      <td>1066_347</td>\n",
       "      <td>1066</td>\n",
       "      <td>2018-10-27</td>\n",
       "      <td>194.83</td>\n",
       "    </tr>\n",
       "    <tr>\n",
       "      <th>63830</th>\n",
       "      <td>1293_112</td>\n",
       "      <td>1293</td>\n",
       "      <td>2018-10-03</td>\n",
       "      <td>439.90</td>\n",
       "    </tr>\n",
       "  </tbody>\n",
       "</table>\n",
       "</div>"
      ],
      "text/plain": [
       "             id  user_id session_date  mb_used\n",
       "81471  1381_150     1381   2018-10-13  1063.06\n",
       "20440   1095_90     1095   2018-06-20   394.48\n",
       "98994  1467_131     1467   2018-05-09     0.00\n",
       "14454  1066_347     1066   2018-10-27   194.83\n",
       "63830  1293_112     1293   2018-10-03   439.90"
      ]
     },
     "metadata": {},
     "output_type": "display_data"
    }
   ],
   "source": [
    "# Imprime una muestra de datos para el tráfico de internet\n",
    "\n",
    "print(\"n\\Muestra de datos del DataFrame 'internet':\")\n",
    "display(internet.sample(5))"
   ]
  },
  {
   "cell_type": "markdown",
   "metadata": {
    "id": "EzOG5ik30q1D"
   },
   "source": [
    "[Describe lo que ves y observas en la información general y en la muestra de datos impresa para el precio de datos anterior. ¿Hay algún problema (tipos de datos no adecuados, datos ausentes, etc.) que pudieran necesitar investigación y cambios adicionales? ¿Cómo se puede arreglar?]\n",
    "\n",
    "Al leer el documento pude notar ciertos puntos a mejorar:\n",
    "Valores mb_used iguales a 0:\n",
    "Hay múltiples registros con mb_used = 0 como 1000_204, 1001_26, 1001_28, 1001_54. Esto indica:\n",
    "\n",
    "Sesiones sin consumo de datos (válido).\n",
    "\n",
    "Fallos en la medición o carga de datos (error).\n",
    "\n",
    "Formato de id inconsistente:\n",
    "Algunos id tienen formatos como 1001_0, 1001_3, mientras que otros usan números más largos como 1001_413. Aunque no es un error crítico, suguiero que es falta de estandarización en la generación de identificadores.\n",
    "\n",
    "Posibles duplicados de id:\n",
    "Se requiere verificación exhaustiva, pero algunos id parecen repetirse parcialmente como 1001_26 y 1001_262. Esto es un error ya que los id deben ser únicos.\n",
    "\n",
    "Fechas con formato inválido:\n",
    "\n",
    "No se observan fechas como 31/02/2018 o 30/02/2018, pero es necesario validar todas las fechas con un script para detectar días/meses fuera de rango ya que 31/04/2018 no existe.\n",
    "\n",
    "Valores extremos en mb_used:\n",
    "\n",
    "Como 1001_151 tiene mb_used = 1123.93, lo que podría ser legítimo, pero se recomienda comparar con el consumo promedio del usuario para detectar anomalías.\n",
    "\n",
    "Inconsistencias entre user_id y id:\n",
    "En algunos casos, el user_id no coincide con la primera parte del id como si id = \"1002_2\", user_id debe ser 1002.\n",
    "\n",
    "Revisaré si todos los registros cumplen esto, porque es un punto crítico para verificar."
   ]
  },
  {
   "cell_type": "markdown",
   "metadata": {
    "id": "yA0tkPFg0q1D"
   },
   "source": [
    "### Corregir los datos"
   ]
  },
  {
   "cell_type": "markdown",
   "metadata": {
    "id": "zlZMuIEK0q1D"
   },
   "source": [
    "[Corrige los problemas obvios con los datos basándote en las observaciones iniciales.]"
   ]
  },
  {
   "cell_type": "code",
   "execution_count": 32,
   "metadata": {
    "id": "zVeanzdd0q1E",
    "trusted": true
   },
   "outputs": [
    {
     "name": "stdout",
     "output_type": "stream",
     "text": [
      "0          90\n",
      "1           0\n",
      "2         661\n",
      "3         271\n",
      "4         881\n",
      "         ... \n",
      "104820    219\n",
      "104821    305\n",
      "104822    293\n",
      "104823      0\n",
      "104824    759\n",
      "Name: mb_used, Length: 104825, dtype: int32\n"
     ]
    }
   ],
   "source": [
    "# Se redondea hacia el entero proximo los mb\n",
    "internet['mb_used'] = np.ceil(internet['mb_used']).astype(int)\n",
    "print(internet['mb_used'])"
   ]
  },
  {
   "cell_type": "markdown",
   "metadata": {
    "id": "e8_mLF4a0q1E"
   },
   "source": [
    "### Enriquecer los datos"
   ]
  },
  {
   "cell_type": "markdown",
   "metadata": {
    "id": "xhNdn2tE0q1E"
   },
   "source": [
    "[Agrega factores adicionales a los datos si crees que pudieran ser útiles.]"
   ]
  },
  {
   "cell_type": "code",
   "execution_count": 33,
   "metadata": {
    "id": "ESiYPIEK0q1E",
    "trusted": true
   },
   "outputs": [
    {
     "data": {
      "text/html": [
       "<div>\n",
       "<style scoped>\n",
       "    .dataframe tbody tr th:only-of-type {\n",
       "        vertical-align: middle;\n",
       "    }\n",
       "\n",
       "    .dataframe tbody tr th {\n",
       "        vertical-align: top;\n",
       "    }\n",
       "\n",
       "    .dataframe thead th {\n",
       "        text-align: right;\n",
       "    }\n",
       "</style>\n",
       "<table border=\"1\" class=\"dataframe\">\n",
       "  <thead>\n",
       "    <tr style=\"text-align: right;\">\n",
       "      <th></th>\n",
       "      <th>id</th>\n",
       "      <th>user_id</th>\n",
       "      <th>session_date</th>\n",
       "      <th>mb_used</th>\n",
       "      <th>month</th>\n",
       "      <th>year</th>\n",
       "    </tr>\n",
       "  </thead>\n",
       "  <tbody>\n",
       "    <tr>\n",
       "      <th>0</th>\n",
       "      <td>1000_13</td>\n",
       "      <td>1000</td>\n",
       "      <td>2018-12-29</td>\n",
       "      <td>90</td>\n",
       "      <td>12</td>\n",
       "      <td>2018</td>\n",
       "    </tr>\n",
       "    <tr>\n",
       "      <th>1</th>\n",
       "      <td>1000_204</td>\n",
       "      <td>1000</td>\n",
       "      <td>2018-12-31</td>\n",
       "      <td>0</td>\n",
       "      <td>12</td>\n",
       "      <td>2018</td>\n",
       "    </tr>\n",
       "    <tr>\n",
       "      <th>2</th>\n",
       "      <td>1000_379</td>\n",
       "      <td>1000</td>\n",
       "      <td>2018-12-28</td>\n",
       "      <td>661</td>\n",
       "      <td>12</td>\n",
       "      <td>2018</td>\n",
       "    </tr>\n",
       "    <tr>\n",
       "      <th>3</th>\n",
       "      <td>1000_413</td>\n",
       "      <td>1000</td>\n",
       "      <td>2018-12-26</td>\n",
       "      <td>271</td>\n",
       "      <td>12</td>\n",
       "      <td>2018</td>\n",
       "    </tr>\n",
       "    <tr>\n",
       "      <th>4</th>\n",
       "      <td>1000_442</td>\n",
       "      <td>1000</td>\n",
       "      <td>2018-12-27</td>\n",
       "      <td>881</td>\n",
       "      <td>12</td>\n",
       "      <td>2018</td>\n",
       "    </tr>\n",
       "  </tbody>\n",
       "</table>\n",
       "</div>"
      ],
      "text/plain": [
       "         id  user_id session_date  mb_used  month  year\n",
       "0   1000_13     1000   2018-12-29       90     12  2018\n",
       "1  1000_204     1000   2018-12-31        0     12  2018\n",
       "2  1000_379     1000   2018-12-28      661     12  2018\n",
       "3  1000_413     1000   2018-12-26      271     12  2018\n",
       "4  1000_442     1000   2018-12-27      881     12  2018"
      ]
     },
     "metadata": {},
     "output_type": "display_data"
    }
   ],
   "source": [
    "#Agregar columnas para el mes y el año de la sesión\n",
    "internet['month'] = internet['session_date'].dt.month\n",
    "internet['year'] = internet['session_date'].dt.year\n",
    "\n",
    "# Ver el DataFrame actualizado\n",
    "display(internet.head())"
   ]
  },
  {
   "cell_type": "markdown",
   "metadata": {
    "id": "3UA2cqIW0q1E"
   },
   "source": [
    "## Estudiar las condiciones de las tarifas"
   ]
  },
  {
   "cell_type": "markdown",
   "metadata": {
    "id": "T86Sqltq0q1F"
   },
   "source": [
    "[Es sumamente importante entender cómo funcionan las tarifas, cómo se les cobra a los usuarios en función de su plan de suscripción. Así que te sugerimos imprimir la información de la tarifa para ver una vez más sus condiciones.]"
   ]
  },
  {
   "cell_type": "code",
   "execution_count": 34,
   "metadata": {
    "id": "i409op8p0q1F",
    "scrolled": true,
    "trusted": true
   },
   "outputs": [
    {
     "data": {
      "text/html": [
       "<div>\n",
       "<style scoped>\n",
       "    .dataframe tbody tr th:only-of-type {\n",
       "        vertical-align: middle;\n",
       "    }\n",
       "\n",
       "    .dataframe tbody tr th {\n",
       "        vertical-align: top;\n",
       "    }\n",
       "\n",
       "    .dataframe thead th {\n",
       "        text-align: right;\n",
       "    }\n",
       "</style>\n",
       "<table border=\"1\" class=\"dataframe\">\n",
       "  <thead>\n",
       "    <tr style=\"text-align: right;\">\n",
       "      <th></th>\n",
       "      <th>included_messages</th>\n",
       "      <th>included_gb_per_month</th>\n",
       "      <th>included_minutes</th>\n",
       "      <th>usd_monthly_pay</th>\n",
       "      <th>usd_per_gb</th>\n",
       "      <th>usd_per_message</th>\n",
       "      <th>usd_per_minute</th>\n",
       "      <th>plan_name</th>\n",
       "      <th>plan_id</th>\n",
       "    </tr>\n",
       "  </thead>\n",
       "  <tbody>\n",
       "    <tr>\n",
       "      <th>0</th>\n",
       "      <td>50</td>\n",
       "      <td>15</td>\n",
       "      <td>500</td>\n",
       "      <td>20</td>\n",
       "      <td>10</td>\n",
       "      <td>0.03</td>\n",
       "      <td>0.03</td>\n",
       "      <td>surf</td>\n",
       "      <td>1</td>\n",
       "    </tr>\n",
       "    <tr>\n",
       "      <th>1</th>\n",
       "      <td>1000</td>\n",
       "      <td>30</td>\n",
       "      <td>3000</td>\n",
       "      <td>70</td>\n",
       "      <td>7</td>\n",
       "      <td>0.01</td>\n",
       "      <td>0.01</td>\n",
       "      <td>ultimate</td>\n",
       "      <td>2</td>\n",
       "    </tr>\n",
       "  </tbody>\n",
       "</table>\n",
       "</div>"
      ],
      "text/plain": [
       "   included_messages  included_gb_per_month  included_minutes  \\\n",
       "0                 50                     15               500   \n",
       "1               1000                     30              3000   \n",
       "\n",
       "   usd_monthly_pay  usd_per_gb  usd_per_message  usd_per_minute plan_name  \\\n",
       "0               20          10             0.03            0.03      surf   \n",
       "1               70           7             0.01            0.01  ultimate   \n",
       "\n",
       "   plan_id  \n",
       "0        1  \n",
       "1        2  "
      ]
     },
     "metadata": {},
     "output_type": "display_data"
    }
   ],
   "source": [
    "# Imprime las condiciones de la tarifa y asegúrate de que te quedan claras\n",
    "display(plans)\n",
    "\n"
   ]
  },
  {
   "cell_type": "markdown",
   "metadata": {
    "id": "hMR1tP5d0q1F"
   },
   "source": [
    "## Agregar datos por usuario\n",
    "\n",
    "[Ahora que los datos están limpios, agrega los datos por usuario y por periodo para que solo haya un registro por usuario y por periodo. Esto facilitará mucho el análisis posterior.]"
   ]
  },
  {
   "cell_type": "code",
   "execution_count": 35,
   "metadata": {
    "id": "A332cedB0q1G",
    "scrolled": true,
    "trusted": true
   },
   "outputs": [
    {
     "data": {
      "text/html": [
       "<div>\n",
       "<style scoped>\n",
       "    .dataframe tbody tr th:only-of-type {\n",
       "        vertical-align: middle;\n",
       "    }\n",
       "\n",
       "    .dataframe tbody tr th {\n",
       "        vertical-align: top;\n",
       "    }\n",
       "\n",
       "    .dataframe thead th {\n",
       "        text-align: right;\n",
       "    }\n",
       "</style>\n",
       "<table border=\"1\" class=\"dataframe\">\n",
       "  <thead>\n",
       "    <tr style=\"text-align: right;\">\n",
       "      <th></th>\n",
       "      <th>user_id</th>\n",
       "      <th>month</th>\n",
       "      <th>total_calls</th>\n",
       "    </tr>\n",
       "  </thead>\n",
       "  <tbody>\n",
       "    <tr>\n",
       "      <th>0</th>\n",
       "      <td>1000</td>\n",
       "      <td>12</td>\n",
       "      <td>16</td>\n",
       "    </tr>\n",
       "    <tr>\n",
       "      <th>1</th>\n",
       "      <td>1001</td>\n",
       "      <td>8</td>\n",
       "      <td>27</td>\n",
       "    </tr>\n",
       "    <tr>\n",
       "      <th>2</th>\n",
       "      <td>1001</td>\n",
       "      <td>9</td>\n",
       "      <td>49</td>\n",
       "    </tr>\n",
       "    <tr>\n",
       "      <th>3</th>\n",
       "      <td>1001</td>\n",
       "      <td>10</td>\n",
       "      <td>65</td>\n",
       "    </tr>\n",
       "    <tr>\n",
       "      <th>4</th>\n",
       "      <td>1001</td>\n",
       "      <td>11</td>\n",
       "      <td>64</td>\n",
       "    </tr>\n",
       "  </tbody>\n",
       "</table>\n",
       "</div>"
      ],
      "text/plain": [
       "   user_id  month  total_calls\n",
       "0     1000     12           16\n",
       "1     1001      8           27\n",
       "2     1001      9           49\n",
       "3     1001     10           65\n",
       "4     1001     11           64"
      ]
     },
     "metadata": {},
     "output_type": "display_data"
    }
   ],
   "source": [
    "# Calcular el número de llamadas hechaas por cada usuario al mes. Guarda el resultado.\n",
    "\n",
    "# Agrupar por 'user_id' y 'month', luego contar las llamadas \n",
    "calls_per_user_per_month = calls.groupby(['user_id', 'month'])['id'].count().reset_index()\n",
    "calls_per_user_per_month = calls_per_user_per_month.rename(columns={'id': 'total_calls'})\n",
    "\n",
    "display(calls_per_user_per_month.head())"
   ]
  },
  {
   "cell_type": "code",
   "execution_count": 36,
   "metadata": {
    "id": "aw2cmuql0q1G",
    "trusted": true
   },
   "outputs": [
    {
     "data": {
      "text/html": [
       "<div>\n",
       "<style scoped>\n",
       "    .dataframe tbody tr th:only-of-type {\n",
       "        vertical-align: middle;\n",
       "    }\n",
       "\n",
       "    .dataframe tbody tr th {\n",
       "        vertical-align: top;\n",
       "    }\n",
       "\n",
       "    .dataframe thead th {\n",
       "        text-align: right;\n",
       "    }\n",
       "</style>\n",
       "<table border=\"1\" class=\"dataframe\">\n",
       "  <thead>\n",
       "    <tr style=\"text-align: right;\">\n",
       "      <th></th>\n",
       "      <th>month</th>\n",
       "      <th>user_id</th>\n",
       "      <th>total_duration</th>\n",
       "    </tr>\n",
       "  </thead>\n",
       "  <tbody>\n",
       "    <tr>\n",
       "      <th>0</th>\n",
       "      <td>1</td>\n",
       "      <td>1042</td>\n",
       "      <td>114.0</td>\n",
       "    </tr>\n",
       "    <tr>\n",
       "      <th>1</th>\n",
       "      <td>1</td>\n",
       "      <td>1077</td>\n",
       "      <td>290.0</td>\n",
       "    </tr>\n",
       "    <tr>\n",
       "      <th>2</th>\n",
       "      <td>1</td>\n",
       "      <td>1185</td>\n",
       "      <td>181.0</td>\n",
       "    </tr>\n",
       "    <tr>\n",
       "      <th>3</th>\n",
       "      <td>1</td>\n",
       "      <td>1196</td>\n",
       "      <td>287.0</td>\n",
       "    </tr>\n",
       "    <tr>\n",
       "      <th>4</th>\n",
       "      <td>1</td>\n",
       "      <td>1214</td>\n",
       "      <td>16.0</td>\n",
       "    </tr>\n",
       "    <tr>\n",
       "      <th>...</th>\n",
       "      <td>...</td>\n",
       "      <td>...</td>\n",
       "      <td>...</td>\n",
       "    </tr>\n",
       "    <tr>\n",
       "      <th>2253</th>\n",
       "      <td>12</td>\n",
       "      <td>1495</td>\n",
       "      <td>492.0</td>\n",
       "    </tr>\n",
       "    <tr>\n",
       "      <th>2254</th>\n",
       "      <td>12</td>\n",
       "      <td>1496</td>\n",
       "      <td>294.0</td>\n",
       "    </tr>\n",
       "    <tr>\n",
       "      <th>2255</th>\n",
       "      <td>12</td>\n",
       "      <td>1497</td>\n",
       "      <td>300.0</td>\n",
       "    </tr>\n",
       "    <tr>\n",
       "      <th>2256</th>\n",
       "      <td>12</td>\n",
       "      <td>1498</td>\n",
       "      <td>339.0</td>\n",
       "    </tr>\n",
       "    <tr>\n",
       "      <th>2257</th>\n",
       "      <td>12</td>\n",
       "      <td>1499</td>\n",
       "      <td>496.0</td>\n",
       "    </tr>\n",
       "  </tbody>\n",
       "</table>\n",
       "<p>2258 rows × 3 columns</p>\n",
       "</div>"
      ],
      "text/plain": [
       "      month  user_id  total_duration\n",
       "0         1     1042           114.0\n",
       "1         1     1077           290.0\n",
       "2         1     1185           181.0\n",
       "3         1     1196           287.0\n",
       "4         1     1214            16.0\n",
       "...     ...      ...             ...\n",
       "2253     12     1495           492.0\n",
       "2254     12     1496           294.0\n",
       "2255     12     1497           300.0\n",
       "2256     12     1498           339.0\n",
       "2257     12     1499           496.0\n",
       "\n",
       "[2258 rows x 3 columns]"
      ]
     },
     "execution_count": 36,
     "metadata": {},
     "output_type": "execute_result"
    }
   ],
   "source": [
    "# Calcular la cantidad de minutos por cada usuario al mes. Guardar el resultado.\n",
    "\n",
    "minutes_per_user = calls.groupby(['month', 'user_id'])['duration'].sum().reset_index()\n",
    "minutes_per_user.rename(columns = {'duration': 'total_duration'}, inplace = True)\n",
    "minutes_per_user"
   ]
  },
  {
   "cell_type": "code",
   "execution_count": 37,
   "metadata": {
    "id": "CcQvNHn60q1G",
    "trusted": true
   },
   "outputs": [
    {
     "data": {
      "text/html": [
       "<div>\n",
       "<style scoped>\n",
       "    .dataframe tbody tr th:only-of-type {\n",
       "        vertical-align: middle;\n",
       "    }\n",
       "\n",
       "    .dataframe tbody tr th {\n",
       "        vertical-align: top;\n",
       "    }\n",
       "\n",
       "    .dataframe thead th {\n",
       "        text-align: right;\n",
       "    }\n",
       "</style>\n",
       "<table border=\"1\" class=\"dataframe\">\n",
       "  <thead>\n",
       "    <tr style=\"text-align: right;\">\n",
       "      <th></th>\n",
       "      <th>month</th>\n",
       "      <th>user_id</th>\n",
       "      <th>total_messages</th>\n",
       "    </tr>\n",
       "  </thead>\n",
       "  <tbody>\n",
       "    <tr>\n",
       "      <th>0</th>\n",
       "      <td>1</td>\n",
       "      <td>1077</td>\n",
       "      <td>37</td>\n",
       "    </tr>\n",
       "    <tr>\n",
       "      <th>1</th>\n",
       "      <td>1</td>\n",
       "      <td>1196</td>\n",
       "      <td>23</td>\n",
       "    </tr>\n",
       "    <tr>\n",
       "      <th>2</th>\n",
       "      <td>1</td>\n",
       "      <td>1214</td>\n",
       "      <td>2</td>\n",
       "    </tr>\n",
       "    <tr>\n",
       "      <th>3</th>\n",
       "      <td>1</td>\n",
       "      <td>1362</td>\n",
       "      <td>21</td>\n",
       "    </tr>\n",
       "    <tr>\n",
       "      <th>4</th>\n",
       "      <td>2</td>\n",
       "      <td>1028</td>\n",
       "      <td>12</td>\n",
       "    </tr>\n",
       "    <tr>\n",
       "      <th>...</th>\n",
       "      <td>...</td>\n",
       "      <td>...</td>\n",
       "      <td>...</td>\n",
       "    </tr>\n",
       "    <tr>\n",
       "      <th>1801</th>\n",
       "      <td>12</td>\n",
       "      <td>1491</td>\n",
       "      <td>43</td>\n",
       "    </tr>\n",
       "    <tr>\n",
       "      <th>1802</th>\n",
       "      <td>12</td>\n",
       "      <td>1492</td>\n",
       "      <td>37</td>\n",
       "    </tr>\n",
       "    <tr>\n",
       "      <th>1803</th>\n",
       "      <td>12</td>\n",
       "      <td>1494</td>\n",
       "      <td>33</td>\n",
       "    </tr>\n",
       "    <tr>\n",
       "      <th>1804</th>\n",
       "      <td>12</td>\n",
       "      <td>1496</td>\n",
       "      <td>11</td>\n",
       "    </tr>\n",
       "    <tr>\n",
       "      <th>1805</th>\n",
       "      <td>12</td>\n",
       "      <td>1497</td>\n",
       "      <td>50</td>\n",
       "    </tr>\n",
       "  </tbody>\n",
       "</table>\n",
       "<p>1806 rows × 3 columns</p>\n",
       "</div>"
      ],
      "text/plain": [
       "      month  user_id  total_messages\n",
       "0         1     1077              37\n",
       "1         1     1196              23\n",
       "2         1     1214               2\n",
       "3         1     1362              21\n",
       "4         2     1028              12\n",
       "...     ...      ...             ...\n",
       "1801     12     1491              43\n",
       "1802     12     1492              37\n",
       "1803     12     1494              33\n",
       "1804     12     1496              11\n",
       "1805     12     1497              50\n",
       "\n",
       "[1806 rows x 3 columns]"
      ]
     },
     "execution_count": 37,
     "metadata": {},
     "output_type": "execute_result"
    }
   ],
   "source": [
    "# Calcula el número de mensajes enviados por cada usuario al mes. Guarda el resultado.\n",
    "messages_per_user = messages.groupby(['month', 'user_id'])['message_date'].count().reset_index()\n",
    "messages_per_user.rename(columns = {'message_date': 'total_messages'}, inplace = True)\n",
    "messages_per_user\n",
    "    "
   ]
  },
  {
   "cell_type": "code",
   "execution_count": 38,
   "metadata": {
    "id": "H1AqN2eG0q1H",
    "trusted": true
   },
   "outputs": [
    {
     "data": {
      "text/html": [
       "<div>\n",
       "<style scoped>\n",
       "    .dataframe tbody tr th:only-of-type {\n",
       "        vertical-align: middle;\n",
       "    }\n",
       "\n",
       "    .dataframe tbody tr th {\n",
       "        vertical-align: top;\n",
       "    }\n",
       "\n",
       "    .dataframe thead th {\n",
       "        text-align: right;\n",
       "    }\n",
       "</style>\n",
       "<table border=\"1\" class=\"dataframe\">\n",
       "  <thead>\n",
       "    <tr style=\"text-align: right;\">\n",
       "      <th></th>\n",
       "      <th>month</th>\n",
       "      <th>user_id</th>\n",
       "      <th>gb_used</th>\n",
       "    </tr>\n",
       "  </thead>\n",
       "  <tbody>\n",
       "    <tr>\n",
       "      <th>0</th>\n",
       "      <td>1</td>\n",
       "      <td>1042</td>\n",
       "      <td>2</td>\n",
       "    </tr>\n",
       "    <tr>\n",
       "      <th>1</th>\n",
       "      <td>1</td>\n",
       "      <td>1077</td>\n",
       "      <td>11</td>\n",
       "    </tr>\n",
       "    <tr>\n",
       "      <th>2</th>\n",
       "      <td>1</td>\n",
       "      <td>1185</td>\n",
       "      <td>7</td>\n",
       "    </tr>\n",
       "    <tr>\n",
       "      <th>3</th>\n",
       "      <td>1</td>\n",
       "      <td>1196</td>\n",
       "      <td>9</td>\n",
       "    </tr>\n",
       "    <tr>\n",
       "      <th>4</th>\n",
       "      <td>1</td>\n",
       "      <td>1214</td>\n",
       "      <td>2</td>\n",
       "    </tr>\n",
       "    <tr>\n",
       "      <th>...</th>\n",
       "      <td>...</td>\n",
       "      <td>...</td>\n",
       "      <td>...</td>\n",
       "    </tr>\n",
       "    <tr>\n",
       "      <th>2272</th>\n",
       "      <td>12</td>\n",
       "      <td>1495</td>\n",
       "      <td>24</td>\n",
       "    </tr>\n",
       "    <tr>\n",
       "      <th>2273</th>\n",
       "      <td>12</td>\n",
       "      <td>1496</td>\n",
       "      <td>17</td>\n",
       "    </tr>\n",
       "    <tr>\n",
       "      <th>2274</th>\n",
       "      <td>12</td>\n",
       "      <td>1497</td>\n",
       "      <td>11</td>\n",
       "    </tr>\n",
       "    <tr>\n",
       "      <th>2275</th>\n",
       "      <td>12</td>\n",
       "      <td>1498</td>\n",
       "      <td>23</td>\n",
       "    </tr>\n",
       "    <tr>\n",
       "      <th>2276</th>\n",
       "      <td>12</td>\n",
       "      <td>1499</td>\n",
       "      <td>22</td>\n",
       "    </tr>\n",
       "  </tbody>\n",
       "</table>\n",
       "<p>2277 rows × 3 columns</p>\n",
       "</div>"
      ],
      "text/plain": [
       "      month  user_id  gb_used\n",
       "0         1     1042        2\n",
       "1         1     1077       11\n",
       "2         1     1185        7\n",
       "3         1     1196        9\n",
       "4         1     1214        2\n",
       "...     ...      ...      ...\n",
       "2272     12     1495       24\n",
       "2273     12     1496       17\n",
       "2274     12     1497       11\n",
       "2275     12     1498       23\n",
       "2276     12     1499       22\n",
       "\n",
       "[2277 rows x 3 columns]"
      ]
     },
     "execution_count": 38,
     "metadata": {},
     "output_type": "execute_result"
    }
   ],
   "source": [
    "\n",
    "# Calcular el volumen del tráfico usado por cada usuario al mes. Guarda el resultado\n",
    "\n",
    "internet_per_user = np.ceil(internet.groupby(['month', 'user_id'])['mb_used'].sum() / 1024).astype(int).reset_index()\n",
    "internet_per_user.rename(columns = {'mb_used': 'gb_used'}, inplace = True)\n",
    "internet_per_user"
   ]
  },
  {
   "cell_type": "markdown",
   "metadata": {
    "id": "VDfYXnj80q1H"
   },
   "source": [
    "[Junta los datos agregados en un DataFrame para que haya un registro que represente lo que consumió un usuario único en un mes determinado.]"
   ]
  },
  {
   "cell_type": "code",
   "execution_count": 39,
   "metadata": {
    "id": "FW99ykyf0q1H",
    "trusted": true
   },
   "outputs": [
    {
     "data": {
      "text/html": [
       "<div>\n",
       "<style scoped>\n",
       "    .dataframe tbody tr th:only-of-type {\n",
       "        vertical-align: middle;\n",
       "    }\n",
       "\n",
       "    .dataframe tbody tr th {\n",
       "        vertical-align: top;\n",
       "    }\n",
       "\n",
       "    .dataframe thead th {\n",
       "        text-align: right;\n",
       "    }\n",
       "</style>\n",
       "<table border=\"1\" class=\"dataframe\">\n",
       "  <thead>\n",
       "    <tr style=\"text-align: right;\">\n",
       "      <th></th>\n",
       "      <th>user_id</th>\n",
       "      <th>month</th>\n",
       "      <th>total_calls</th>\n",
       "      <th>total_duration</th>\n",
       "      <th>total_messages</th>\n",
       "      <th>gb_used</th>\n",
       "    </tr>\n",
       "  </thead>\n",
       "  <tbody>\n",
       "    <tr>\n",
       "      <th>0</th>\n",
       "      <td>1042</td>\n",
       "      <td>1</td>\n",
       "      <td>18.0</td>\n",
       "      <td>114.0</td>\n",
       "      <td>NaN</td>\n",
       "      <td>2.0</td>\n",
       "    </tr>\n",
       "    <tr>\n",
       "      <th>1</th>\n",
       "      <td>1077</td>\n",
       "      <td>1</td>\n",
       "      <td>42.0</td>\n",
       "      <td>290.0</td>\n",
       "      <td>37.0</td>\n",
       "      <td>11.0</td>\n",
       "    </tr>\n",
       "    <tr>\n",
       "      <th>2</th>\n",
       "      <td>1185</td>\n",
       "      <td>1</td>\n",
       "      <td>23.0</td>\n",
       "      <td>181.0</td>\n",
       "      <td>NaN</td>\n",
       "      <td>7.0</td>\n",
       "    </tr>\n",
       "    <tr>\n",
       "      <th>3</th>\n",
       "      <td>1196</td>\n",
       "      <td>1</td>\n",
       "      <td>42.0</td>\n",
       "      <td>287.0</td>\n",
       "      <td>23.0</td>\n",
       "      <td>9.0</td>\n",
       "    </tr>\n",
       "    <tr>\n",
       "      <th>4</th>\n",
       "      <td>1214</td>\n",
       "      <td>1</td>\n",
       "      <td>5.0</td>\n",
       "      <td>16.0</td>\n",
       "      <td>2.0</td>\n",
       "      <td>2.0</td>\n",
       "    </tr>\n",
       "    <tr>\n",
       "      <th>...</th>\n",
       "      <td>...</td>\n",
       "      <td>...</td>\n",
       "      <td>...</td>\n",
       "      <td>...</td>\n",
       "      <td>...</td>\n",
       "      <td>...</td>\n",
       "    </tr>\n",
       "    <tr>\n",
       "      <th>2288</th>\n",
       "      <td>1495</td>\n",
       "      <td>12</td>\n",
       "      <td>65.0</td>\n",
       "      <td>492.0</td>\n",
       "      <td>NaN</td>\n",
       "      <td>24.0</td>\n",
       "    </tr>\n",
       "    <tr>\n",
       "      <th>2289</th>\n",
       "      <td>1496</td>\n",
       "      <td>12</td>\n",
       "      <td>40.0</td>\n",
       "      <td>294.0</td>\n",
       "      <td>11.0</td>\n",
       "      <td>17.0</td>\n",
       "    </tr>\n",
       "    <tr>\n",
       "      <th>2290</th>\n",
       "      <td>1497</td>\n",
       "      <td>12</td>\n",
       "      <td>54.0</td>\n",
       "      <td>300.0</td>\n",
       "      <td>50.0</td>\n",
       "      <td>11.0</td>\n",
       "    </tr>\n",
       "    <tr>\n",
       "      <th>2291</th>\n",
       "      <td>1498</td>\n",
       "      <td>12</td>\n",
       "      <td>39.0</td>\n",
       "      <td>339.0</td>\n",
       "      <td>NaN</td>\n",
       "      <td>23.0</td>\n",
       "    </tr>\n",
       "    <tr>\n",
       "      <th>2292</th>\n",
       "      <td>1499</td>\n",
       "      <td>12</td>\n",
       "      <td>65.0</td>\n",
       "      <td>496.0</td>\n",
       "      <td>NaN</td>\n",
       "      <td>22.0</td>\n",
       "    </tr>\n",
       "  </tbody>\n",
       "</table>\n",
       "<p>2293 rows × 6 columns</p>\n",
       "</div>"
      ],
      "text/plain": [
       "      user_id  month  total_calls  total_duration  total_messages  gb_used\n",
       "0        1042      1         18.0           114.0             NaN      2.0\n",
       "1        1077      1         42.0           290.0            37.0     11.0\n",
       "2        1185      1         23.0           181.0             NaN      7.0\n",
       "3        1196      1         42.0           287.0            23.0      9.0\n",
       "4        1214      1          5.0            16.0             2.0      2.0\n",
       "...       ...    ...          ...             ...             ...      ...\n",
       "2288     1495     12         65.0           492.0             NaN     24.0\n",
       "2289     1496     12         40.0           294.0            11.0     17.0\n",
       "2290     1497     12         54.0           300.0            50.0     11.0\n",
       "2291     1498     12         39.0           339.0             NaN     23.0\n",
       "2292     1499     12         65.0           496.0             NaN     22.0\n",
       "\n",
       "[2293 rows x 6 columns]"
      ]
     },
     "execution_count": 39,
     "metadata": {},
     "output_type": "execute_result"
    }
   ],
   "source": [
    "# Fusiona los datos de llamadas, minutos, mensajes e Internet con base en user_id y month\n",
    "\n",
    "user_usage_per_month = calls_per_user_per_month.merge(\n",
    "    minutes_per_user,\n",
    "    how = 'outer',\n",
    "    on = ['month', 'user_id'])\n",
    "user_usage_per_month = user_usage_per_month.merge(\n",
    "    messages_per_user,\n",
    "    how = 'outer',\n",
    "    on = ['month', 'user_id'])\n",
    "user_usage_per_month = user_usage_per_month.merge(\n",
    "    internet_per_user,\n",
    "    how ='outer',\n",
    "    on = ['month', 'user_id'])\n",
    "\n",
    "user_usage_per_month\n"
   ]
  },
  {
   "cell_type": "code",
   "execution_count": 40,
   "metadata": {
    "trusted": true
   },
   "outputs": [
    {
     "data": {
      "text/html": [
       "<div>\n",
       "<style scoped>\n",
       "    .dataframe tbody tr th:only-of-type {\n",
       "        vertical-align: middle;\n",
       "    }\n",
       "\n",
       "    .dataframe tbody tr th {\n",
       "        vertical-align: top;\n",
       "    }\n",
       "\n",
       "    .dataframe thead th {\n",
       "        text-align: right;\n",
       "    }\n",
       "</style>\n",
       "<table border=\"1\" class=\"dataframe\">\n",
       "  <thead>\n",
       "    <tr style=\"text-align: right;\">\n",
       "      <th></th>\n",
       "      <th>user_id</th>\n",
       "      <th>month</th>\n",
       "      <th>total_calls</th>\n",
       "      <th>total_duration</th>\n",
       "      <th>total_messages</th>\n",
       "      <th>gb_used</th>\n",
       "    </tr>\n",
       "  </thead>\n",
       "  <tbody>\n",
       "    <tr>\n",
       "      <th>0</th>\n",
       "      <td>1042</td>\n",
       "      <td>1</td>\n",
       "      <td>18.0</td>\n",
       "      <td>114.0</td>\n",
       "      <td>0.0</td>\n",
       "      <td>2.0</td>\n",
       "    </tr>\n",
       "    <tr>\n",
       "      <th>1</th>\n",
       "      <td>1077</td>\n",
       "      <td>1</td>\n",
       "      <td>42.0</td>\n",
       "      <td>290.0</td>\n",
       "      <td>37.0</td>\n",
       "      <td>11.0</td>\n",
       "    </tr>\n",
       "    <tr>\n",
       "      <th>2</th>\n",
       "      <td>1185</td>\n",
       "      <td>1</td>\n",
       "      <td>23.0</td>\n",
       "      <td>181.0</td>\n",
       "      <td>0.0</td>\n",
       "      <td>7.0</td>\n",
       "    </tr>\n",
       "    <tr>\n",
       "      <th>3</th>\n",
       "      <td>1196</td>\n",
       "      <td>1</td>\n",
       "      <td>42.0</td>\n",
       "      <td>287.0</td>\n",
       "      <td>23.0</td>\n",
       "      <td>9.0</td>\n",
       "    </tr>\n",
       "    <tr>\n",
       "      <th>4</th>\n",
       "      <td>1214</td>\n",
       "      <td>1</td>\n",
       "      <td>5.0</td>\n",
       "      <td>16.0</td>\n",
       "      <td>2.0</td>\n",
       "      <td>2.0</td>\n",
       "    </tr>\n",
       "    <tr>\n",
       "      <th>...</th>\n",
       "      <td>...</td>\n",
       "      <td>...</td>\n",
       "      <td>...</td>\n",
       "      <td>...</td>\n",
       "      <td>...</td>\n",
       "      <td>...</td>\n",
       "    </tr>\n",
       "    <tr>\n",
       "      <th>2288</th>\n",
       "      <td>1495</td>\n",
       "      <td>12</td>\n",
       "      <td>65.0</td>\n",
       "      <td>492.0</td>\n",
       "      <td>0.0</td>\n",
       "      <td>24.0</td>\n",
       "    </tr>\n",
       "    <tr>\n",
       "      <th>2289</th>\n",
       "      <td>1496</td>\n",
       "      <td>12</td>\n",
       "      <td>40.0</td>\n",
       "      <td>294.0</td>\n",
       "      <td>11.0</td>\n",
       "      <td>17.0</td>\n",
       "    </tr>\n",
       "    <tr>\n",
       "      <th>2290</th>\n",
       "      <td>1497</td>\n",
       "      <td>12</td>\n",
       "      <td>54.0</td>\n",
       "      <td>300.0</td>\n",
       "      <td>50.0</td>\n",
       "      <td>11.0</td>\n",
       "    </tr>\n",
       "    <tr>\n",
       "      <th>2291</th>\n",
       "      <td>1498</td>\n",
       "      <td>12</td>\n",
       "      <td>39.0</td>\n",
       "      <td>339.0</td>\n",
       "      <td>0.0</td>\n",
       "      <td>23.0</td>\n",
       "    </tr>\n",
       "    <tr>\n",
       "      <th>2292</th>\n",
       "      <td>1499</td>\n",
       "      <td>12</td>\n",
       "      <td>65.0</td>\n",
       "      <td>496.0</td>\n",
       "      <td>0.0</td>\n",
       "      <td>22.0</td>\n",
       "    </tr>\n",
       "  </tbody>\n",
       "</table>\n",
       "<p>2293 rows × 6 columns</p>\n",
       "</div>"
      ],
      "text/plain": [
       "      user_id  month  total_calls  total_duration  total_messages  gb_used\n",
       "0        1042      1         18.0           114.0             0.0      2.0\n",
       "1        1077      1         42.0           290.0            37.0     11.0\n",
       "2        1185      1         23.0           181.0             0.0      7.0\n",
       "3        1196      1         42.0           287.0            23.0      9.0\n",
       "4        1214      1          5.0            16.0             2.0      2.0\n",
       "...       ...    ...          ...             ...             ...      ...\n",
       "2288     1495     12         65.0           492.0             0.0     24.0\n",
       "2289     1496     12         40.0           294.0            11.0     17.0\n",
       "2290     1497     12         54.0           300.0            50.0     11.0\n",
       "2291     1498     12         39.0           339.0             0.0     23.0\n",
       "2292     1499     12         65.0           496.0             0.0     22.0\n",
       "\n",
       "[2293 rows x 6 columns]"
      ]
     },
     "execution_count": 40,
     "metadata": {},
     "output_type": "execute_result"
    }
   ],
   "source": [
    "user_usage_per_month = user_usage_per_month.fillna({\n",
    "    'total_calls': 0,\n",
    "    'total_duration': 0,\n",
    "    'total_messages': 0,\n",
    "    'gb_used': 0\n",
    "})\n",
    "user_usage_per_month"
   ]
  },
  {
   "cell_type": "code",
   "execution_count": 41,
   "metadata": {
    "id": "0dNOXHag0q1H",
    "trusted": true
   },
   "outputs": [
    {
     "data": {
      "text/html": [
       "<div>\n",
       "<style scoped>\n",
       "    .dataframe tbody tr th:only-of-type {\n",
       "        vertical-align: middle;\n",
       "    }\n",
       "\n",
       "    .dataframe tbody tr th {\n",
       "        vertical-align: top;\n",
       "    }\n",
       "\n",
       "    .dataframe thead th {\n",
       "        text-align: right;\n",
       "    }\n",
       "</style>\n",
       "<table border=\"1\" class=\"dataframe\">\n",
       "  <thead>\n",
       "    <tr style=\"text-align: right;\">\n",
       "      <th></th>\n",
       "      <th>user_id</th>\n",
       "      <th>month</th>\n",
       "      <th>total_calls</th>\n",
       "      <th>total_duration</th>\n",
       "      <th>total_messages</th>\n",
       "      <th>gb_used</th>\n",
       "      <th>first_name</th>\n",
       "      <th>last_name</th>\n",
       "      <th>age</th>\n",
       "      <th>city</th>\n",
       "      <th>...</th>\n",
       "      <th>churn_date_category</th>\n",
       "      <th>included_messages</th>\n",
       "      <th>included_gb_per_month</th>\n",
       "      <th>included_minutes</th>\n",
       "      <th>usd_monthly_pay</th>\n",
       "      <th>usd_per_gb</th>\n",
       "      <th>usd_per_message</th>\n",
       "      <th>usd_per_minute</th>\n",
       "      <th>plan_name</th>\n",
       "      <th>plan_id</th>\n",
       "    </tr>\n",
       "  </thead>\n",
       "  <tbody>\n",
       "    <tr>\n",
       "      <th>0</th>\n",
       "      <td>1042</td>\n",
       "      <td>1</td>\n",
       "      <td>18.0</td>\n",
       "      <td>114.0</td>\n",
       "      <td>0.0</td>\n",
       "      <td>2.0</td>\n",
       "      <td>Clementina</td>\n",
       "      <td>Mclaughlin</td>\n",
       "      <td>40</td>\n",
       "      <td>Philadelphia-Camden-Wilmington, PA-NJ-DE-MD MSA</td>\n",
       "      <td>...</td>\n",
       "      <td>False</td>\n",
       "      <td>50</td>\n",
       "      <td>15</td>\n",
       "      <td>500</td>\n",
       "      <td>20</td>\n",
       "      <td>10</td>\n",
       "      <td>0.03</td>\n",
       "      <td>0.03</td>\n",
       "      <td>surf</td>\n",
       "      <td>1</td>\n",
       "    </tr>\n",
       "    <tr>\n",
       "      <th>1</th>\n",
       "      <td>1362</td>\n",
       "      <td>1</td>\n",
       "      <td>42.0</td>\n",
       "      <td>292.0</td>\n",
       "      <td>21.0</td>\n",
       "      <td>8.0</td>\n",
       "      <td>Kenyetta</td>\n",
       "      <td>Mcknight</td>\n",
       "      <td>65</td>\n",
       "      <td>Denver-Aurora-Lakewood, CO MSA</td>\n",
       "      <td>...</td>\n",
       "      <td>False</td>\n",
       "      <td>50</td>\n",
       "      <td>15</td>\n",
       "      <td>500</td>\n",
       "      <td>20</td>\n",
       "      <td>10</td>\n",
       "      <td>0.03</td>\n",
       "      <td>0.03</td>\n",
       "      <td>surf</td>\n",
       "      <td>1</td>\n",
       "    </tr>\n",
       "    <tr>\n",
       "      <th>2</th>\n",
       "      <td>1042</td>\n",
       "      <td>2</td>\n",
       "      <td>37.0</td>\n",
       "      <td>254.0</td>\n",
       "      <td>0.0</td>\n",
       "      <td>7.0</td>\n",
       "      <td>Clementina</td>\n",
       "      <td>Mclaughlin</td>\n",
       "      <td>40</td>\n",
       "      <td>Philadelphia-Camden-Wilmington, PA-NJ-DE-MD MSA</td>\n",
       "      <td>...</td>\n",
       "      <td>False</td>\n",
       "      <td>50</td>\n",
       "      <td>15</td>\n",
       "      <td>500</td>\n",
       "      <td>20</td>\n",
       "      <td>10</td>\n",
       "      <td>0.03</td>\n",
       "      <td>0.03</td>\n",
       "      <td>surf</td>\n",
       "      <td>1</td>\n",
       "    </tr>\n",
       "    <tr>\n",
       "      <th>3</th>\n",
       "      <td>1099</td>\n",
       "      <td>2</td>\n",
       "      <td>7.0</td>\n",
       "      <td>39.0</td>\n",
       "      <td>3.0</td>\n",
       "      <td>1.0</td>\n",
       "      <td>Shavon</td>\n",
       "      <td>Banks</td>\n",
       "      <td>48</td>\n",
       "      <td>New York-Newark-Jersey City, NY-NJ-PA MSA</td>\n",
       "      <td>...</td>\n",
       "      <td>False</td>\n",
       "      <td>50</td>\n",
       "      <td>15</td>\n",
       "      <td>500</td>\n",
       "      <td>20</td>\n",
       "      <td>10</td>\n",
       "      <td>0.03</td>\n",
       "      <td>0.03</td>\n",
       "      <td>surf</td>\n",
       "      <td>1</td>\n",
       "    </tr>\n",
       "    <tr>\n",
       "      <th>4</th>\n",
       "      <td>1138</td>\n",
       "      <td>2</td>\n",
       "      <td>42.0</td>\n",
       "      <td>307.0</td>\n",
       "      <td>7.0</td>\n",
       "      <td>16.0</td>\n",
       "      <td>Arlie</td>\n",
       "      <td>Higgins</td>\n",
       "      <td>66</td>\n",
       "      <td>Riverside-San Bernardino-Ontario, CA MSA</td>\n",
       "      <td>...</td>\n",
       "      <td>False</td>\n",
       "      <td>50</td>\n",
       "      <td>15</td>\n",
       "      <td>500</td>\n",
       "      <td>20</td>\n",
       "      <td>10</td>\n",
       "      <td>0.03</td>\n",
       "      <td>0.03</td>\n",
       "      <td>surf</td>\n",
       "      <td>1</td>\n",
       "    </tr>\n",
       "    <tr>\n",
       "      <th>...</th>\n",
       "      <td>...</td>\n",
       "      <td>...</td>\n",
       "      <td>...</td>\n",
       "      <td>...</td>\n",
       "      <td>...</td>\n",
       "      <td>...</td>\n",
       "      <td>...</td>\n",
       "      <td>...</td>\n",
       "      <td>...</td>\n",
       "      <td>...</td>\n",
       "      <td>...</td>\n",
       "      <td>...</td>\n",
       "      <td>...</td>\n",
       "      <td>...</td>\n",
       "      <td>...</td>\n",
       "      <td>...</td>\n",
       "      <td>...</td>\n",
       "      <td>...</td>\n",
       "      <td>...</td>\n",
       "      <td>...</td>\n",
       "      <td>...</td>\n",
       "    </tr>\n",
       "    <tr>\n",
       "      <th>2288</th>\n",
       "      <td>1482</td>\n",
       "      <td>12</td>\n",
       "      <td>5.0</td>\n",
       "      <td>56.0</td>\n",
       "      <td>5.0</td>\n",
       "      <td>1.0</td>\n",
       "      <td>Armand</td>\n",
       "      <td>Glenn</td>\n",
       "      <td>70</td>\n",
       "      <td>New York-Newark-Jersey City, NY-NJ-PA MSA</td>\n",
       "      <td>...</td>\n",
       "      <td>False</td>\n",
       "      <td>1000</td>\n",
       "      <td>30</td>\n",
       "      <td>3000</td>\n",
       "      <td>70</td>\n",
       "      <td>7</td>\n",
       "      <td>0.01</td>\n",
       "      <td>0.01</td>\n",
       "      <td>ultimate</td>\n",
       "      <td>2</td>\n",
       "    </tr>\n",
       "    <tr>\n",
       "      <th>2289</th>\n",
       "      <td>1487</td>\n",
       "      <td>12</td>\n",
       "      <td>56.0</td>\n",
       "      <td>416.0</td>\n",
       "      <td>66.0</td>\n",
       "      <td>14.0</td>\n",
       "      <td>Elton</td>\n",
       "      <td>Simpson</td>\n",
       "      <td>18</td>\n",
       "      <td>Cape Coral-Fort Myers, FL MSA</td>\n",
       "      <td>...</td>\n",
       "      <td>False</td>\n",
       "      <td>1000</td>\n",
       "      <td>30</td>\n",
       "      <td>3000</td>\n",
       "      <td>70</td>\n",
       "      <td>7</td>\n",
       "      <td>0.01</td>\n",
       "      <td>0.01</td>\n",
       "      <td>ultimate</td>\n",
       "      <td>2</td>\n",
       "    </tr>\n",
       "    <tr>\n",
       "      <th>2290</th>\n",
       "      <td>1490</td>\n",
       "      <td>12</td>\n",
       "      <td>50.0</td>\n",
       "      <td>368.0</td>\n",
       "      <td>0.0</td>\n",
       "      <td>46.0</td>\n",
       "      <td>Shane</td>\n",
       "      <td>Cortez</td>\n",
       "      <td>42</td>\n",
       "      <td>Sacramento–Roseville–Folsom, CA MSA</td>\n",
       "      <td>...</td>\n",
       "      <td>False</td>\n",
       "      <td>1000</td>\n",
       "      <td>30</td>\n",
       "      <td>3000</td>\n",
       "      <td>70</td>\n",
       "      <td>7</td>\n",
       "      <td>0.01</td>\n",
       "      <td>0.01</td>\n",
       "      <td>ultimate</td>\n",
       "      <td>2</td>\n",
       "    </tr>\n",
       "    <tr>\n",
       "      <th>2291</th>\n",
       "      <td>1493</td>\n",
       "      <td>12</td>\n",
       "      <td>65.0</td>\n",
       "      <td>473.0</td>\n",
       "      <td>0.0</td>\n",
       "      <td>15.0</td>\n",
       "      <td>Cicely</td>\n",
       "      <td>Wynn</td>\n",
       "      <td>18</td>\n",
       "      <td>Boston-Cambridge-Newton, MA-NH MSA</td>\n",
       "      <td>...</td>\n",
       "      <td>False</td>\n",
       "      <td>1000</td>\n",
       "      <td>30</td>\n",
       "      <td>3000</td>\n",
       "      <td>70</td>\n",
       "      <td>7</td>\n",
       "      <td>0.01</td>\n",
       "      <td>0.01</td>\n",
       "      <td>ultimate</td>\n",
       "      <td>2</td>\n",
       "    </tr>\n",
       "    <tr>\n",
       "      <th>2292</th>\n",
       "      <td>1497</td>\n",
       "      <td>12</td>\n",
       "      <td>54.0</td>\n",
       "      <td>300.0</td>\n",
       "      <td>50.0</td>\n",
       "      <td>11.0</td>\n",
       "      <td>Donte</td>\n",
       "      <td>Barrera</td>\n",
       "      <td>49</td>\n",
       "      <td>Los Angeles-Long Beach-Anaheim, CA MSA</td>\n",
       "      <td>...</td>\n",
       "      <td>False</td>\n",
       "      <td>1000</td>\n",
       "      <td>30</td>\n",
       "      <td>3000</td>\n",
       "      <td>70</td>\n",
       "      <td>7</td>\n",
       "      <td>0.01</td>\n",
       "      <td>0.01</td>\n",
       "      <td>ultimate</td>\n",
       "      <td>2</td>\n",
       "    </tr>\n",
       "  </tbody>\n",
       "</table>\n",
       "<p>2293 rows × 24 columns</p>\n",
       "</div>"
      ],
      "text/plain": [
       "      user_id  month  total_calls  total_duration  total_messages  gb_used  \\\n",
       "0        1042      1         18.0           114.0             0.0      2.0   \n",
       "1        1362      1         42.0           292.0            21.0      8.0   \n",
       "2        1042      2         37.0           254.0             0.0      7.0   \n",
       "3        1099      2          7.0            39.0             3.0      1.0   \n",
       "4        1138      2         42.0           307.0             7.0     16.0   \n",
       "...       ...    ...          ...             ...             ...      ...   \n",
       "2288     1482     12          5.0            56.0             5.0      1.0   \n",
       "2289     1487     12         56.0           416.0            66.0     14.0   \n",
       "2290     1490     12         50.0           368.0             0.0     46.0   \n",
       "2291     1493     12         65.0           473.0             0.0     15.0   \n",
       "2292     1497     12         54.0           300.0            50.0     11.0   \n",
       "\n",
       "      first_name   last_name  age  \\\n",
       "0     Clementina  Mclaughlin   40   \n",
       "1       Kenyetta    Mcknight   65   \n",
       "2     Clementina  Mclaughlin   40   \n",
       "3         Shavon       Banks   48   \n",
       "4          Arlie     Higgins   66   \n",
       "...          ...         ...  ...   \n",
       "2288      Armand       Glenn   70   \n",
       "2289       Elton     Simpson   18   \n",
       "2290       Shane      Cortez   42   \n",
       "2291      Cicely        Wynn   18   \n",
       "2292       Donte     Barrera   49   \n",
       "\n",
       "                                                 city  ...  \\\n",
       "0     Philadelphia-Camden-Wilmington, PA-NJ-DE-MD MSA  ...   \n",
       "1                      Denver-Aurora-Lakewood, CO MSA  ...   \n",
       "2     Philadelphia-Camden-Wilmington, PA-NJ-DE-MD MSA  ...   \n",
       "3           New York-Newark-Jersey City, NY-NJ-PA MSA  ...   \n",
       "4            Riverside-San Bernardino-Ontario, CA MSA  ...   \n",
       "...                                               ...  ...   \n",
       "2288        New York-Newark-Jersey City, NY-NJ-PA MSA  ...   \n",
       "2289                    Cape Coral-Fort Myers, FL MSA  ...   \n",
       "2290              Sacramento–Roseville–Folsom, CA MSA  ...   \n",
       "2291               Boston-Cambridge-Newton, MA-NH MSA  ...   \n",
       "2292           Los Angeles-Long Beach-Anaheim, CA MSA  ...   \n",
       "\n",
       "     churn_date_category included_messages included_gb_per_month  \\\n",
       "0                  False                50                    15   \n",
       "1                  False                50                    15   \n",
       "2                  False                50                    15   \n",
       "3                  False                50                    15   \n",
       "4                  False                50                    15   \n",
       "...                  ...               ...                   ...   \n",
       "2288               False              1000                    30   \n",
       "2289               False              1000                    30   \n",
       "2290               False              1000                    30   \n",
       "2291               False              1000                    30   \n",
       "2292               False              1000                    30   \n",
       "\n",
       "     included_minutes  usd_monthly_pay  usd_per_gb  usd_per_message  \\\n",
       "0                 500               20          10             0.03   \n",
       "1                 500               20          10             0.03   \n",
       "2                 500               20          10             0.03   \n",
       "3                 500               20          10             0.03   \n",
       "4                 500               20          10             0.03   \n",
       "...               ...              ...         ...              ...   \n",
       "2288             3000               70           7             0.01   \n",
       "2289             3000               70           7             0.01   \n",
       "2290             3000               70           7             0.01   \n",
       "2291             3000               70           7             0.01   \n",
       "2292             3000               70           7             0.01   \n",
       "\n",
       "      usd_per_minute  plan_name  plan_id  \n",
       "0               0.03       surf        1  \n",
       "1               0.03       surf        1  \n",
       "2               0.03       surf        1  \n",
       "3               0.03       surf        1  \n",
       "4               0.03       surf        1  \n",
       "...              ...        ...      ...  \n",
       "2288            0.01   ultimate        2  \n",
       "2289            0.01   ultimate        2  \n",
       "2290            0.01   ultimate        2  \n",
       "2291            0.01   ultimate        2  \n",
       "2292            0.01   ultimate        2  \n",
       "\n",
       "[2293 rows x 24 columns]"
      ]
     },
     "execution_count": 41,
     "metadata": {},
     "output_type": "execute_result"
    }
   ],
   "source": [
    "# Añade la información de la tarifa\n",
    "\n",
    "user_usage_per_month = user_usage_per_month.merge(users, how = 'left', on = 'user_id')\n",
    "user_usage_per_month = user_usage_per_month.merge(plans, left_on = \"plan\", right_on=\"plan_name\", how = 'outer')\n",
    "user_usage_per_month\n"
   ]
  },
  {
   "cell_type": "markdown",
   "metadata": {
    "id": "1IwGo4wg0q1I"
   },
   "source": [
    "[Calcula los ingresos mensuales por usuario (resta el límite del paquete gratuito del número total de llamadas, mensajes de texto y datos; multiplica el resultado por el valor del plan de llamadas; añade la tarifa mensual en función del plan de llamadas). Nota: Dadas las condiciones del plan, ¡esto podría no ser tan trivial como un par de líneas! Así que no pasa nada si dedicas algo de tiempo a ello.]"
   ]
  },
  {
   "cell_type": "code",
   "execution_count": 42,
   "metadata": {
    "id": "5FGCf_c60q1I",
    "trusted": true
   },
   "outputs": [
    {
     "data": {
      "text/html": [
       "<div>\n",
       "<style scoped>\n",
       "    .dataframe tbody tr th:only-of-type {\n",
       "        vertical-align: middle;\n",
       "    }\n",
       "\n",
       "    .dataframe tbody tr th {\n",
       "        vertical-align: top;\n",
       "    }\n",
       "\n",
       "    .dataframe thead th {\n",
       "        text-align: right;\n",
       "    }\n",
       "</style>\n",
       "<table border=\"1\" class=\"dataframe\">\n",
       "  <thead>\n",
       "    <tr style=\"text-align: right;\">\n",
       "      <th></th>\n",
       "      <th>user_id</th>\n",
       "      <th>month</th>\n",
       "      <th>total_calls</th>\n",
       "      <th>total_duration</th>\n",
       "      <th>total_messages</th>\n",
       "      <th>gb_used</th>\n",
       "      <th>first_name</th>\n",
       "      <th>last_name</th>\n",
       "      <th>age</th>\n",
       "      <th>city</th>\n",
       "      <th>...</th>\n",
       "      <th>usd_per_minute</th>\n",
       "      <th>plan_name</th>\n",
       "      <th>plan_id</th>\n",
       "      <th>excess_minutes</th>\n",
       "      <th>excess_messages</th>\n",
       "      <th>excess_gb</th>\n",
       "      <th>additional_minutes_cost</th>\n",
       "      <th>additional_messages_cost</th>\n",
       "      <th>additional_gb_cost</th>\n",
       "      <th>monthly_revenue</th>\n",
       "    </tr>\n",
       "  </thead>\n",
       "  <tbody>\n",
       "    <tr>\n",
       "      <th>0</th>\n",
       "      <td>1042</td>\n",
       "      <td>1</td>\n",
       "      <td>18.0</td>\n",
       "      <td>114.0</td>\n",
       "      <td>0.0</td>\n",
       "      <td>2.0</td>\n",
       "      <td>Clementina</td>\n",
       "      <td>Mclaughlin</td>\n",
       "      <td>40</td>\n",
       "      <td>Philadelphia-Camden-Wilmington, PA-NJ-DE-MD MSA</td>\n",
       "      <td>...</td>\n",
       "      <td>0.03</td>\n",
       "      <td>surf</td>\n",
       "      <td>1</td>\n",
       "      <td>0.0</td>\n",
       "      <td>0.0</td>\n",
       "      <td>0.0</td>\n",
       "      <td>0.0</td>\n",
       "      <td>0.0</td>\n",
       "      <td>0.0</td>\n",
       "      <td>20.0</td>\n",
       "    </tr>\n",
       "    <tr>\n",
       "      <th>1</th>\n",
       "      <td>1362</td>\n",
       "      <td>1</td>\n",
       "      <td>42.0</td>\n",
       "      <td>292.0</td>\n",
       "      <td>21.0</td>\n",
       "      <td>8.0</td>\n",
       "      <td>Kenyetta</td>\n",
       "      <td>Mcknight</td>\n",
       "      <td>65</td>\n",
       "      <td>Denver-Aurora-Lakewood, CO MSA</td>\n",
       "      <td>...</td>\n",
       "      <td>0.03</td>\n",
       "      <td>surf</td>\n",
       "      <td>1</td>\n",
       "      <td>0.0</td>\n",
       "      <td>0.0</td>\n",
       "      <td>0.0</td>\n",
       "      <td>0.0</td>\n",
       "      <td>0.0</td>\n",
       "      <td>0.0</td>\n",
       "      <td>20.0</td>\n",
       "    </tr>\n",
       "    <tr>\n",
       "      <th>2</th>\n",
       "      <td>1042</td>\n",
       "      <td>2</td>\n",
       "      <td>37.0</td>\n",
       "      <td>254.0</td>\n",
       "      <td>0.0</td>\n",
       "      <td>7.0</td>\n",
       "      <td>Clementina</td>\n",
       "      <td>Mclaughlin</td>\n",
       "      <td>40</td>\n",
       "      <td>Philadelphia-Camden-Wilmington, PA-NJ-DE-MD MSA</td>\n",
       "      <td>...</td>\n",
       "      <td>0.03</td>\n",
       "      <td>surf</td>\n",
       "      <td>1</td>\n",
       "      <td>0.0</td>\n",
       "      <td>0.0</td>\n",
       "      <td>0.0</td>\n",
       "      <td>0.0</td>\n",
       "      <td>0.0</td>\n",
       "      <td>0.0</td>\n",
       "      <td>20.0</td>\n",
       "    </tr>\n",
       "    <tr>\n",
       "      <th>3</th>\n",
       "      <td>1099</td>\n",
       "      <td>2</td>\n",
       "      <td>7.0</td>\n",
       "      <td>39.0</td>\n",
       "      <td>3.0</td>\n",
       "      <td>1.0</td>\n",
       "      <td>Shavon</td>\n",
       "      <td>Banks</td>\n",
       "      <td>48</td>\n",
       "      <td>New York-Newark-Jersey City, NY-NJ-PA MSA</td>\n",
       "      <td>...</td>\n",
       "      <td>0.03</td>\n",
       "      <td>surf</td>\n",
       "      <td>1</td>\n",
       "      <td>0.0</td>\n",
       "      <td>0.0</td>\n",
       "      <td>0.0</td>\n",
       "      <td>0.0</td>\n",
       "      <td>0.0</td>\n",
       "      <td>0.0</td>\n",
       "      <td>20.0</td>\n",
       "    </tr>\n",
       "    <tr>\n",
       "      <th>4</th>\n",
       "      <td>1138</td>\n",
       "      <td>2</td>\n",
       "      <td>42.0</td>\n",
       "      <td>307.0</td>\n",
       "      <td>7.0</td>\n",
       "      <td>16.0</td>\n",
       "      <td>Arlie</td>\n",
       "      <td>Higgins</td>\n",
       "      <td>66</td>\n",
       "      <td>Riverside-San Bernardino-Ontario, CA MSA</td>\n",
       "      <td>...</td>\n",
       "      <td>0.03</td>\n",
       "      <td>surf</td>\n",
       "      <td>1</td>\n",
       "      <td>0.0</td>\n",
       "      <td>0.0</td>\n",
       "      <td>1.0</td>\n",
       "      <td>0.0</td>\n",
       "      <td>0.0</td>\n",
       "      <td>10.0</td>\n",
       "      <td>30.0</td>\n",
       "    </tr>\n",
       "    <tr>\n",
       "      <th>...</th>\n",
       "      <td>...</td>\n",
       "      <td>...</td>\n",
       "      <td>...</td>\n",
       "      <td>...</td>\n",
       "      <td>...</td>\n",
       "      <td>...</td>\n",
       "      <td>...</td>\n",
       "      <td>...</td>\n",
       "      <td>...</td>\n",
       "      <td>...</td>\n",
       "      <td>...</td>\n",
       "      <td>...</td>\n",
       "      <td>...</td>\n",
       "      <td>...</td>\n",
       "      <td>...</td>\n",
       "      <td>...</td>\n",
       "      <td>...</td>\n",
       "      <td>...</td>\n",
       "      <td>...</td>\n",
       "      <td>...</td>\n",
       "      <td>...</td>\n",
       "    </tr>\n",
       "    <tr>\n",
       "      <th>2288</th>\n",
       "      <td>1482</td>\n",
       "      <td>12</td>\n",
       "      <td>5.0</td>\n",
       "      <td>56.0</td>\n",
       "      <td>5.0</td>\n",
       "      <td>1.0</td>\n",
       "      <td>Armand</td>\n",
       "      <td>Glenn</td>\n",
       "      <td>70</td>\n",
       "      <td>New York-Newark-Jersey City, NY-NJ-PA MSA</td>\n",
       "      <td>...</td>\n",
       "      <td>0.01</td>\n",
       "      <td>ultimate</td>\n",
       "      <td>2</td>\n",
       "      <td>0.0</td>\n",
       "      <td>0.0</td>\n",
       "      <td>0.0</td>\n",
       "      <td>0.0</td>\n",
       "      <td>0.0</td>\n",
       "      <td>0.0</td>\n",
       "      <td>70.0</td>\n",
       "    </tr>\n",
       "    <tr>\n",
       "      <th>2289</th>\n",
       "      <td>1487</td>\n",
       "      <td>12</td>\n",
       "      <td>56.0</td>\n",
       "      <td>416.0</td>\n",
       "      <td>66.0</td>\n",
       "      <td>14.0</td>\n",
       "      <td>Elton</td>\n",
       "      <td>Simpson</td>\n",
       "      <td>18</td>\n",
       "      <td>Cape Coral-Fort Myers, FL MSA</td>\n",
       "      <td>...</td>\n",
       "      <td>0.01</td>\n",
       "      <td>ultimate</td>\n",
       "      <td>2</td>\n",
       "      <td>0.0</td>\n",
       "      <td>0.0</td>\n",
       "      <td>0.0</td>\n",
       "      <td>0.0</td>\n",
       "      <td>0.0</td>\n",
       "      <td>0.0</td>\n",
       "      <td>70.0</td>\n",
       "    </tr>\n",
       "    <tr>\n",
       "      <th>2290</th>\n",
       "      <td>1490</td>\n",
       "      <td>12</td>\n",
       "      <td>50.0</td>\n",
       "      <td>368.0</td>\n",
       "      <td>0.0</td>\n",
       "      <td>46.0</td>\n",
       "      <td>Shane</td>\n",
       "      <td>Cortez</td>\n",
       "      <td>42</td>\n",
       "      <td>Sacramento–Roseville–Folsom, CA MSA</td>\n",
       "      <td>...</td>\n",
       "      <td>0.01</td>\n",
       "      <td>ultimate</td>\n",
       "      <td>2</td>\n",
       "      <td>0.0</td>\n",
       "      <td>0.0</td>\n",
       "      <td>16.0</td>\n",
       "      <td>0.0</td>\n",
       "      <td>0.0</td>\n",
       "      <td>112.0</td>\n",
       "      <td>182.0</td>\n",
       "    </tr>\n",
       "    <tr>\n",
       "      <th>2291</th>\n",
       "      <td>1493</td>\n",
       "      <td>12</td>\n",
       "      <td>65.0</td>\n",
       "      <td>473.0</td>\n",
       "      <td>0.0</td>\n",
       "      <td>15.0</td>\n",
       "      <td>Cicely</td>\n",
       "      <td>Wynn</td>\n",
       "      <td>18</td>\n",
       "      <td>Boston-Cambridge-Newton, MA-NH MSA</td>\n",
       "      <td>...</td>\n",
       "      <td>0.01</td>\n",
       "      <td>ultimate</td>\n",
       "      <td>2</td>\n",
       "      <td>0.0</td>\n",
       "      <td>0.0</td>\n",
       "      <td>0.0</td>\n",
       "      <td>0.0</td>\n",
       "      <td>0.0</td>\n",
       "      <td>0.0</td>\n",
       "      <td>70.0</td>\n",
       "    </tr>\n",
       "    <tr>\n",
       "      <th>2292</th>\n",
       "      <td>1497</td>\n",
       "      <td>12</td>\n",
       "      <td>54.0</td>\n",
       "      <td>300.0</td>\n",
       "      <td>50.0</td>\n",
       "      <td>11.0</td>\n",
       "      <td>Donte</td>\n",
       "      <td>Barrera</td>\n",
       "      <td>49</td>\n",
       "      <td>Los Angeles-Long Beach-Anaheim, CA MSA</td>\n",
       "      <td>...</td>\n",
       "      <td>0.01</td>\n",
       "      <td>ultimate</td>\n",
       "      <td>2</td>\n",
       "      <td>0.0</td>\n",
       "      <td>0.0</td>\n",
       "      <td>0.0</td>\n",
       "      <td>0.0</td>\n",
       "      <td>0.0</td>\n",
       "      <td>0.0</td>\n",
       "      <td>70.0</td>\n",
       "    </tr>\n",
       "  </tbody>\n",
       "</table>\n",
       "<p>2293 rows × 31 columns</p>\n",
       "</div>"
      ],
      "text/plain": [
       "      user_id  month  total_calls  total_duration  total_messages  gb_used  \\\n",
       "0        1042      1         18.0           114.0             0.0      2.0   \n",
       "1        1362      1         42.0           292.0            21.0      8.0   \n",
       "2        1042      2         37.0           254.0             0.0      7.0   \n",
       "3        1099      2          7.0            39.0             3.0      1.0   \n",
       "4        1138      2         42.0           307.0             7.0     16.0   \n",
       "...       ...    ...          ...             ...             ...      ...   \n",
       "2288     1482     12          5.0            56.0             5.0      1.0   \n",
       "2289     1487     12         56.0           416.0            66.0     14.0   \n",
       "2290     1490     12         50.0           368.0             0.0     46.0   \n",
       "2291     1493     12         65.0           473.0             0.0     15.0   \n",
       "2292     1497     12         54.0           300.0            50.0     11.0   \n",
       "\n",
       "      first_name   last_name  age  \\\n",
       "0     Clementina  Mclaughlin   40   \n",
       "1       Kenyetta    Mcknight   65   \n",
       "2     Clementina  Mclaughlin   40   \n",
       "3         Shavon       Banks   48   \n",
       "4          Arlie     Higgins   66   \n",
       "...          ...         ...  ...   \n",
       "2288      Armand       Glenn   70   \n",
       "2289       Elton     Simpson   18   \n",
       "2290       Shane      Cortez   42   \n",
       "2291      Cicely        Wynn   18   \n",
       "2292       Donte     Barrera   49   \n",
       "\n",
       "                                                 city  ... usd_per_minute  \\\n",
       "0     Philadelphia-Camden-Wilmington, PA-NJ-DE-MD MSA  ...           0.03   \n",
       "1                      Denver-Aurora-Lakewood, CO MSA  ...           0.03   \n",
       "2     Philadelphia-Camden-Wilmington, PA-NJ-DE-MD MSA  ...           0.03   \n",
       "3           New York-Newark-Jersey City, NY-NJ-PA MSA  ...           0.03   \n",
       "4            Riverside-San Bernardino-Ontario, CA MSA  ...           0.03   \n",
       "...                                               ...  ...            ...   \n",
       "2288        New York-Newark-Jersey City, NY-NJ-PA MSA  ...           0.01   \n",
       "2289                    Cape Coral-Fort Myers, FL MSA  ...           0.01   \n",
       "2290              Sacramento–Roseville–Folsom, CA MSA  ...           0.01   \n",
       "2291               Boston-Cambridge-Newton, MA-NH MSA  ...           0.01   \n",
       "2292           Los Angeles-Long Beach-Anaheim, CA MSA  ...           0.01   \n",
       "\n",
       "     plan_name plan_id excess_minutes  excess_messages  excess_gb  \\\n",
       "0         surf       1            0.0              0.0        0.0   \n",
       "1         surf       1            0.0              0.0        0.0   \n",
       "2         surf       1            0.0              0.0        0.0   \n",
       "3         surf       1            0.0              0.0        0.0   \n",
       "4         surf       1            0.0              0.0        1.0   \n",
       "...        ...     ...            ...              ...        ...   \n",
       "2288  ultimate       2            0.0              0.0        0.0   \n",
       "2289  ultimate       2            0.0              0.0        0.0   \n",
       "2290  ultimate       2            0.0              0.0       16.0   \n",
       "2291  ultimate       2            0.0              0.0        0.0   \n",
       "2292  ultimate       2            0.0              0.0        0.0   \n",
       "\n",
       "      additional_minutes_cost  additional_messages_cost  additional_gb_cost  \\\n",
       "0                         0.0                       0.0                 0.0   \n",
       "1                         0.0                       0.0                 0.0   \n",
       "2                         0.0                       0.0                 0.0   \n",
       "3                         0.0                       0.0                 0.0   \n",
       "4                         0.0                       0.0                10.0   \n",
       "...                       ...                       ...                 ...   \n",
       "2288                      0.0                       0.0                 0.0   \n",
       "2289                      0.0                       0.0                 0.0   \n",
       "2290                      0.0                       0.0               112.0   \n",
       "2291                      0.0                       0.0                 0.0   \n",
       "2292                      0.0                       0.0                 0.0   \n",
       "\n",
       "      monthly_revenue  \n",
       "0                20.0  \n",
       "1                20.0  \n",
       "2                20.0  \n",
       "3                20.0  \n",
       "4                30.0  \n",
       "...               ...  \n",
       "2288             70.0  \n",
       "2289             70.0  \n",
       "2290            182.0  \n",
       "2291             70.0  \n",
       "2292             70.0  \n",
       "\n",
       "[2293 rows x 31 columns]"
      ]
     },
     "execution_count": 42,
     "metadata": {},
     "output_type": "execute_result"
    }
   ],
   "source": [
    "# Calcula el ingreso mensual para cada usuario\n",
    "\n",
    "#Calcular el exceso de uso\n",
    "user_usage_per_month['excess_minutes'] = (\n",
    "    user_usage_per_month['total_duration'] -\n",
    "    user_usage_per_month['included_minutes']\n",
    ").clip(lower=0)\n",
    "\n",
    "user_usage_per_month['excess_messages'] = (\n",
    "    user_usage_per_month['total_messages'] -\n",
    "    user_usage_per_month['included_messages']\n",
    "    ).clip(lower=0)\n",
    "\n",
    "user_usage_per_month['excess_gb'] = (\n",
    "    user_usage_per_month['gb_used'] -\n",
    "    user_usage_per_month['included_gb_per_month']\n",
    ").clip(lower=0)\n",
    "\n",
    "# Calcular el costo adicional por exceso de uso\n",
    "user_usage_per_month['additional_minutes_cost'] =(\n",
    "    user_usage_per_month['excess_messages']*\n",
    "    user_usage_per_month['usd_per_minute']\n",
    ")\n",
    "\n",
    "user_usage_per_month['additional_messages_cost'] = (\n",
    "    user_usage_per_month['excess_messages']*\n",
    "    user_usage_per_month['usd_per_message']\n",
    ")\n",
    "\n",
    "user_usage_per_month['additional_gb_cost'] = (\n",
    "    user_usage_per_month['excess_gb']*\n",
    "    user_usage_per_month['usd_per_gb']\n",
    ")\n",
    "\n",
    "user_usage_per_month['additional_minutes_cost']=user_usage_per_month['additional_minutes_cost']\n",
    "user_usage_per_month['additional_messages_cost']=user_usage_per_month['additional_messages_cost']\n",
    "user_usage_per_month['additional_gb_cost']=user_usage_per_month['additional_gb_cost']\n",
    "\n",
    "\n",
    "#Calcular el ingreso mensual por usuario\n",
    "user_usage_per_month['monthly_revenue'] =(\n",
    "    user_usage_per_month['usd_monthly_pay'] +\n",
    "    user_usage_per_month['additional_minutes_cost'] +\n",
    "    user_usage_per_month['additional_messages_cost'] +\n",
    "    user_usage_per_month['additional_gb_cost']\n",
    ")\n",
    "\n",
    "#Ver el DataFrame con los ingresos mensuales\n",
    "user_usage_per_month\n"
   ]
  },
  {
   "cell_type": "code",
   "execution_count": 43,
   "metadata": {
    "trusted": true
   },
   "outputs": [
    {
     "name": "stdout",
     "output_type": "stream",
     "text": [
      "<class 'pandas.core.frame.DataFrame'>\n",
      "RangeIndex: 2293 entries, 0 to 2292\n",
      "Data columns (total 31 columns):\n",
      " #   Column                    Non-Null Count  Dtype         \n",
      "---  ------                    --------------  -----         \n",
      " 0   user_id                   2293 non-null   int64         \n",
      " 1   month                     2293 non-null   int32         \n",
      " 2   total_calls               2293 non-null   float64       \n",
      " 3   total_duration            2293 non-null   float64       \n",
      " 4   total_messages            2293 non-null   float64       \n",
      " 5   gb_used                   2293 non-null   float64       \n",
      " 6   first_name                2293 non-null   object        \n",
      " 7   last_name                 2293 non-null   object        \n",
      " 8   age                       2293 non-null   int64         \n",
      " 9   city                      2293 non-null   object        \n",
      " 10  reg_date                  2293 non-null   datetime64[ns]\n",
      " 11  plan                      2293 non-null   object        \n",
      " 12  churn_date                2293 non-null   object        \n",
      " 13  city_name                 2293 non-null   object        \n",
      " 14  churn_date_category       2293 non-null   bool          \n",
      " 15  included_messages         2293 non-null   int64         \n",
      " 16  included_gb_per_month     2293 non-null   int32         \n",
      " 17  included_minutes          2293 non-null   int64         \n",
      " 18  usd_monthly_pay           2293 non-null   int64         \n",
      " 19  usd_per_gb                2293 non-null   int64         \n",
      " 20  usd_per_message           2293 non-null   float64       \n",
      " 21  usd_per_minute            2293 non-null   float64       \n",
      " 22  plan_name                 2293 non-null   object        \n",
      " 23  plan_id                   2293 non-null   int64         \n",
      " 24  excess_minutes            2293 non-null   float64       \n",
      " 25  excess_messages           2293 non-null   float64       \n",
      " 26  excess_gb                 2293 non-null   float64       \n",
      " 27  additional_minutes_cost   2293 non-null   float64       \n",
      " 28  additional_messages_cost  2293 non-null   float64       \n",
      " 29  additional_gb_cost        2293 non-null   float64       \n",
      " 30  monthly_revenue           2293 non-null   float64       \n",
      "dtypes: bool(1), datetime64[ns](1), float64(13), int32(2), int64(7), object(7)\n",
      "memory usage: 521.9+ KB\n"
     ]
    }
   ],
   "source": [
    "user_usage_per_month.info()"
   ]
  },
  {
   "cell_type": "markdown",
   "metadata": {
    "id": "-jtyHzJb0q1I"
   },
   "source": [
    "## Estudia el comportamiento de usuario"
   ]
  },
  {
   "cell_type": "markdown",
   "metadata": {
    "id": "AxU3Y0N70q1J"
   },
   "source": [
    "[Calcula algunas estadísticas descriptivas para los datos agregados y fusionados que nos sean útiles y que muestren un panorama general captado por los datos. Dibuja gráficos útiles para facilitar la comprensión. Dado que la tarea principal es comparar las tarifas y decidir cuál es más rentable, las estadísticas y gráficas deben calcularse por tarifa.]\n",
    "\n",
    "[En los comentarios hallarás pistas relevantes para las llamadas, pero no las hay para los mensajes e Internet. Sin embargo, el principio del estudio estadístico que se aplica para ellos es el mismo que para las llamadas.]"
   ]
  },
  {
   "cell_type": "markdown",
   "metadata": {
    "id": "vtW4CJEe0q1J"
   },
   "source": [
    "### Llamadas"
   ]
  },
  {
   "cell_type": "code",
   "execution_count": 44,
   "metadata": {
    "id": "Jf5v5--k0q1J",
    "trusted": true
   },
   "outputs": [
    {
     "name": "stdout",
     "output_type": "stream",
     "text": [
      "0       114.0\n",
      "1       292.0\n",
      "2       254.0\n",
      "3        39.0\n",
      "4       307.0\n",
      "        ...  \n",
      "2288     56.0\n",
      "2289    416.0\n",
      "2290    368.0\n",
      "2291    473.0\n",
      "2292    300.0\n",
      "Name: total_duration, Length: 2293, dtype: float64\n"
     ]
    }
   ],
   "source": [
    "# Compara la duración promedio de llamadas por cada plan y por cada mes. Traza un gráfico de barras para visualizarla.\n",
    "\n",
    "print(user_usage_per_month['total_duration'])"
   ]
  },
  {
   "cell_type": "code",
   "execution_count": 45,
   "metadata": {
    "id": "QoLqW1S_0q1J",
    "trusted": true
   },
   "outputs": [
    {
     "data": {
      "text/plain": [
       "Text(0.5, 0, 'Minutos usados mensualmente en llamadas por cada usuario')"
      ]
     },
     "execution_count": 45,
     "metadata": {},
     "output_type": "execute_result"
    },
    {
     "data": {
      "image/png": "[encoded data removed]",
      "text/plain": [
       "<Figure size 800x500 with 1 Axes>"
      ]
     },
     "metadata": {},
     "output_type": "display_data"
    }
   ],
   "source": [
    "# Compara el número de minutos mensuales que necesitan los usuarios de cada plan. Traza un histograma.\n",
    "\n",
    "plan_surf = user_usage_per_month[user_usage_per_month['plan'] == 'surf']\n",
    "plan_ultimate = user_usage_per_month[user_usage_per_month['plan'] == 'ultimate']\n",
    "\n",
    "\n",
    "plan_surf = plan_surf['total_duration']\n",
    "plan_ultimate = plan_ultimate['total_duration']\n",
    "data = pd.concat([plan_surf, plan_ultimate], axis = 1)\n",
    "data.columns = ['surf', 'ultimate']\n",
    "data.plot(kind = 'hist',\n",
    "          bins = 14,\n",
    "          figsize =[8, 5],\n",
    "          title = 'Histograma de frecuencias',\n",
    "          legend = ['surf', 'ultimate'],\n",
    "          edgecolor = 'orange',\n",
    "          color = ['#9fb7a8', '#fbc6b5'],\n",
    "          alpha = 0.7,\n",
    "          grid = True)\n",
    "plt.legend()\n",
    "plt.ylabel('Frecuencia', fontsize=12)\n",
    "plt.xlabel('Minutos usados mensualmente en llamadas por cada usuario', fontsize=12)\n"
   ]
  },
  {
   "cell_type": "markdown",
   "metadata": {
    "id": "bLS9T8OH0q1K"
   },
   "source": [
    "[Calcula la media y la variable de la duración de las llamadas para averiguar si los usuarios de los distintos planes se comportan de forma diferente al realizar sus llamadas.]"
   ]
  },
  {
   "cell_type": "code",
   "execution_count": 46,
   "metadata": {
    "id": "oSndbAnt0q1K",
    "trusted": true
   },
   "outputs": [
    {
     "name": "stdout",
     "output_type": "stream",
     "text": [
      "Media y varianza de la duración mensual de llamada por plan:\n"
     ]
    },
    {
     "data": {
      "text/html": [
       "<div>\n",
       "<style scoped>\n",
       "    .dataframe tbody tr th:only-of-type {\n",
       "        vertical-align: middle;\n",
       "    }\n",
       "\n",
       "    .dataframe tbody tr th {\n",
       "        vertical-align: top;\n",
       "    }\n",
       "\n",
       "    .dataframe thead th {\n",
       "        text-align: right;\n",
       "    }\n",
       "</style>\n",
       "<table border=\"1\" class=\"dataframe\">\n",
       "  <thead>\n",
       "    <tr style=\"text-align: right;\">\n",
       "      <th></th>\n",
       "      <th>mean</th>\n",
       "      <th>var</th>\n",
       "    </tr>\n",
       "    <tr>\n",
       "      <th>plan</th>\n",
       "      <th></th>\n",
       "      <th></th>\n",
       "    </tr>\n",
       "  </thead>\n",
       "  <tbody>\n",
       "    <tr>\n",
       "      <th>surf</th>\n",
       "      <td>428.749523</td>\n",
       "      <td>54968.279461</td>\n",
       "    </tr>\n",
       "    <tr>\n",
       "      <th>ultimate</th>\n",
       "      <td>430.450000</td>\n",
       "      <td>57844.464812</td>\n",
       "    </tr>\n",
       "  </tbody>\n",
       "</table>\n",
       "</div>"
      ],
      "text/plain": [
       "                mean           var\n",
       "plan                              \n",
       "surf      428.749523  54968.279461\n",
       "ultimate  430.450000  57844.464812"
      ]
     },
     "metadata": {},
     "output_type": "display_data"
    }
   ],
   "source": [
    "# Calcula la media y la varianza de la duración mensual de llamadas.\n",
    "\n",
    "call_duration_stats = user_usage_per_month.groupby('plan')['total_duration'].agg(['mean', 'var'])\n",
    "print(\"Media y varianza de la duración mensual de llamada por plan:\")\n",
    "display(call_duration_stats)"
   ]
  },
  {
   "cell_type": "code",
   "execution_count": 47,
   "metadata": {
    "id": "nZzoRUKc0q1K",
    "trusted": true
   },
   "outputs": [
    {
     "data": {
      "image/png": "[encoded data removed]",
      "text/plain": [
       "<Figure size 1000x600 with 1 Axes>"
      ]
     },
     "metadata": {},
     "output_type": "display_data"
    }
   ],
   "source": [
    "# Traza un diagrama de caja para visualizar la distribución de la duración mensual de llamadas# La columna 'call_date' esté en formato datetime y extraer el mes\n",
    "\n",
    "plt.figure(figsize=(10, 6))\n",
    "sns.boxplot(\n",
    "    x='plan', \n",
    "    y='total_duration',\n",
    "    data=user_usage_per_month,\n",
    "    hue='plan',\n",
    "    palette=\"Set2\"\n",
    ")\n",
    "\n",
    "# Personalizar el gráfico\n",
    "plt.title('Distribución Mensual de la Duración de Llamadas por plan', fontsize=16)\n",
    "plt.xlabel('Plan', fontsize=14)\n",
    "plt.ylabel('Duración de llamadas mensual (minutos)', fontsize=14)\n",
    "plt.show()"
   ]
  },
  {
   "cell_type": "markdown",
   "metadata": {
    "id": "r627zBO50q1K"
   },
   "source": [
    "[Elabora las conclusiones sobre el comportamiento de los usuarios con respecto a las llamadas. ¿Su comportamiento varía en función del plan?]\n",
    "\n",
    "Observé que la cantidad de minutos consumidos mensualmente difiere según el plan. Los planes presentan una mayor concentración de usuarios con altos volúmenes de minutos, mientras que la distribución es más concentrada en rangos inferiores. Esto indica que la estructura de minutos incluidos y el costo por minuto adicional influyen en la forma en que los usuarios gestionan su consumo.\n",
    "El análisis de los medios y variación de la duración de las llamadas por plan y mes sugiere que los usuarios no se comportan de manera homogénea. \n"
   ]
  },
  {
   "cell_type": "markdown",
   "metadata": {
    "id": "8idKy8Wh0q1L"
   },
   "source": [
    "### Mensajes"
   ]
  },
  {
   "cell_type": "code",
   "execution_count": 48,
   "metadata": {
    "id": "NXLxiTit0q1L",
    "trusted": true
   },
   "outputs": [
    {
     "name": "stdout",
     "output_type": "stream",
     "text": [
      "        plan  month  total_messages\n",
      "0       surf      1       10.500000\n",
      "1       surf      2       12.000000\n",
      "2       surf      3       15.260870\n",
      "3       surf      4       17.400000\n",
      "4       surf      5       24.012987\n",
      "5       surf      6       25.298969\n",
      "6       surf      7       27.033058\n",
      "7       surf      8       28.777778\n",
      "8       surf      9       30.762887\n",
      "9       surf     10       33.839662\n",
      "10      surf     11       32.385159\n",
      "11      surf     12       38.600629\n",
      "12  ultimate      1       15.500000\n",
      "13  ultimate      2       21.571429\n",
      "14  ultimate      3       20.250000\n",
      "15  ultimate      4       22.047619\n",
      "16  ultimate      5       32.103448\n",
      "17  ultimate      6       29.340426\n",
      "18  ultimate      7       32.830508\n",
      "19  ultimate      8       38.478873\n",
      "20  ultimate      9       37.895349\n",
      "21  ultimate     10       39.443396\n",
      "22  ultimate     11       38.606299\n",
      "23  ultimate     12       45.006623\n"
     ]
    },
    {
     "data": {
      "image/png": "[encoded data removed]",
      "text/plain": [
       "<Figure size 1000x600 with 1 Axes>"
      ]
     },
     "metadata": {},
     "output_type": "display_data"
    }
   ],
   "source": [
    "# Compara el número de mensajes que tienden a enviar cada mes los usuarios de cada plan\n",
    "\n",
    "mean_messages = user_usage_per_month.groupby(['plan', 'month'])['total_messages'].mean().reset_index()\n",
    "print(mean_messages)\n",
    "\n",
    "#Grafico de barras para la duration promedio de llamadas\n",
    "plt.figure(figsize=(10, 6))\n",
    "sns.barplot(x='month', y='total_messages', hue='plan', data=mean_messages, palette=\"Set2\")\n",
    "plt.title('PROMEDIO DE MENSAJES ENVIADOS POR MES')\n",
    "plt.xlabel('MES')\n",
    "plt.ylabel('MENSAJES ENVIADOS')\n",
    "plt.legend(title='plan')\n",
    "plt.show()"
   ]
  },
  {
   "cell_type": "code",
   "execution_count": 49,
   "metadata": {
    "trusted": true
   },
   "outputs": [
    {
     "data": {
      "image/png": "[encoded data removed]",
      "text/plain": [
       "<Figure size 1000x600 with 1 Axes>"
      ]
     },
     "metadata": {},
     "output_type": "display_data"
    }
   ],
   "source": [
    "plt.figure(figsize=(10, 6))\n",
    "sns.histplot(data=user_usage_per_month, x='total_messages', hue='plan', kde=True, bins=30, palette=\"Set2\")\n",
    "plt.title('Distribución de los mensajes enviados por plan')\n",
    "plt.xlabel('Número de mensajes')\n",
    "plt.ylabel('Frecuencia')\n",
    "plt.show()\n"
   ]
  },
  {
   "cell_type": "code",
   "execution_count": 50,
   "metadata": {
    "trusted": true
   },
   "outputs": [
    {
     "name": "stdout",
     "output_type": "stream",
     "text": [
      "               mean          var\n",
      "plan                            \n",
      "surf      31.159568  1126.724522\n",
      "ultimate  37.551389  1208.756744\n"
     ]
    }
   ],
   "source": [
    "messages_stats = user_usage_per_month.groupby('plan')['total_messages'].agg(['mean', 'var'])\n",
    "print(messages_stats)"
   ]
  },
  {
   "cell_type": "code",
   "execution_count": 51,
   "metadata": {
    "trusted": true
   },
   "outputs": [
    {
     "data": {
      "image/png": "[encoded data removed]",
      "text/plain": [
       "<Figure size 1000x600 with 1 Axes>"
      ]
     },
     "metadata": {},
     "output_type": "display_data"
    }
   ],
   "source": [
    "plt.figure(figsize=(10, 6))\n",
    "sns.boxplot(\n",
    "    x='plan',\n",
    "    y='total_messages',\n",
    "    data=user_usage_per_month,\n",
    "    hue=\"plan\",\n",
    "    palette=\"Set2\")\n",
    "plt.title('Distribución de los mensajes enviados por plan')\n",
    "plt.xlabel('Plan')\n",
    "plt.ylabel('Mensajes enviados')\n",
    "plt.show()\n"
   ]
  },
  {
   "cell_type": "code",
   "execution_count": 52,
   "metadata": {
    "id": "GRI_R7xF0q1L",
    "trusted": true
   },
   "outputs": [
    {
     "data": {
      "text/html": [
       "<div>\n",
       "<style scoped>\n",
       "    .dataframe tbody tr th:only-of-type {\n",
       "        vertical-align: middle;\n",
       "    }\n",
       "\n",
       "    .dataframe tbody tr th {\n",
       "        vertical-align: top;\n",
       "    }\n",
       "\n",
       "    .dataframe thead th {\n",
       "        text-align: right;\n",
       "    }\n",
       "</style>\n",
       "<table border=\"1\" class=\"dataframe\">\n",
       "  <thead>\n",
       "    <tr style=\"text-align: right;\">\n",
       "      <th></th>\n",
       "      <th>plan</th>\n",
       "      <th>included_gb_per_month</th>\n",
       "      <th>gb_used</th>\n",
       "      <th>excess_gb</th>\n",
       "      <th>usd_monthly_pay</th>\n",
       "    </tr>\n",
       "  </thead>\n",
       "  <tbody>\n",
       "    <tr>\n",
       "      <th>0</th>\n",
       "      <td>surf</td>\n",
       "      <td>15</td>\n",
       "      <td>26245.0</td>\n",
       "      <td>6094.0</td>\n",
       "      <td>20</td>\n",
       "    </tr>\n",
       "    <tr>\n",
       "      <th>1</th>\n",
       "      <td>ultimate</td>\n",
       "      <td>30</td>\n",
       "      <td>12481.0</td>\n",
       "      <td>240.0</td>\n",
       "      <td>70</td>\n",
       "    </tr>\n",
       "  </tbody>\n",
       "</table>\n",
       "</div>"
      ],
      "text/plain": [
       "       plan  included_gb_per_month  gb_used  excess_gb  usd_monthly_pay\n",
       "0      surf                     15  26245.0     6094.0               20\n",
       "1  ultimate                     30  12481.0      240.0               70"
      ]
     },
     "metadata": {},
     "output_type": "display_data"
    }
   ],
   "source": [
    "# Compara la cantidad de tráfico de Internet consumido por usuarios por plan\n",
    "\n",
    "internet_usage =user_usage_per_month.groupby('plan').agg({\n",
    "    'included_gb_per_month': 'first',\n",
    "    'gb_used': 'sum',\n",
    "    'excess_gb': 'sum',\n",
    "    'usd_monthly_pay': 'first'\n",
    "}).reset_index()\n",
    "\n",
    "# Mostrar el DataFrame resultante\n",
    "display(internet_usage)\n"
   ]
  },
  {
   "cell_type": "markdown",
   "metadata": {},
   "source": [
    "Alejandro, ya corregí los datos inventados, me encontraba haciendo pruebas, ya que agregué un tercer plan para ver el comportamiento de la grafica. solamente que ahora no aparece bien. Quedo pendiente de tu feedback. Gracias"
   ]
  },
  {
   "cell_type": "markdown",
   "metadata": {
    "id": "390SSL480q1M"
   },
   "source": [
    "[Elabora las conclusiones sobre el comportamiento de los usuarios con respecto a los mensajes. ¿Su comportamiento varía en función del plan?]\n",
    "\n",
    "Mayor actividad en planes  superiores:\n",
    "Los usuarios con plan ultimate suelen disponer de más recursos (como mayor ancho de banda y beneficios adicionales) y, en consecuencia, tienden a intercambiar un mayor volumen de mensajes. Esto puede deberse a que dicho plan facilita el uso de aplicaciones de mensajería integradas o permitan un mayor uso intensivo sin preocupación por limitaciones.\n",
    "\n",
    "Por otro lado, los usuarios con plan surf, al contar con recursos más limitados, pueden optar por un uso más conservador de los servicios de mensajería.\n",
    "\n"
   ]
  },
  {
   "cell_type": "markdown",
   "metadata": {
    "id": "42YSypXz0q1M"
   },
   "source": [
    "### Internet"
   ]
  },
  {
   "cell_type": "code",
   "execution_count": 53,
   "metadata": {
    "trusted": true
   },
   "outputs": [
    {
     "data": {
      "image/png": "[encoded data removed]",
      "text/plain": [
       "<Figure size 1000x600 with 1 Axes>"
      ]
     },
     "metadata": {},
     "output_type": "display_data"
    }
   ],
   "source": [
    "internet_usage = user_usage_per_month.groupby(['plan', 'month'])['gb_used'].mean().reset_index()\n",
    "# Graficar la comparación en un gráfico de barras\n",
    "plt.figure(figsize=(10, 6))\n",
    "sns.barplot (x='month', y='gb_used', hue='plan', data=internet_usage)\n",
    "plt.title('Promedio de MB usados por plan y mes')\n",
    "plt.xlabel('Mes')\n",
    "plt.ylabel('Promedio de MB utilizados')\n",
    "plt.legend(\"Plan\")\n",
    "plt.show()"
   ]
  },
  {
   "cell_type": "code",
   "execution_count": 54,
   "metadata": {
    "trusted": true
   },
   "outputs": [
    {
     "data": {
      "text/html": [
       "<div>\n",
       "<style scoped>\n",
       "    .dataframe tbody tr th:only-of-type {\n",
       "        vertical-align: middle;\n",
       "    }\n",
       "\n",
       "    .dataframe tbody tr th {\n",
       "        vertical-align: top;\n",
       "    }\n",
       "\n",
       "    .dataframe thead tr th {\n",
       "        text-align: left;\n",
       "    }\n",
       "</style>\n",
       "<table border=\"1\" class=\"dataframe\">\n",
       "  <thead>\n",
       "    <tr>\n",
       "      <th></th>\n",
       "      <th>plan</th>\n",
       "      <th colspan=\"3\" halign=\"left\">gb_used</th>\n",
       "    </tr>\n",
       "    <tr>\n",
       "      <th></th>\n",
       "      <th></th>\n",
       "      <th>mean</th>\n",
       "      <th>median</th>\n",
       "      <th>std</th>\n",
       "    </tr>\n",
       "  </thead>\n",
       "  <tbody>\n",
       "    <tr>\n",
       "      <th>0</th>\n",
       "      <td>surf</td>\n",
       "      <td>16.684679</td>\n",
       "      <td>17.0</td>\n",
       "      <td>7.852067</td>\n",
       "    </tr>\n",
       "    <tr>\n",
       "      <th>1</th>\n",
       "      <td>ultimate</td>\n",
       "      <td>17.334722</td>\n",
       "      <td>17.0</td>\n",
       "      <td>7.677282</td>\n",
       "    </tr>\n",
       "  </tbody>\n",
       "</table>\n",
       "</div>"
      ],
      "text/plain": [
       "       plan    gb_used                 \n",
       "                  mean median       std\n",
       "0      surf  16.684679   17.0  7.852067\n",
       "1  ultimate  17.334722   17.0  7.677282"
      ]
     },
     "metadata": {},
     "output_type": "display_data"
    }
   ],
   "source": [
    "internet_stats = user_usage_per_month.groupby('plan').agg({\n",
    "    'gb_used': ['mean', 'median', 'std']\n",
    "}).reset_index()\n",
    "\n",
    "display(internet_stats)"
   ]
  },
  {
   "cell_type": "code",
   "execution_count": 55,
   "metadata": {
    "trusted": true
   },
   "outputs": [
    {
     "data": {
      "image/png": "[encoded data removed]",
      "text/plain": [
       "<Figure size 1000x600 with 1 Axes>"
      ]
     },
     "metadata": {},
     "output_type": "display_data"
    }
   ],
   "source": [
    "plt.figure(figsize=(10, 6))\n",
    "sns.histplot(data=user_usage_per_month, x='gb_used', hue='plan', kde=True, bins=30)\n",
    "plt.title('Distribución del uso de Internet por plan')\n",
    "plt.xlabel('uso de MB')\n",
    "plt.ylabel('Frecuencia')\n",
    "plt.show()"
   ]
  },
  {
   "cell_type": "code",
   "execution_count": 56,
   "metadata": {
    "id": "lSuKPtjh0q1M",
    "trusted": true
   },
   "outputs": [
    {
     "data": {
      "image/png": "[encoded data removed]",
      "text/plain": [
       "<Figure size 1000x600 with 1 Axes>"
      ]
     },
     "metadata": {},
     "output_type": "display_data"
    }
   ],
   "source": [
    "plt.figure(figsize=(10, 6))\n",
    "sns.boxplot(x='plan', y='gb_used', data=user_usage_per_month, hue=\"plan\")\n",
    "plt.title('Distribución del uso de Internet por plan')\n",
    "plt.xlabel('Plan')\n",
    "plt.ylabel('Uso de Internet (GB)')\n",
    "plt.show()"
   ]
  },
  {
   "cell_type": "markdown",
   "metadata": {
    "id": "UN9zwuMP0q1N"
   },
   "source": [
    "[Elabora las conclusiones sobre cómo los usuarios tienden a consumir el tráfico de Internet. ¿Su comportamiento varía en función del plan?]\n",
    "\n",
    " Los datos muestran que a mayor capacidad del plan, mayor es el tráfico consumido. Esto sugiere que los usuarios que contratan plan Ultimate tienden a aprovechar esa capacidad adicional."
   ]
  },
  {
   "cell_type": "markdown",
   "metadata": {
    "id": "tCijq3260q1N"
   },
   "source": [
    "## Ingreso"
   ]
  },
  {
   "cell_type": "markdown",
   "metadata": {
    "id": "9nq5IAcy0q1O"
   },
   "source": [
    "[Del mismo modo que has estudiado el comportamiento de los usuarios, describe estadísticamente los ingresos de los planes.]"
   ]
  },
  {
   "cell_type": "code",
   "execution_count": 57,
   "metadata": {
    "trusted": true
   },
   "outputs": [
    {
     "data": {
      "text/plain": [
       "'Ingresos promedio por plan:'"
      ]
     },
     "metadata": {},
     "output_type": "display_data"
    },
    {
     "data": {
      "text/html": [
       "<div>\n",
       "<style scoped>\n",
       "    .dataframe tbody tr th:only-of-type {\n",
       "        vertical-align: middle;\n",
       "    }\n",
       "\n",
       "    .dataframe tbody tr th {\n",
       "        vertical-align: top;\n",
       "    }\n",
       "\n",
       "    .dataframe thead th {\n",
       "        text-align: right;\n",
       "    }\n",
       "</style>\n",
       "<table border=\"1\" class=\"dataframe\">\n",
       "  <thead>\n",
       "    <tr style=\"text-align: right;\">\n",
       "      <th></th>\n",
       "      <th>mean</th>\n",
       "      <th>std</th>\n",
       "    </tr>\n",
       "    <tr>\n",
       "      <th>plan</th>\n",
       "      <th></th>\n",
       "      <th></th>\n",
       "    </tr>\n",
       "  </thead>\n",
       "  <tbody>\n",
       "    <tr>\n",
       "      <th>surf</th>\n",
       "      <td>59.162022</td>\n",
       "      <td>54.708981</td>\n",
       "    </tr>\n",
       "    <tr>\n",
       "      <th>ultimate</th>\n",
       "      <td>72.333333</td>\n",
       "      <td>11.498322</td>\n",
       "    </tr>\n",
       "  </tbody>\n",
       "</table>\n",
       "</div>"
      ],
      "text/plain": [
       "               mean        std\n",
       "plan                          \n",
       "surf      59.162022  54.708981\n",
       "ultimate  72.333333  11.498322"
      ]
     },
     "metadata": {},
     "output_type": "display_data"
    }
   ],
   "source": [
    "# Ingreso promedio por plan\n",
    "avg_income_per_plan = user_usage_per_month.groupby(\"plan\")[\"monthly_revenue\"].agg([\"mean\", \"std\"])\n",
    "display(\"Ingresos promedio por plan:\", avg_income_per_plan)"
   ]
  },
  {
   "cell_type": "code",
   "execution_count": 58,
   "metadata": {
    "trusted": true
   },
   "outputs": [
    {
     "name": "stderr",
     "output_type": "stream",
     "text": [
      "C:\\Users\\ISRAELMARIANA\\AppData\\Local\\Temp\\ipykernel_12124\\2524499654.py:4: FutureWarning: \n",
      "\n",
      "Passing `palette` without assigning `hue` is deprecated and will be removed in v0.14.0. Assign the `x` variable to `hue` and set `legend=False` for the same effect.\n",
      "\n",
      "  sns.barplot(data=avg_income_per_plan, x=avg_income_per_plan.index, y=avg_income_per_plan[\"mean\"], palette=\"Set2\")\n"
     ]
    },
    {
     "data": {
      "image/png": "[encoded data removed]",
      "text/plain": [
       "<Figure size 800x500 with 1 Axes>"
      ]
     },
     "metadata": {},
     "output_type": "display_data"
    }
   ],
   "source": [
    "avg_income_per_plan = user_usage_per_month.groupby(\"plan\")[\"monthly_revenue\"].agg([\"mean\", \"median\", \"std\"])\n",
    "\n",
    "plt.figure(figsize=(8, 5))\n",
    "sns.barplot(data=avg_income_per_plan, x=avg_income_per_plan.index, y=avg_income_per_plan[\"mean\"], palette=\"Set2\")\n",
    "plt.xlabel(\"Plan\")\n",
    "plt.ylabel(\"Ingreso Promedio\")\n",
    "plt.title(\"Ingreso Promedio por Plan\")\n",
    "plt.show()"
   ]
  },
  {
   "cell_type": "code",
   "execution_count": 59,
   "metadata": {
    "trusted": true
   },
   "outputs": [
    {
     "name": "stdout",
     "output_type": "stream",
     "text": [
      "               mean  median        std\n",
      "plan                                  \n",
      "surf      59.162022    40.0  54.708981\n",
      "ultimate  72.333333    70.0  11.498322\n"
     ]
    },
    {
     "data": {
      "image/png": "[encoded data removed]",
      "text/plain": [
       "<Figure size 800x500 with 1 Axes>"
      ]
     },
     "metadata": {},
     "output_type": "display_data"
    }
   ],
   "source": [
    "avg_income_per_plan = user_usage_per_month.groupby(\"plan\")[\"monthly_revenue\"].agg([\"mean\", \"median\", \"std\"])\n",
    "print(avg_income_per_plan)\n",
    "plt.figure(figsize=(8, 5))\n",
    "sns.histplot(data=user_usage_per_month, x=\"monthly_revenue\", hue=\"plan\", kde=True, bins=30, palette=\"Set2\")\n",
    "plt.xlabel(\"Ingresos Mensuales\")\n",
    "plt.ylabel(\"Frecuencia\")\n",
    "plt.title(\"Distribución de Ingresos por Plan\")\n",
    "plt.show()"
   ]
  },
  {
   "cell_type": "code",
   "execution_count": 60,
   "metadata": {
    "id": "tz-dq_V00q1O",
    "trusted": true
   },
   "outputs": [
    {
     "data": {
      "image/png": "[encoded data removed]",
      "text/plain": [
       "<Figure size 800x500 with 1 Axes>"
      ]
     },
     "metadata": {},
     "output_type": "display_data"
    }
   ],
   "source": [
    "plt.figure(figsize=(8, 5))\n",
    "sns.boxplot(x=\"plan\", y=\"monthly_revenue\", data=user_usage_per_month, hue=\"plan\", palette=\"Set2\")\n",
    "plt.xlabel(\"Plan\")\n",
    "plt.ylabel(\"Ingresos Mensuales\")\n",
    "plt.title(\"Distribución de Ingresos por Plan\")\n",
    "plt.show()"
   ]
  },
  {
   "cell_type": "code",
   "execution_count": 61,
   "metadata": {
    "id": "0Y1v8ZUz0q1P",
    "scrolled": true,
    "trusted": true
   },
   "outputs": [
    {
     "name": "stdout",
     "output_type": "stream",
     "text": [
      "\n",
      "Porcentaje de ingresos provenientes de costos adicionales por plan:\n",
      " plan\n",
      "surf        40.493536\n",
      "ultimate     1.905341\n",
      "Name: extra_cost_percentage, dtype: float64\n"
     ]
    }
   ],
   "source": [
    "user_usage_per_month[\"extra_cost_percentage\"] = (\n",
    "    (user_usage_per_month[\"additional_minutes_cost\"] +\n",
    "     user_usage_per_month[\"additional_messages_cost\"] +\n",
    "     user_usage_per_month[\"additional_gb_cost\"])\n",
    "     / user_usage_per_month[\"monthly_revenue\"]\n",
    ") * 100\n",
    "\n",
    "extra_cost_income = user_usage_per_month.groupby(\"plan\")[\"extra_cost_percentage\"].mean()\n",
    "print(\"\\nPorcentaje de ingresos provenientes de costos adicionales por plan:\\n\", extra_cost_income)\n"
   ]
  },
  {
   "cell_type": "code",
   "execution_count": 62,
   "metadata": {
    "id": "bYmwxyVh0q1P",
    "trusted": true
   },
   "outputs": [
    {
     "data": {
      "image/png": "[encoded data removed]",
      "text/plain": [
       "<Figure size 800x500 with 1 Axes>"
      ]
     },
     "metadata": {},
     "output_type": "display_data"
    }
   ],
   "source": [
    "# Convertir la serie en un DataFrame\n",
    "extra_cost_df = extra_cost_income.reset_index()\n",
    "extra_cost_df.columns = [\"plan\", \"Porcentaje de Ingresos Adicionales\"]\n",
    "\n",
    "# Gráfico de barras\n",
    "plt.figure(figsize=(8, 5))\n",
    "sns.barplot(data=extra_cost_df, x=\"plan\", y=\"Porcentaje de Ingresos Adicionales\", hue=\"plan\", palette=\"Set2\")\n",
    "plt.xlabel(\"Plan\")\n",
    "plt.ylabel(\"porcentaje de Ingresos Adicionales\")\n",
    "plt.title(\"Porcentaje de Ingresos Adicionales po Plan\")\n",
    "plt.show()"
   ]
  },
  {
   "cell_type": "code",
   "execution_count": 63,
   "metadata": {
    "trusted": true
   },
   "outputs": [
    {
     "data": {
      "text/html": [
       "<div>\n",
       "<style scoped>\n",
       "    .dataframe tbody tr th:only-of-type {\n",
       "        vertical-align: middle;\n",
       "    }\n",
       "\n",
       "    .dataframe tbody tr th {\n",
       "        vertical-align: top;\n",
       "    }\n",
       "\n",
       "    .dataframe thead th {\n",
       "        text-align: right;\n",
       "    }\n",
       "</style>\n",
       "<table border=\"1\" class=\"dataframe\">\n",
       "  <thead>\n",
       "    <tr style=\"text-align: right;\">\n",
       "      <th></th>\n",
       "      <th>plan</th>\n",
       "      <th>Porcentaje de Ingresos Adicionales</th>\n",
       "    </tr>\n",
       "  </thead>\n",
       "  <tbody>\n",
       "    <tr>\n",
       "      <th>0</th>\n",
       "      <td>surf</td>\n",
       "      <td>40.493536</td>\n",
       "    </tr>\n",
       "    <tr>\n",
       "      <th>1</th>\n",
       "      <td>ultimate</td>\n",
       "      <td>1.905341</td>\n",
       "    </tr>\n",
       "  </tbody>\n",
       "</table>\n",
       "</div>"
      ],
      "text/plain": [
       "       plan  Porcentaje de Ingresos Adicionales\n",
       "0      surf                           40.493536\n",
       "1  ultimate                            1.905341"
      ]
     },
     "execution_count": 63,
     "metadata": {},
     "output_type": "execute_result"
    }
   ],
   "source": [
    "extra_cost_df"
   ]
  },
  {
   "cell_type": "markdown",
   "metadata": {
    "id": "KAFidcXZ0q1P"
   },
   "source": [
    "[Elabora las conclusiones sobre cómo difiere el ingreso entre los planes.]\n",
    "\n",
    "Los datos muestran que el plan Ultimate genera ingresos significativamente mayores en comparación con el plan Surf. Esto se refleja en los valores más altos de media y mediana del plan Ultimate, lo que indica que los usuarios que optan por este plan están dispuestos a pagar más, probablemente un cambio de mayores beneficios o prestaciones adicionales"
   ]
  },
  {
   "cell_type": "markdown",
   "metadata": {
    "id": "ajJ7VKeI0q1Q"
   },
   "source": [
    "## Prueba las hipótesis estadísticas"
   ]
  },
  {
   "cell_type": "markdown",
   "metadata": {
    "id": "AdXAZ-yL0q1Q"
   },
   "source": [
    "[Prueba la hipótesis de que son diferentes los ingresos promedio procedentes de los usuarios de los planes de llamada Ultimate y Surf.]"
   ]
  },
  {
   "cell_type": "markdown",
   "metadata": {
    "id": "IQwa_hsh0q1Q"
   },
   "source": [
    "[Elabora las hipótesis nula y alternativa, escoge la prueba estadística, determina el valor alfa.]"
   ]
  },
  {
   "cell_type": "code",
   "execution_count": 64,
   "metadata": {
    "id": "nFoPNlPq0q1R",
    "trusted": true
   },
   "outputs": [
    {
     "name": "stdout",
     "output_type": "stream",
     "text": [
      "Rechazamos la hipótesis nula. Existe una diferencia significativa en los ingresos promedio.\n",
      "\n",
      " Estadistíco t: 410.831\n",
      "y el p-valor es 3.7511805634303605e-84\n"
     ]
    }
   ],
   "source": [
    "# Prueba las hipótesis\n",
    "plan_monthly_revenue=user_usage_per_month[[\"plan\", \"month\", 'monthly_revenue']]\n",
    "\n",
    "# Separar los datos por plan\n",
    "ultimate_rev = plan_monthly_revenue[plan_monthly_revenue['plan'] =='ultimate']['monthly_revenue']\n",
    "surf_rev = plan_monthly_revenue[plan_monthly_revenue['plan'] =='surf']['monthly_revenue']\n",
    "\n",
    "alpha = 0.05\n",
    "result = levene(ultimate_rev, surf_rev)\n",
    "\n",
    "if result.pvalue <= alpha:\n",
    "    print(\"Rechazamos la hipótesis nula. Existe una diferencia significativa en los ingresos promedio.\")\n",
    "else:\n",
    "    print(\"No rechazamos la hipótesis nula. No hay evidencia suficiente para afirmar que existe una diferencica significativa en los ingresos promedio.\")\n",
    "\n",
    "print(f\"\\n Estadistíco t: {result.statistic:.3f}\")\n",
    "print(f\"y el p-valor es {result.pvalue}\")\n"
   ]
  },
  {
   "cell_type": "markdown",
   "metadata": {
    "id": "tCcAruM60q1R"
   },
   "source": [
    "[Prueba la hipótesis de que el ingreso promedio de los usuarios del área NY-NJ es diferente al de los usuarios de otras regiones.]"
   ]
  },
  {
   "cell_type": "markdown",
   "metadata": {
    "id": "LsBgitqj0q1R"
   },
   "source": [
    "[Elabora las hipótesis nula y alternativa, escoge la prueba estadística, determina el valor alfa.]"
   ]
  },
  {
   "cell_type": "code",
   "execution_count": 65,
   "metadata": {
    "trusted": true
   },
   "outputs": [
    {
     "name": "stdout",
     "output_type": "stream",
     "text": [
      "Se acepta la hipótesis nula; es decir, la evidencia estadística indica  que las varianzas son iguales.\n",
      "\n",
      "El estaditico de prueba es 2.381) y el p-valor es 0.12293894754712811.\n"
     ]
    }
   ],
   "source": [
    "ingresos_ny_nj = user_usage_per_month[user_usage_per_month['city_name'] == 'New York']['monthly_revenue']\n",
    "ingresos_otras_regiones = user_usage_per_month[user_usage_per_month['city_name'] != 'New York']['monthly_revenue']\n",
    "\n",
    "result = levene(ingresos_ny_nj, ingresos_otras_regiones)\n",
    "alpha=0.05\n",
    "\n",
    "if result.pvalue <= alpha:\n",
    "    print('Se rechaza la hipótesis nula; es decir, la evidencia estadística indica que las varianzas son distintas.')\n",
    "else:\n",
    "    print('Se acepta la hipótesis nula; es decir, la evidencia estadística indica  que las varianzas son iguales.')\n",
    "\n",
    "print(f'\\nEl estaditico de prueba es {result.statistic:.3f}) y el p-valor es {result.pvalue}.')\n"
   ]
  },
  {
   "cell_type": "code",
   "execution_count": 66,
   "metadata": {
    "trusted": true
   },
   "outputs": [
    {
     "data": {
      "text/plain": [
       "count    1916.000000\n",
       "mean       64.196733\n",
       "std        46.685617\n",
       "min        20.000000\n",
       "25%        21.200000\n",
       "50%        70.000000\n",
       "75%        70.000000\n",
       "max       574.560000\n",
       "Name: monthly_revenue, dtype: float64"
      ]
     },
     "execution_count": 66,
     "metadata": {},
     "output_type": "execute_result"
    }
   ],
   "source": [
    "ingresos_otras_regiones.describe()"
   ]
  },
  {
   "cell_type": "code",
   "execution_count": 67,
   "metadata": {
    "trusted": true
   },
   "outputs": [
    {
     "data": {
      "text/plain": [
       "count    377.000000\n",
       "mean      58.729231\n",
       "std       43.227752\n",
       "min       20.000000\n",
       "25%       20.000000\n",
       "50%       50.000000\n",
       "75%       70.000000\n",
       "max      280.000000\n",
       "Name: monthly_revenue, dtype: float64"
      ]
     },
     "execution_count": 67,
     "metadata": {},
     "output_type": "execute_result"
    }
   ],
   "source": [
    "ingresos_ny_nj.describe()"
   ]
  },
  {
   "cell_type": "code",
   "execution_count": 68,
   "metadata": {
    "id": "Cqcj7wrZ0q1S",
    "trusted": true
   },
   "outputs": [
    {
     "name": "stdout",
     "output_type": "stream",
     "text": [
      "Estadístico t: -2.2147888693871285\n",
      "Valor p: 0.027174468935040517\n",
      "Rechazamos la hipótesis nula. Existe una diferencia significativa en los ingresos promedio.\n"
     ]
    }
   ],
   "source": [
    "# Prueba las hipótesis\n",
    "# Prueba t de Student\n",
    "t_stats, p_value = st.ttest_ind(ingresos_ny_nj, ingresos_otras_regiones, equal_var=False)\n",
    "\n",
    "alpha = 0.05\n",
    "\n",
    "print(f\"Estadístico t: {t_stats}\")\n",
    "print(f\"Valor p: {p_value}\")\n",
    "\n",
    "# Tomar decisión basada en el valor p\n",
    "if p_value <= alpha:\n",
    "    print(\"Rechazamos la hipótesis nula. Existe una diferencia significativa en los ingresos promedio.\")\n",
    "else:\n",
    "    print(\"No rechazamos la hipótesis nula. No hay evidencia suficiente para afirmar que existe una diferencia significativa en los ingresos promedio.\")\n",
    "    "
   ]
  },
  {
   "cell_type": "markdown",
   "metadata": {
    "id": "bbTR8UQO0q1T"
   },
   "source": [
    "## Conclusión general\n",
    "\n",
    "[En esta sección final, enumera tus conclusiones importantes. Asegúrate de que estas abarquen todas las decisiones (suposiciones) importantes que adoptaste y que determinaron la forma elegida para procesar y analizar los datos.]\n",
    "\n",
    "Wow, vaya que ha sido un proyecto bastante retador, pude analizar el plan ultimate y surf, en cada sección logré identificar como los usuarios eligen cuidar sus datos, su bolsillo, el cuidado o despilfarro de GB dependiendo de sus necesidades; diseñé un plan ampliamente detallado para que estadisticamente cada dato fuera analizado y descrito de la manera más precisa posible, me hizo consciente sobre que debo cambiar de compañia telefónica y no dar por sentado ni conformarme con lo básico, quiero más ya que soy merecedor de los datos y GB para así continuar y aprovechar de toda la información cuántica que está disponible para mi, este proyecto me motivó.\n",
    "Gracias revisór por tu arduo trabajo y darme tu retroalimentación, ya que la espero con ansias. Gracias"
   ]
  }
 ],
 "metadata": {
  "ExecuteTimeLog": [
   {
    "duration": 828,
    "start_time": "2021-11-16T09:21:11.304Z"
   },
   {
    "duration": 893,
    "start_time": "2021-11-16T09:21:17.728Z"
   },
   {
    "duration": 1150,
    "start_time": "2021-11-16T09:21:29.568Z"
   },
   {
    "duration": 3,
    "start_time": "2021-11-16T09:24:14.495Z"
   },
   {
    "duration": 120,
    "start_time": "2021-11-16T09:24:46.630Z"
   },
   {
    "duration": 3,
    "start_time": "2021-11-16T09:28:27.882Z"
   },
   {
    "duration": 4,
    "start_time": "2021-11-16T09:29:54.281Z"
   },
   {
    "duration": 3,
    "start_time": "2021-11-16T09:30:45.936Z"
   },
   {
    "duration": 4,
    "start_time": "2021-11-16T09:31:06.300Z"
   },
   {
    "duration": 113,
    "start_time": "2021-11-16T09:31:37.208Z"
   },
   {
    "duration": 143,
    "start_time": "2021-11-16T09:31:48.656Z"
   },
   {
    "duration": 98,
    "start_time": "2021-11-16T09:31:55.678Z"
   },
   {
    "duration": 3,
    "start_time": "2021-11-16T09:32:08.535Z"
   },
   {
    "duration": 111,
    "start_time": "2021-11-16T09:32:10.120Z"
   },
   {
    "duration": 3,
    "start_time": "2021-11-16T09:32:15.732Z"
   },
   {
    "duration": 4,
    "start_time": "2021-11-16T09:32:29.423Z"
   },
   {
    "duration": 3,
    "start_time": "2021-11-16T10:03:03.074Z"
   },
   {
    "duration": 3,
    "start_time": "2021-11-16T10:10:01.288Z"
   },
   {
    "duration": 3,
    "start_time": "2021-11-16T10:10:46.923Z"
   },
   {
    "duration": 121,
    "start_time": "2021-11-16T10:37:46.494Z"
   },
   {
    "duration": 125,
    "start_time": "2021-11-16T10:38:20.632Z"
   },
   {
    "duration": 112,
    "start_time": "2021-11-16T10:46:53.001Z"
   },
   {
    "duration": 110,
    "start_time": "2021-11-16T10:48:25.775Z"
   },
   {
    "duration": 3,
    "start_time": "2021-11-16T10:50:18.720Z"
   },
   {
    "duration": 4,
    "start_time": "2021-11-16T10:50:37.649Z"
   },
   {
    "duration": 2,
    "start_time": "2021-11-16T10:50:51.884Z"
   },
   {
    "duration": 3,
    "start_time": "2021-11-16T10:51:56.237Z"
   },
   {
    "duration": 101,
    "start_time": "2021-11-16T10:53:13.791Z"
   },
   {
    "duration": 3,
    "start_time": "2021-11-16T10:55:59.186Z"
   },
   {
    "duration": 3,
    "start_time": "2021-11-16T10:56:10.751Z"
   },
   {
    "duration": 3,
    "start_time": "2021-11-16T10:56:49.038Z"
   },
   {
    "duration": 3,
    "start_time": "2021-11-16T10:56:49.174Z"
   },
   {
    "duration": 4,
    "start_time": "2021-11-16T10:56:49.414Z"
   },
   {
    "duration": 3,
    "start_time": "2021-11-16T10:56:49.680Z"
   },
   {
    "duration": 3,
    "start_time": "2021-11-16T10:56:50.370Z"
   },
   {
    "duration": 114,
    "start_time": "2021-11-16T10:59:34.518Z"
   },
   {
    "duration": 3,
    "start_time": "2021-11-16T11:01:41.201Z"
   },
   {
    "duration": 116,
    "start_time": "2021-11-16T11:01:48.754Z"
   },
   {
    "duration": 3,
    "start_time": "2021-11-16T11:02:16.685Z"
   },
   {
    "duration": 3,
    "start_time": "2021-11-16T11:02:19.479Z"
   },
   {
    "duration": 3,
    "start_time": "2021-11-16T11:02:47.067Z"
   },
   {
    "duration": 3,
    "start_time": "2021-11-16T11:02:49.353Z"
   },
   {
    "duration": 3,
    "start_time": "2021-11-16T11:03:07.835Z"
   },
   {
    "duration": 3,
    "start_time": "2021-11-16T11:03:07.953Z"
   },
   {
    "duration": 112,
    "start_time": "2021-11-16T11:07:52.072Z"
   },
   {
    "duration": 187,
    "start_time": "2021-11-16T11:09:23.468Z"
   },
   {
    "duration": 4,
    "start_time": "2021-11-16T11:10:01.455Z"
   },
   {
    "duration": 3,
    "start_time": "2021-11-16T11:10:05.069Z"
   },
   {
    "duration": 4,
    "start_time": "2021-11-16T11:10:13.376Z"
   },
   {
    "duration": 3,
    "start_time": "2021-11-16T11:10:14.434Z"
   },
   {
    "duration": 3,
    "start_time": "2021-11-16T11:10:22.853Z"
   },
   {
    "duration": 4,
    "start_time": "2021-11-16T11:27:29.279Z"
   },
   {
    "duration": 4,
    "start_time": "2021-11-16T11:29:08.919Z"
   },
   {
    "duration": 118,
    "start_time": "2021-11-16T11:29:46.703Z"
   },
   {
    "duration": 437,
    "start_time": "2021-11-16T11:36:02.181Z"
   },
   {
    "duration": 157,
    "start_time": "2021-11-16T11:36:14.388Z"
   },
   {
    "duration": 207,
    "start_time": "2021-11-16T11:47:15.898Z"
   },
   {
    "duration": 3,
    "start_time": "2021-11-16T11:53:52.092Z"
   },
   {
    "duration": 3,
    "start_time": "2021-11-16T11:53:52.236Z"
   },
   {
    "duration": 3,
    "start_time": "2021-11-16T11:59:12.005Z"
   },
   {
    "duration": 112,
    "start_time": "2021-11-16T12:00:33.446Z"
   },
   {
    "duration": 3,
    "start_time": "2021-11-16T12:02:14.453Z"
   },
   {
    "duration": 3,
    "start_time": "2021-11-16T12:02:39.512Z"
   },
   {
    "duration": 106,
    "start_time": "2021-11-16T12:03:03.460Z"
   },
   {
    "duration": 3,
    "start_time": "2021-11-17T20:37:21.139Z"
   },
   {
    "duration": 3,
    "start_time": "2021-11-17T20:37:22.229Z"
   },
   {
    "duration": 3,
    "start_time": "2021-11-17T20:38:38.806Z"
   },
   {
    "duration": 3,
    "start_time": "2021-11-17T20:38:41.958Z"
   },
   {
    "duration": 3,
    "start_time": "2021-11-17T20:43:46.551Z"
   },
   {
    "duration": 4,
    "start_time": "2021-11-17T20:58:21.835Z"
   },
   {
    "duration": 3,
    "start_time": "2021-11-17T20:59:21.872Z"
   },
   {
    "duration": 4,
    "start_time": "2021-11-17T20:59:45.352Z"
   },
   {
    "duration": 4,
    "start_time": "2021-11-17T20:59:49.646Z"
   },
   {
    "duration": 159,
    "start_time": "2021-11-17T21:02:26.949Z"
   },
   {
    "duration": 3,
    "start_time": "2021-11-17T21:03:53.461Z"
   },
   {
    "duration": 3,
    "start_time": "2021-11-17T21:03:53.694Z"
   },
   {
    "duration": 3,
    "start_time": "2021-11-17T21:05:28.145Z"
   },
   {
    "duration": 116,
    "start_time": "2021-11-17T21:05:57.787Z"
   },
   {
    "duration": 3,
    "start_time": "2021-11-17T21:06:37.993Z"
   },
   {
    "duration": 3,
    "start_time": "2021-11-17T21:06:38.261Z"
   },
   {
    "duration": 3,
    "start_time": "2021-11-17T21:11:54.358Z"
   },
   {
    "duration": 3,
    "start_time": "2021-11-17T21:12:43.846Z"
   },
   {
    "duration": 4,
    "start_time": "2021-11-17T21:13:08.773Z"
   },
   {
    "duration": 3,
    "start_time": "2021-11-17T21:14:44.441Z"
   },
   {
    "duration": 3,
    "start_time": "2021-11-17T21:15:42.059Z"
   },
   {
    "duration": 4,
    "start_time": "2021-11-17T21:15:51.995Z"
   },
   {
    "duration": 3,
    "start_time": "2021-11-17T21:15:53.923Z"
   },
   {
    "duration": 3,
    "start_time": "2021-11-17T21:15:55.282Z"
   },
   {
    "duration": 3,
    "start_time": "2021-11-17T21:16:28.492Z"
   },
   {
    "duration": 3,
    "start_time": "2021-11-17T21:16:32.603Z"
   },
   {
    "duration": 3,
    "start_time": "2021-11-17T21:17:06.941Z"
   },
   {
    "duration": 98,
    "start_time": "2021-11-17T21:18:05.733Z"
   },
   {
    "duration": 4,
    "start_time": "2021-11-17T21:21:35.255Z"
   },
   {
    "duration": 3,
    "start_time": "2021-11-17T21:21:37.804Z"
   },
   {
    "duration": 4,
    "start_time": "2021-11-17T21:23:06.071Z"
   },
   {
    "duration": 3,
    "start_time": "2021-11-17T21:23:24.799Z"
   },
   {
    "duration": 3,
    "start_time": "2021-11-17T21:23:32.591Z"
   },
   {
    "duration": 98,
    "start_time": "2021-11-17T21:28:31.559Z"
   },
   {
    "duration": 3,
    "start_time": "2021-11-17T21:28:45.448Z"
   },
   {
    "duration": 3,
    "start_time": "2021-11-17T21:29:17.303Z"
   },
   {
    "duration": 3,
    "start_time": "2021-11-17T21:29:29.617Z"
   },
   {
    "duration": 3,
    "start_time": "2021-11-17T21:29:32.681Z"
   },
   {
    "duration": 3,
    "start_time": "2021-11-17T21:36:11.474Z"
   },
   {
    "duration": 3,
    "start_time": "2021-11-17T21:36:14.791Z"
   },
   {
    "duration": 3,
    "start_time": "2021-11-17T21:36:53.943Z"
   },
   {
    "duration": 3,
    "start_time": "2021-11-17T21:36:56.165Z"
   },
   {
    "duration": 4,
    "start_time": "2021-11-17T21:37:16.590Z"
   },
   {
    "duration": 3,
    "start_time": "2021-11-17T21:37:22.702Z"
   },
   {
    "duration": 4,
    "start_time": "2021-11-17T21:38:03.479Z"
   },
   {
    "duration": 3,
    "start_time": "2021-11-17T21:38:08.601Z"
   },
   {
    "duration": 3,
    "start_time": "2021-11-17T21:38:12.928Z"
   },
   {
    "duration": 3,
    "start_time": "2021-11-17T21:38:48.896Z"
   },
   {
    "duration": 2,
    "start_time": "2021-11-17T21:38:49.171Z"
   },
   {
    "duration": 4,
    "start_time": "2021-11-17T21:39:57.889Z"
   },
   {
    "duration": 3,
    "start_time": "2021-11-17T21:39:58.057Z"
   },
   {
    "duration": 3,
    "start_time": "2021-11-17T21:41:20.108Z"
   },
   {
    "duration": 3,
    "start_time": "2021-11-17T21:41:20.629Z"
   },
   {
    "duration": 3,
    "start_time": "2021-11-17T21:42:49.136Z"
   },
   {
    "duration": 3,
    "start_time": "2021-11-17T21:43:15.137Z"
   },
   {
    "duration": 4,
    "start_time": "2021-11-17T21:43:16.766Z"
   },
   {
    "duration": 4,
    "start_time": "2021-11-17T21:43:31.711Z"
   },
   {
    "duration": 3,
    "start_time": "2021-11-17T21:43:36.312Z"
   },
   {
    "duration": 4,
    "start_time": "2021-11-17T21:45:08.825Z"
   },
   {
    "duration": 4,
    "start_time": "2021-11-17T21:45:10.119Z"
   },
   {
    "duration": 4,
    "start_time": "2021-11-17T21:45:13.748Z"
   },
   {
    "duration": 3,
    "start_time": "2021-11-17T21:45:22.219Z"
   },
   {
    "duration": 3,
    "start_time": "2021-11-17T21:45:33.412Z"
   },
   {
    "duration": 2,
    "start_time": "2021-11-17T21:46:01.885Z"
   },
   {
    "duration": 3,
    "start_time": "2021-11-17T21:46:03.628Z"
   },
   {
    "duration": 107,
    "start_time": "2021-11-17T21:47:32.512Z"
   },
   {
    "duration": 103,
    "start_time": "2021-11-17T21:50:36.243Z"
   },
   {
    "duration": 3,
    "start_time": "2021-11-18T06:28:31.440Z"
   },
   {
    "duration": 3,
    "start_time": "2021-11-18T06:29:00.168Z"
   },
   {
    "duration": 3,
    "start_time": "2021-11-18T06:31:27.008Z"
   },
   {
    "duration": 2,
    "start_time": "2021-11-18T06:35:34.288Z"
   },
   {
    "duration": 2,
    "start_time": "2021-11-18T06:38:04.527Z"
   },
   {
    "duration": 606,
    "start_time": "2025-01-23T04:43:52.673Z"
   },
   {
    "duration": 750,
    "start_time": "2025-01-23T04:43:54.221Z"
   },
   {
    "duration": 157,
    "start_time": "2025-01-23T04:44:26.973Z"
   },
   {
    "duration": 159,
    "start_time": "2025-01-23T04:44:28.760Z"
   },
   {
    "duration": 8,
    "start_time": "2025-01-23T04:49:30.193Z"
   },
   {
    "duration": 5,
    "start_time": "2025-01-23T04:49:35.512Z"
   },
   {
    "duration": 5,
    "start_time": "2025-01-23T05:07:17.009Z"
   },
   {
    "duration": 403,
    "start_time": "2025-01-23T05:12:52.175Z"
   },
   {
    "duration": 164,
    "start_time": "2025-01-24T02:27:22.061Z"
   },
   {
    "duration": 14,
    "start_time": "2025-01-24T02:27:38.045Z"
   },
   {
    "duration": 12,
    "start_time": "2025-01-24T02:27:39.822Z"
   },
   {
    "duration": 19,
    "start_time": "2025-01-24T02:28:01.434Z"
   },
   {
    "duration": 630,
    "start_time": "2025-01-24T02:28:15.381Z"
   },
   {
    "duration": 3,
    "start_time": "2025-01-24T02:28:16.301Z"
   },
   {
    "duration": 234,
    "start_time": "2025-01-24T02:28:17.202Z"
   },
   {
    "duration": 159,
    "start_time": "2025-01-24T02:28:18.451Z"
   },
   {
    "duration": 9,
    "start_time": "2025-01-24T02:28:24.102Z"
   },
   {
    "duration": 6,
    "start_time": "2025-01-24T02:28:32.366Z"
   },
   {
    "duration": 484,
    "start_time": "2025-01-24T02:28:41.991Z"
   },
   {
    "duration": 3,
    "start_time": "2025-01-24T02:44:27.426Z"
   },
   {
    "duration": 3,
    "start_time": "2025-01-24T02:44:29.405Z"
   },
   {
    "duration": 5,
    "start_time": "2025-01-24T02:44:44.840Z"
   },
   {
    "duration": 2,
    "start_time": "2025-01-24T02:46:22.895Z"
   },
   {
    "duration": 175,
    "start_time": "2025-01-24T02:46:28.549Z"
   },
   {
    "duration": 8,
    "start_time": "2025-01-24T02:46:33.306Z"
   },
   {
    "duration": 5,
    "start_time": "2025-01-24T02:46:39.490Z"
   },
   {
    "duration": 5,
    "start_time": "2025-01-24T02:46:46.099Z"
   },
   {
    "duration": 5,
    "start_time": "2025-01-24T02:46:46.999Z"
   },
   {
    "duration": 5,
    "start_time": "2025-01-24T02:46:47.641Z"
   },
   {
    "duration": 55,
    "start_time": "2025-01-24T02:48:28.846Z"
   },
   {
    "duration": 45,
    "start_time": "2025-01-24T02:49:38.561Z"
   },
   {
    "duration": 44,
    "start_time": "2025-01-24T02:49:54.344Z"
   },
   {
    "duration": 43,
    "start_time": "2025-01-24T02:50:37.464Z"
   },
   {
    "duration": 47,
    "start_time": "2025-01-24T02:50:46.811Z"
   },
   {
    "duration": 45,
    "start_time": "2025-01-24T02:50:47.730Z"
   },
   {
    "duration": 47,
    "start_time": "2025-01-24T02:51:07.894Z"
   },
   {
    "duration": 44,
    "start_time": "2025-01-24T02:51:08.735Z"
   },
   {
    "duration": 43,
    "start_time": "2025-01-24T02:51:15.061Z"
   },
   {
    "duration": 44,
    "start_time": "2025-01-24T02:55:14.682Z"
   },
   {
    "duration": 41,
    "start_time": "2025-01-24T02:55:16.769Z"
   },
   {
    "duration": 41,
    "start_time": "2025-01-24T02:55:17.637Z"
   },
   {
    "duration": 43,
    "start_time": "2025-01-24T02:55:18.337Z"
   },
   {
    "duration": 42,
    "start_time": "2025-01-24T02:55:43.915Z"
   },
   {
    "duration": 41,
    "start_time": "2025-01-24T02:55:44.893Z"
   },
   {
    "duration": 40,
    "start_time": "2025-01-24T02:56:09.456Z"
   },
   {
    "duration": 41,
    "start_time": "2025-01-24T02:56:10.404Z"
   },
   {
    "duration": 41,
    "start_time": "2025-01-24T02:56:21.582Z"
   },
   {
    "duration": 32,
    "start_time": "2025-01-24T02:59:03.086Z"
   },
   {
    "duration": 17,
    "start_time": "2025-01-24T03:01:13.012Z"
   },
   {
    "duration": 17,
    "start_time": "2025-01-24T03:01:13.885Z"
   },
   {
    "duration": 17,
    "start_time": "2025-01-24T03:02:29.088Z"
   },
   {
    "duration": 19,
    "start_time": "2025-01-24T03:02:30.129Z"
   },
   {
    "duration": 17,
    "start_time": "2025-01-24T03:02:38.093Z"
   },
   {
    "duration": 17,
    "start_time": "2025-01-24T03:02:40.257Z"
   },
   {
    "duration": 8,
    "start_time": "2025-01-24T03:02:48.639Z"
   },
   {
    "duration": 8,
    "start_time": "2025-01-24T03:17:33.606Z"
   },
   {
    "duration": 8,
    "start_time": "2025-01-24T03:22:06.177Z"
   },
   {
    "duration": 9,
    "start_time": "2025-01-24T03:24:24.401Z"
   },
   {
    "duration": 9,
    "start_time": "2025-01-24T03:24:31.268Z"
   },
   {
    "duration": 4,
    "start_time": "2025-01-24T03:24:40.267Z"
   },
   {
    "duration": 8,
    "start_time": "2025-01-24T03:24:49.558Z"
   },
   {
    "duration": 9,
    "start_time": "2025-01-24T03:24:50.421Z"
   },
   {
    "duration": 7,
    "start_time": "2025-01-24T03:25:06.743Z"
   },
   {
    "duration": 8,
    "start_time": "2025-01-24T03:25:14.976Z"
   },
   {
    "duration": 4,
    "start_time": "2025-01-24T03:25:34.419Z"
   },
   {
    "duration": 4,
    "start_time": "2025-01-24T03:25:44.725Z"
   },
   {
    "duration": 12,
    "start_time": "2025-01-24T03:37:43.030Z"
   },
   {
    "duration": 9,
    "start_time": "2025-01-24T03:37:59.772Z"
   },
   {
    "duration": 4,
    "start_time": "2025-01-24T03:38:21.308Z"
   },
   {
    "duration": 10,
    "start_time": "2025-01-24T03:39:12.324Z"
   },
   {
    "duration": 6,
    "start_time": "2025-01-24T03:39:36.272Z"
   },
   {
    "duration": 11,
    "start_time": "2025-01-24T03:40:14.375Z"
   },
   {
    "duration": 4,
    "start_time": "2025-01-24T03:40:35.768Z"
   },
   {
    "duration": 156,
    "start_time": "2025-01-27T21:46:25.941Z"
   },
   {
    "duration": 12,
    "start_time": "2025-01-27T21:46:53.755Z"
   },
   {
    "duration": 13,
    "start_time": "2025-01-27T21:47:41.554Z"
   },
   {
    "duration": 12,
    "start_time": "2025-01-27T21:48:02.631Z"
   },
   {
    "duration": 11,
    "start_time": "2025-01-27T21:56:41.446Z"
   },
   {
    "duration": 11,
    "start_time": "2025-01-27T21:57:08.255Z"
   },
   {
    "duration": 12,
    "start_time": "2025-01-27T21:57:09.157Z"
   },
   {
    "duration": 33,
    "start_time": "2025-01-28T01:15:01.487Z"
   },
   {
    "duration": 13,
    "start_time": "2025-01-28T01:16:13.925Z"
   },
   {
    "duration": 13,
    "start_time": "2025-01-28T01:16:14.960Z"
   },
   {
    "duration": 310,
    "start_time": "2025-01-28T01:16:34.697Z"
   },
   {
    "duration": 19,
    "start_time": "2025-01-28T01:17:09.370Z"
   },
   {
    "duration": 15,
    "start_time": "2025-01-28T01:17:10.431Z"
   },
   {
    "duration": 16,
    "start_time": "2025-01-28T01:17:24.329Z"
   },
   {
    "duration": 18,
    "start_time": "2025-01-28T01:17:25.202Z"
   },
   {
    "duration": 6,
    "start_time": "2025-01-28T01:18:11.919Z"
   },
   {
    "duration": 4,
    "start_time": "2025-01-28T01:18:21.412Z"
   },
   {
    "duration": 5,
    "start_time": "2025-01-28T01:18:21.994Z"
   },
   {
    "duration": 5,
    "start_time": "2025-01-28T01:18:22.537Z"
   },
   {
    "duration": 15,
    "start_time": "2025-01-28T01:21:16.571Z"
   },
   {
    "duration": 4,
    "start_time": "2025-01-28T01:53:37.375Z"
   },
   {
    "duration": 5,
    "start_time": "2025-01-28T01:53:53.455Z"
   },
   {
    "duration": 4,
    "start_time": "2025-01-28T01:54:07.715Z"
   },
   {
    "duration": 3,
    "start_time": "2025-01-28T01:54:08.292Z"
   },
   {
    "duration": 3,
    "start_time": "2025-01-28T01:54:08.740Z"
   },
   {
    "duration": 4,
    "start_time": "2025-01-28T01:54:09.187Z"
   },
   {
    "duration": 7,
    "start_time": "2025-01-28T01:54:09.619Z"
   },
   {
    "duration": 4,
    "start_time": "2025-01-28T01:54:10.040Z"
   },
   {
    "duration": 4,
    "start_time": "2025-01-28T01:54:10.484Z"
   },
   {
    "duration": 5,
    "start_time": "2025-01-28T01:54:10.987Z"
   },
   {
    "duration": 4,
    "start_time": "2025-01-28T01:54:11.308Z"
   },
   {
    "duration": 4,
    "start_time": "2025-01-28T01:54:11.580Z"
   },
   {
    "duration": 3,
    "start_time": "2025-01-28T01:54:11.820Z"
   },
   {
    "duration": 5,
    "start_time": "2025-01-28T01:54:12.065Z"
   },
   {
    "duration": 4,
    "start_time": "2025-01-28T01:54:12.339Z"
   },
   {
    "duration": 4,
    "start_time": "2025-01-28T01:54:12.774Z"
   },
   {
    "duration": 4,
    "start_time": "2025-01-28T01:54:13.343Z"
   },
   {
    "duration": 6,
    "start_time": "2025-01-28T01:54:13.890Z"
   },
   {
    "duration": 6,
    "start_time": "2025-01-28T01:54:14.323Z"
   },
   {
    "duration": 6,
    "start_time": "2025-01-28T01:54:14.678Z"
   },
   {
    "duration": 19,
    "start_time": "2025-01-28T01:54:52.337Z"
   },
   {
    "duration": 17,
    "start_time": "2025-01-28T01:54:53.343Z"
   },
   {
    "duration": 403,
    "start_time": "2025-01-28T01:55:12.274Z"
   },
   {
    "duration": 41,
    "start_time": "2025-01-28T01:55:13.342Z"
   },
   {
    "duration": 36,
    "start_time": "2025-01-28T01:55:50.590Z"
   },
   {
    "duration": 18,
    "start_time": "2025-01-28T01:55:51.618Z"
   },
   {
    "duration": 23,
    "start_time": "2025-01-28T01:55:53.993Z"
   },
   {
    "duration": 25,
    "start_time": "2025-01-28T01:56:02.211Z"
   },
   {
    "duration": 9,
    "start_time": "2025-01-28T01:56:23.796Z"
   },
   {
    "duration": 7,
    "start_time": "2025-01-28T01:56:24.948Z"
   },
   {
    "duration": 7,
    "start_time": "2025-01-28T01:56:25.952Z"
   },
   {
    "duration": 8,
    "start_time": "2025-01-28T01:56:26.556Z"
   },
   {
    "duration": 7,
    "start_time": "2025-01-28T01:56:27.632Z"
   },
   {
    "duration": 9,
    "start_time": "2025-01-28T01:56:31.467Z"
   },
   {
    "duration": 18,
    "start_time": "2025-01-28T01:56:51.245Z"
   },
   {
    "duration": 49,
    "start_time": "2025-01-28T02:11:24.918Z"
   },
   {
    "duration": 107,
    "start_time": "2025-01-28T02:11:26.554Z"
   },
   {
    "duration": 47,
    "start_time": "2025-01-28T02:13:10.906Z"
   },
   {
    "duration": 44,
    "start_time": "2025-01-28T02:13:12.541Z"
   },
   {
    "duration": 21,
    "start_time": "2025-01-28T02:13:42.060Z"
   },
   {
    "duration": 19,
    "start_time": "2025-01-28T02:13:43.457Z"
   },
   {
    "duration": 21,
    "start_time": "2025-01-28T02:14:16.568Z"
   },
   {
    "duration": 44,
    "start_time": "2025-01-28T02:15:09.111Z"
   },
   {
    "duration": 45,
    "start_time": "2025-01-28T02:44:32.367Z"
   },
   {
    "duration": 41,
    "start_time": "2025-01-28T02:44:32.962Z"
   },
   {
    "duration": 48,
    "start_time": "2025-01-28T02:44:33.415Z"
   },
   {
    "duration": 43,
    "start_time": "2025-01-28T02:44:33.678Z"
   },
   {
    "duration": 42,
    "start_time": "2025-01-28T02:44:33.972Z"
   },
   {
    "duration": 40,
    "start_time": "2025-01-28T02:44:34.243Z"
   },
   {
    "duration": 41,
    "start_time": "2025-01-28T02:44:34.954Z"
   },
   {
    "duration": 45,
    "start_time": "2025-01-28T02:44:35.621Z"
   },
   {
    "duration": 41,
    "start_time": "2025-01-28T02:44:36.230Z"
   },
   {
    "duration": 19,
    "start_time": "2025-01-28T02:46:02.657Z"
   },
   {
    "duration": 18,
    "start_time": "2025-01-28T02:46:03.395Z"
   },
   {
    "duration": 17,
    "start_time": "2025-01-28T02:46:05.504Z"
   },
   {
    "duration": 16,
    "start_time": "2025-01-28T02:46:06.133Z"
   },
   {
    "duration": 18,
    "start_time": "2025-01-28T02:46:07.100Z"
   },
   {
    "duration": 16,
    "start_time": "2025-01-28T02:46:07.830Z"
   },
   {
    "duration": 16,
    "start_time": "2025-01-28T02:46:08.365Z"
   },
   {
    "duration": 18,
    "start_time": "2025-01-28T02:46:36.520Z"
   },
   {
    "duration": 16,
    "start_time": "2025-01-28T02:46:37.152Z"
   },
   {
    "duration": 193,
    "start_time": "2025-01-28T02:46:45.988Z"
   },
   {
    "duration": 57,
    "start_time": "2025-01-28T02:46:47.150Z"
   },
   {
    "duration": 56,
    "start_time": "2025-01-28T02:46:49.040Z"
   },
   {
    "duration": 5,
    "start_time": "2025-01-28T02:47:38.295Z"
   },
   {
    "duration": 5,
    "start_time": "2025-01-28T02:47:39.306Z"
   },
   {
    "duration": 5,
    "start_time": "2025-01-28T02:47:51.486Z"
   },
   {
    "duration": 4,
    "start_time": "2025-01-28T02:47:53.208Z"
   },
   {
    "duration": 5,
    "start_time": "2025-01-28T02:48:05.147Z"
   },
   {
    "duration": 5,
    "start_time": "2025-01-28T02:48:10.876Z"
   },
   {
    "duration": 5,
    "start_time": "2025-01-28T02:48:11.604Z"
   },
   {
    "duration": 5,
    "start_time": "2025-01-28T02:48:14.010Z"
   },
   {
    "duration": 7,
    "start_time": "2025-01-28T02:48:15.310Z"
   },
   {
    "duration": 4,
    "start_time": "2025-01-28T02:48:26.241Z"
   },
   {
    "duration": 5,
    "start_time": "2025-01-28T02:48:27.078Z"
   },
   {
    "duration": 7,
    "start_time": "2025-01-28T02:48:34.124Z"
   },
   {
    "duration": 4,
    "start_time": "2025-01-28T02:48:34.850Z"
   },
   {
    "duration": 5,
    "start_time": "2025-01-28T02:48:40.765Z"
   },
   {
    "duration": 6,
    "start_time": "2025-01-28T02:48:42.662Z"
   },
   {
    "duration": 6,
    "start_time": "2025-01-28T02:48:44.825Z"
   },
   {
    "duration": 5,
    "start_time": "2025-01-28T02:48:47.058Z"
   },
   {
    "duration": 5,
    "start_time": "2025-01-28T02:48:55.593Z"
   },
   {
    "duration": 6,
    "start_time": "2025-01-28T02:48:56.365Z"
   },
   {
    "duration": 5,
    "start_time": "2025-01-28T02:49:07.189Z"
   },
   {
    "duration": 6,
    "start_time": "2025-01-28T02:49:07.772Z"
   },
   {
    "duration": 5,
    "start_time": "2025-01-28T02:49:08.314Z"
   },
   {
    "duration": 5,
    "start_time": "2025-01-28T02:49:08.742Z"
   },
   {
    "duration": 4,
    "start_time": "2025-01-28T02:49:09.259Z"
   },
   {
    "duration": 5,
    "start_time": "2025-01-28T02:49:09.856Z"
   },
   {
    "duration": 5,
    "start_time": "2025-01-28T02:49:10.286Z"
   },
   {
    "duration": 5,
    "start_time": "2025-01-28T02:49:10.737Z"
   },
   {
    "duration": 5,
    "start_time": "2025-01-28T02:49:11.358Z"
   },
   {
    "duration": 5,
    "start_time": "2025-01-28T02:49:11.886Z"
   },
   {
    "duration": 4,
    "start_time": "2025-01-28T02:49:22.590Z"
   },
   {
    "duration": 10,
    "start_time": "2025-01-28T02:49:23.265Z"
   },
   {
    "duration": 8,
    "start_time": "2025-01-28T02:49:25.141Z"
   },
   {
    "duration": 5,
    "start_time": "2025-01-28T02:49:33.790Z"
   },
   {
    "duration": 5,
    "start_time": "2025-01-28T02:49:34.652Z"
   },
   {
    "duration": 5,
    "start_time": "2025-01-28T02:49:46.692Z"
   },
   {
    "duration": 5,
    "start_time": "2025-01-28T02:49:47.404Z"
   },
   {
    "duration": 7,
    "start_time": "2025-01-28T02:51:03.391Z"
   },
   {
    "duration": 7,
    "start_time": "2025-01-28T02:51:04.701Z"
   },
   {
    "duration": 5,
    "start_time": "2025-01-28T02:51:05.329Z"
   },
   {
    "duration": 4,
    "start_time": "2025-01-28T02:51:05.775Z"
   },
   {
    "duration": 5,
    "start_time": "2025-01-28T02:51:12.859Z"
   },
   {
    "duration": 5,
    "start_time": "2025-01-28T02:51:13.481Z"
   },
   {
    "duration": 5,
    "start_time": "2025-01-28T02:51:17.855Z"
   },
   {
    "duration": 5,
    "start_time": "2025-01-28T02:51:18.366Z"
   },
   {
    "duration": 5,
    "start_time": "2025-01-28T02:51:18.893Z"
   },
   {
    "duration": 5,
    "start_time": "2025-01-28T02:51:31.620Z"
   },
   {
    "duration": 5,
    "start_time": "2025-01-28T02:51:32.309Z"
   },
   {
    "duration": 4,
    "start_time": "2025-01-28T02:51:32.990Z"
   },
   {
    "duration": 5,
    "start_time": "2025-01-28T02:51:39.698Z"
   },
   {
    "duration": 5,
    "start_time": "2025-01-28T02:51:40.238Z"
   },
   {
    "duration": 6,
    "start_time": "2025-01-28T02:52:49.037Z"
   },
   {
    "duration": 6,
    "start_time": "2025-01-28T02:52:49.900Z"
   },
   {
    "duration": 5,
    "start_time": "2025-01-28T02:52:50.865Z"
   },
   {
    "duration": 5,
    "start_time": "2025-01-28T02:52:52.527Z"
   },
   {
    "duration": 6,
    "start_time": "2025-01-28T02:52:59.526Z"
   },
   {
    "duration": 6,
    "start_time": "2025-01-28T02:54:59.851Z"
   },
   {
    "duration": 5,
    "start_time": "2025-01-28T02:55:00.611Z"
   },
   {
    "duration": 5,
    "start_time": "2025-01-28T02:55:09.463Z"
   },
   {
    "duration": 5,
    "start_time": "2025-01-28T02:55:10.057Z"
   },
   {
    "duration": 5,
    "start_time": "2025-01-28T02:55:10.616Z"
   },
   {
    "duration": 5,
    "start_time": "2025-01-28T02:55:11.276Z"
   },
   {
    "duration": 5,
    "start_time": "2025-01-28T02:55:12.249Z"
   },
   {
    "duration": 549,
    "start_time": "2025-01-30T21:03:20.292Z"
   },
   {
    "duration": 22,
    "start_time": "2025-01-30T21:07:22.834Z"
   },
   {
    "duration": 8,
    "start_time": "2025-01-30T21:08:39.531Z"
   },
   {
    "duration": 5,
    "start_time": "2025-01-30T21:09:32.498Z"
   },
   {
    "duration": 7,
    "start_time": "2025-01-30T21:09:33.434Z"
   },
   {
    "duration": 5,
    "start_time": "2025-01-30T21:09:51.522Z"
   },
   {
    "duration": 8,
    "start_time": "2025-01-30T21:09:52.586Z"
   },
   {
    "duration": 6,
    "start_time": "2025-01-30T21:09:57.818Z"
   },
   {
    "duration": 6,
    "start_time": "2025-01-30T21:10:01.145Z"
   },
   {
    "duration": 7,
    "start_time": "2025-01-30T21:10:07.107Z"
   },
   {
    "duration": 6,
    "start_time": "2025-01-30T21:10:07.806Z"
   },
   {
    "duration": 6,
    "start_time": "2025-01-30T21:10:08.399Z"
   },
   {
    "duration": 5,
    "start_time": "2025-01-30T21:10:08.675Z"
   },
   {
    "duration": 4,
    "start_time": "2025-01-30T21:10:08.952Z"
   },
   {
    "duration": 25,
    "start_time": "2025-01-30T21:11:43.411Z"
   },
   {
    "duration": 6,
    "start_time": "2025-01-30T21:12:03.877Z"
   },
   {
    "duration": 5,
    "start_time": "2025-01-30T21:15:56.778Z"
   },
   {
    "duration": 7,
    "start_time": "2025-01-30T21:16:22.860Z"
   },
   {
    "duration": 5,
    "start_time": "2025-01-30T21:16:41.805Z"
   },
   {
    "duration": 7,
    "start_time": "2025-01-30T21:20:15.640Z"
   },
   {
    "duration": 5,
    "start_time": "2025-01-30T21:20:16.380Z"
   },
   {
    "duration": 5,
    "start_time": "2025-01-30T21:20:22.365Z"
   },
   {
    "duration": 5,
    "start_time": "2025-01-30T21:20:51.339Z"
   },
   {
    "duration": 14,
    "start_time": "2025-01-30T21:21:04.163Z"
   },
   {
    "duration": 14,
    "start_time": "2025-01-30T21:21:06.345Z"
   },
   {
    "duration": 5,
    "start_time": "2025-01-30T21:21:10.646Z"
   },
   {
    "duration": 5,
    "start_time": "2025-01-30T21:21:11.469Z"
   },
   {
    "duration": 6,
    "start_time": "2025-01-30T21:21:55.859Z"
   },
   {
    "duration": 23,
    "start_time": "2025-01-30T21:22:04.491Z"
   },
   {
    "duration": 16,
    "start_time": "2025-01-30T21:22:10.572Z"
   },
   {
    "duration": 162,
    "start_time": "2025-02-09T02:04:02.038Z"
   },
   {
    "duration": 12,
    "start_time": "2025-02-09T02:04:03.668Z"
   },
   {
    "duration": 13,
    "start_time": "2025-02-09T02:04:14.389Z"
   },
   {
    "duration": 12,
    "start_time": "2025-02-09T02:04:15.494Z"
   },
   {
    "duration": 14,
    "start_time": "2025-02-09T02:04:22.495Z"
   },
   {
    "duration": 12,
    "start_time": "2025-02-09T02:04:23.345Z"
   },
   {
    "duration": 13,
    "start_time": "2025-02-09T02:05:13.501Z"
   },
   {
    "duration": 33,
    "start_time": "2025-02-09T02:05:14.567Z"
   },
   {
    "duration": 12,
    "start_time": "2025-02-09T02:05:15.283Z"
   },
   {
    "duration": 12,
    "start_time": "2025-02-09T02:05:15.933Z"
   },
   {
    "duration": 13,
    "start_time": "2025-02-09T02:05:16.537Z"
   },
   {
    "duration": 11,
    "start_time": "2025-02-09T02:05:17.013Z"
   },
   {
    "duration": 11,
    "start_time": "2025-02-09T02:05:17.518Z"
   },
   {
    "duration": 12,
    "start_time": "2025-02-09T02:05:18.055Z"
   },
   {
    "duration": 14,
    "start_time": "2025-02-09T02:05:18.546Z"
   },
   {
    "duration": 12,
    "start_time": "2025-02-09T02:05:19.067Z"
   },
   {
    "duration": 11,
    "start_time": "2025-02-09T02:05:21.111Z"
   },
   {
    "duration": 12,
    "start_time": "2025-02-09T02:05:21.832Z"
   },
   {
    "duration": 11,
    "start_time": "2025-02-09T02:05:31.318Z"
   },
   {
    "duration": 794,
    "start_time": "2025-02-09T02:05:40.854Z"
   },
   {
    "duration": 108,
    "start_time": "2025-02-09T02:05:42.049Z"
   },
   {
    "duration": 107,
    "start_time": "2025-02-09T02:08:06.102Z"
   },
   {
    "duration": 16,
    "start_time": "2025-02-09T02:08:13.671Z"
   },
   {
    "duration": 16,
    "start_time": "2025-02-09T02:08:14.282Z"
   },
   {
    "duration": 6,
    "start_time": "2025-02-09T02:08:19.226Z"
   },
   {
    "duration": 102,
    "start_time": "2025-02-09T02:08:24.215Z"
   },
   {
    "duration": 105,
    "start_time": "2025-02-09T02:08:25.283Z"
   },
   {
    "duration": 101,
    "start_time": "2025-02-09T02:08:25.909Z"
   },
   {
    "duration": 173,
    "start_time": "2025-02-09T02:09:15.187Z"
   },
   {
    "duration": 109,
    "start_time": "2025-02-09T02:09:15.929Z"
   },
   {
    "duration": 121,
    "start_time": "2025-02-09T02:09:57.625Z"
   },
   {
    "duration": 112,
    "start_time": "2025-02-09T02:09:58.319Z"
   },
   {
    "duration": 104,
    "start_time": "2025-02-09T02:10:25.941Z"
   },
   {
    "duration": 105,
    "start_time": "2025-02-09T02:10:26.653Z"
   },
   {
    "duration": 104,
    "start_time": "2025-02-09T02:10:27.076Z"
   },
   {
    "duration": 104,
    "start_time": "2025-02-09T02:10:27.388Z"
   },
   {
    "duration": 116,
    "start_time": "2025-02-09T02:12:27.128Z"
   },
   {
    "duration": 107,
    "start_time": "2025-02-09T02:12:27.995Z"
   },
   {
    "duration": 620,
    "start_time": "2025-02-09T20:32:53.228Z"
   },
   {
    "duration": 110,
    "start_time": "2025-02-09T20:33:12.688Z"
   },
   {
    "duration": 107,
    "start_time": "2025-02-09T20:33:13.545Z"
   },
   {
    "duration": 108,
    "start_time": "2025-02-09T20:33:38.619Z"
   },
   {
    "duration": 139,
    "start_time": "2025-02-09T20:33:54.756Z"
   },
   {
    "duration": 112,
    "start_time": "2025-02-09T20:34:06.414Z"
   },
   {
    "duration": 118,
    "start_time": "2025-02-09T20:34:07.358Z"
   },
   {
    "duration": 441,
    "start_time": "2025-02-09T20:34:13.005Z"
   },
   {
    "duration": 108,
    "start_time": "2025-02-09T20:37:04.010Z"
   },
   {
    "duration": 108,
    "start_time": "2025-02-09T20:38:37.892Z"
   },
   {
    "duration": 0,
    "start_time": "2025-02-09T20:40:05.843Z"
   },
   {
    "duration": 80,
    "start_time": "2025-02-09T20:40:06.997Z"
   },
   {
    "duration": 83,
    "start_time": "2025-02-09T20:40:07.805Z"
   },
   {
    "duration": 83,
    "start_time": "2025-02-09T20:40:08.889Z"
   },
   {
    "duration": 111,
    "start_time": "2025-02-09T20:40:50.730Z"
   },
   {
    "duration": 114,
    "start_time": "2025-02-09T20:40:51.700Z"
   },
   {
    "duration": 109,
    "start_time": "2025-02-09T20:40:52.625Z"
   },
   {
    "duration": 86,
    "start_time": "2025-02-09T20:41:23.731Z"
   },
   {
    "duration": 79,
    "start_time": "2025-02-09T20:41:24.468Z"
   },
   {
    "duration": 231,
    "start_time": "2025-02-09T20:42:11.347Z"
   },
   {
    "duration": 103,
    "start_time": "2025-02-09T20:43:07.660Z"
   },
   {
    "duration": 91,
    "start_time": "2025-02-09T20:43:08.193Z"
   },
   {
    "duration": 93,
    "start_time": "2025-02-09T20:43:08.644Z"
   },
   {
    "duration": 96,
    "start_time": "2025-02-09T20:43:23.764Z"
   },
   {
    "duration": 101,
    "start_time": "2025-02-09T20:43:24.577Z"
   },
   {
    "duration": 138,
    "start_time": "2025-02-09T20:47:47.814Z"
   },
   {
    "duration": 94,
    "start_time": "2025-02-09T20:47:57.008Z"
   },
   {
    "duration": 24,
    "start_time": "2025-02-09T20:58:02.074Z"
   },
   {
    "duration": 33,
    "start_time": "2025-02-09T21:14:10.428Z"
   },
   {
    "duration": 24,
    "start_time": "2025-02-09T21:19:04.676Z"
   },
   {
    "duration": 22,
    "start_time": "2025-02-09T21:21:09.220Z"
   },
   {
    "duration": 28,
    "start_time": "2025-02-09T21:21:57.201Z"
   },
   {
    "duration": 24,
    "start_time": "2025-02-09T21:28:31.722Z"
   },
   {
    "duration": 38,
    "start_time": "2025-02-09T21:30:41.173Z"
   },
   {
    "duration": 41,
    "start_time": "2025-02-09T21:34:46.305Z"
   },
   {
    "duration": 10,
    "start_time": "2025-02-09T21:43:53.056Z"
   },
   {
    "duration": 6,
    "start_time": "2025-02-09T21:45:40.687Z"
   },
   {
    "duration": 8,
    "start_time": "2025-02-09T21:46:08.694Z"
   },
   {
    "duration": 6,
    "start_time": "2025-02-09T21:46:09.241Z"
   },
   {
    "duration": 6,
    "start_time": "2025-02-09T21:46:09.535Z"
   },
   {
    "duration": 6,
    "start_time": "2025-02-09T21:46:09.692Z"
   },
   {
    "duration": 8,
    "start_time": "2025-02-09T22:01:55.106Z"
   },
   {
    "duration": 17,
    "start_time": "2025-02-09T22:02:46.255Z"
   },
   {
    "duration": 21,
    "start_time": "2025-02-09T22:03:12.021Z"
   },
   {
    "duration": 8,
    "start_time": "2025-02-09T22:03:20.579Z"
   },
   {
    "duration": 14,
    "start_time": "2025-02-09T22:04:36.646Z"
   },
   {
    "duration": 8,
    "start_time": "2025-02-09T22:12:08.393Z"
   },
   {
    "duration": 3,
    "start_time": "2025-02-09T22:12:32.084Z"
   },
   {
    "duration": 886,
    "start_time": "2025-02-18T02:31:23.484Z"
   },
   {
    "duration": 13,
    "start_time": "2025-02-18T02:33:04.677Z"
   },
   {
    "duration": 12,
    "start_time": "2025-02-18T02:33:05.720Z"
   },
   {
    "duration": 1129,
    "start_time": "2025-02-18T02:33:26.175Z"
   },
   {
    "duration": 1517,
    "start_time": "2025-02-18T02:34:28.832Z"
   },
   {
    "duration": 1796,
    "start_time": "2025-02-18T02:37:01.012Z"
   },
   {
    "duration": 1832,
    "start_time": "2025-02-18T02:37:36.778Z"
   },
   {
    "duration": 1902,
    "start_time": "2025-02-18T02:38:06.786Z"
   },
   {
    "duration": 217,
    "start_time": "2025-02-18T02:44:45.812Z"
   },
   {
    "duration": 91,
    "start_time": "2025-02-18T02:44:54.715Z"
   },
   {
    "duration": 342,
    "start_time": "2025-02-18T02:46:15.595Z"
   },
   {
    "duration": 17,
    "start_time": "2025-02-18T03:11:00.331Z"
   },
   {
    "duration": 17,
    "start_time": "2025-02-18T03:12:07.396Z"
   },
   {
    "duration": 15,
    "start_time": "2025-02-18T03:12:45.300Z"
   },
   {
    "duration": 13,
    "start_time": "2025-02-18T03:12:45.840Z"
   },
   {
    "duration": 15,
    "start_time": "2025-02-18T03:12:46.404Z"
   },
   {
    "duration": 14,
    "start_time": "2025-02-18T03:12:47.839Z"
   },
   {
    "duration": 18,
    "start_time": "2025-02-18T03:12:48.990Z"
   },
   {
    "duration": 15,
    "start_time": "2025-02-18T03:12:50.240Z"
   },
   {
    "duration": 14,
    "start_time": "2025-02-18T03:12:50.760Z"
   },
   {
    "duration": 16,
    "start_time": "2025-02-18T03:12:59.133Z"
   },
   {
    "duration": 14,
    "start_time": "2025-02-18T03:12:59.721Z"
   },
   {
    "duration": 14,
    "start_time": "2025-02-18T03:13:00.102Z"
   },
   {
    "duration": 18,
    "start_time": "2025-02-18T03:13:00.385Z"
   },
   {
    "duration": 17,
    "start_time": "2025-02-18T03:13:00.632Z"
   },
   {
    "duration": 15,
    "start_time": "2025-02-18T03:13:00.868Z"
   },
   {
    "duration": 17,
    "start_time": "2025-02-18T03:13:01.056Z"
   },
   {
    "duration": 16,
    "start_time": "2025-02-18T03:13:01.261Z"
   },
   {
    "duration": 17,
    "start_time": "2025-02-18T03:13:01.454Z"
   },
   {
    "duration": 14,
    "start_time": "2025-02-18T03:13:01.656Z"
   },
   {
    "duration": 14,
    "start_time": "2025-02-18T03:13:02.019Z"
   },
   {
    "duration": 20,
    "start_time": "2025-02-18T03:13:02.553Z"
   },
   {
    "duration": 16,
    "start_time": "2025-02-18T03:14:33.658Z"
   },
   {
    "duration": 15,
    "start_time": "2025-02-18T03:14:46.847Z"
   },
   {
    "duration": 16,
    "start_time": "2025-02-18T03:15:37.552Z"
   },
   {
    "duration": 15,
    "start_time": "2025-02-18T03:15:38.250Z"
   },
   {
    "duration": 16,
    "start_time": "2025-02-18T03:15:38.655Z"
   },
   {
    "duration": 338,
    "start_time": "2025-02-18T03:20:30.142Z"
   },
   {
    "duration": 106,
    "start_time": "2025-02-18T03:21:12.350Z"
   },
   {
    "duration": 111,
    "start_time": "2025-02-18T03:23:12.604Z"
   },
   {
    "duration": 111,
    "start_time": "2025-02-18T03:24:28.902Z"
   },
   {
    "duration": 133,
    "start_time": "2025-02-18T03:24:48.382Z"
   },
   {
    "duration": 102,
    "start_time": "2025-02-18T03:27:59.958Z"
   },
   {
    "duration": 76,
    "start_time": "2025-02-18T03:31:22.793Z"
   },
   {
    "duration": 97,
    "start_time": "2025-02-18T03:35:17.360Z"
   },
   {
    "duration": 92,
    "start_time": "2025-02-18T03:42:58.505Z"
   },
   {
    "duration": 70,
    "start_time": "2025-02-18T03:45:04.414Z"
   },
   {
    "duration": 64,
    "start_time": "2025-02-18T03:45:37.670Z"
   },
   {
    "duration": 111,
    "start_time": "2025-02-18T03:47:42.408Z"
   },
   {
    "duration": 74,
    "start_time": "2025-02-18T03:49:59.633Z"
   },
   {
    "duration": 64,
    "start_time": "2025-02-18T03:55:38.844Z"
   },
   {
    "duration": 435,
    "start_time": "2025-02-19T01:37:49.529Z"
   },
   {
    "duration": 11,
    "start_time": "2025-02-19T01:55:01.123Z"
   },
   {
    "duration": 84,
    "start_time": "2025-02-19T01:55:06.360Z"
   },
   {
    "duration": 81,
    "start_time": "2025-02-19T01:55:09.988Z"
   },
   {
    "duration": 85,
    "start_time": "2025-02-19T01:55:10.662Z"
   },
   {
    "duration": 2654,
    "start_time": "2025-02-19T02:16:12.308Z"
   },
   {
    "duration": 485,
    "start_time": "2025-02-19T02:18:46.891Z"
   },
   {
    "duration": 510,
    "start_time": "2025-02-19T02:25:11.132Z"
   },
   {
    "duration": 940,
    "start_time": "2025-02-19T02:26:31.078Z"
   },
   {
    "duration": 454,
    "start_time": "2025-02-20T01:43:39.925Z"
   },
   {
    "duration": 2026,
    "start_time": "2025-02-20T01:56:04.565Z"
   },
   {
    "duration": 165,
    "start_time": "2025-02-20T02:08:21.246Z"
   },
   {
    "duration": 156,
    "start_time": "2025-02-20T02:18:48.731Z"
   },
   {
    "duration": 144,
    "start_time": "2025-02-20T02:19:29.103Z"
   },
   {
    "duration": 886,
    "start_time": "2025-02-20T02:28:41.040Z"
   },
   {
    "duration": 46,
    "start_time": "2025-02-20T02:30:00.802Z"
   },
   {
    "duration": 47,
    "start_time": "2025-02-20T02:30:15.464Z"
   },
   {
    "duration": 46,
    "start_time": "2025-02-20T02:30:16.088Z"
   },
   {
    "duration": 125,
    "start_time": "2025-02-20T02:30:56.473Z"
   },
   {
    "duration": 214,
    "start_time": "2025-02-20T02:31:46.739Z"
   },
   {
    "duration": 157,
    "start_time": "2025-02-20T02:33:12.185Z"
   },
   {
    "duration": 182,
    "start_time": "2025-02-20T02:34:00.549Z"
   },
   {
    "duration": 163,
    "start_time": "2025-02-20T02:34:32.239Z"
   },
   {
    "duration": 5,
    "start_time": "2025-02-20T02:57:49.359Z"
   },
   {
    "duration": 7,
    "start_time": "2025-02-20T03:04:50.842Z"
   },
   {
    "duration": 608,
    "start_time": "2025-02-20T19:27:00.984Z"
   },
   {
    "duration": 230,
    "start_time": "2025-02-20T19:27:01.594Z"
   },
   {
    "duration": 9,
    "start_time": "2025-02-20T19:27:01.826Z"
   },
   {
    "duration": 5,
    "start_time": "2025-02-20T19:27:01.838Z"
   },
   {
    "duration": 8,
    "start_time": "2025-02-20T19:27:01.845Z"
   },
   {
    "duration": 11,
    "start_time": "2025-02-20T19:27:01.855Z"
   },
   {
    "duration": 7,
    "start_time": "2025-02-20T19:27:01.868Z"
   },
   {
    "duration": 5,
    "start_time": "2025-02-20T19:27:01.877Z"
   },
   {
    "duration": 12,
    "start_time": "2025-02-20T19:27:01.884Z"
   },
   {
    "duration": 47,
    "start_time": "2025-02-20T19:27:01.898Z"
   },
   {
    "duration": 12,
    "start_time": "2025-02-20T19:27:01.946Z"
   },
   {
    "duration": 5,
    "start_time": "2025-02-20T19:27:01.960Z"
   },
   {
    "duration": 154,
    "start_time": "2025-02-20T19:27:01.966Z"
   },
   {
    "duration": 9,
    "start_time": "2025-02-20T19:27:02.123Z"
   },
   {
    "duration": 0,
    "start_time": "2025-02-20T19:27:02.133Z"
   },
   {
    "duration": 0,
    "start_time": "2025-02-20T19:27:02.143Z"
   },
   {
    "duration": 0,
    "start_time": "2025-02-20T19:27:02.144Z"
   },
   {
    "duration": 0,
    "start_time": "2025-02-20T19:27:02.146Z"
   },
   {
    "duration": 0,
    "start_time": "2025-02-20T19:27:02.147Z"
   },
   {
    "duration": 0,
    "start_time": "2025-02-20T19:27:02.148Z"
   },
   {
    "duration": 0,
    "start_time": "2025-02-20T19:27:02.150Z"
   },
   {
    "duration": 0,
    "start_time": "2025-02-20T19:27:02.152Z"
   },
   {
    "duration": 0,
    "start_time": "2025-02-20T19:27:02.153Z"
   },
   {
    "duration": 0,
    "start_time": "2025-02-20T19:27:02.154Z"
   },
   {
    "duration": 0,
    "start_time": "2025-02-20T19:27:02.155Z"
   },
   {
    "duration": 0,
    "start_time": "2025-02-20T19:27:02.157Z"
   },
   {
    "duration": 0,
    "start_time": "2025-02-20T19:27:02.158Z"
   },
   {
    "duration": 0,
    "start_time": "2025-02-20T19:27:02.159Z"
   },
   {
    "duration": 0,
    "start_time": "2025-02-20T19:27:02.161Z"
   },
   {
    "duration": 0,
    "start_time": "2025-02-20T19:27:02.162Z"
   },
   {
    "duration": 0,
    "start_time": "2025-02-20T19:27:02.163Z"
   },
   {
    "duration": 0,
    "start_time": "2025-02-20T19:27:02.164Z"
   },
   {
    "duration": 0,
    "start_time": "2025-02-20T19:27:02.165Z"
   },
   {
    "duration": 0,
    "start_time": "2025-02-20T19:27:02.166Z"
   },
   {
    "duration": 0,
    "start_time": "2025-02-20T19:27:02.167Z"
   },
   {
    "duration": 0,
    "start_time": "2025-02-20T19:27:02.168Z"
   },
   {
    "duration": 0,
    "start_time": "2025-02-20T19:27:02.169Z"
   },
   {
    "duration": 0,
    "start_time": "2025-02-20T19:27:02.171Z"
   },
   {
    "duration": 0,
    "start_time": "2025-02-20T19:27:02.172Z"
   },
   {
    "duration": 0,
    "start_time": "2025-02-20T19:27:02.173Z"
   },
   {
    "duration": 10,
    "start_time": "2025-02-20T19:39:31.194Z"
   },
   {
    "duration": 4,
    "start_time": "2025-02-20T19:39:32.159Z"
   },
   {
    "duration": 4,
    "start_time": "2025-02-20T19:39:40.420Z"
   },
   {
    "duration": 8,
    "start_time": "2025-02-20T19:41:17.945Z"
   },
   {
    "duration": 11,
    "start_time": "2025-02-20T19:41:20.294Z"
   },
   {
    "duration": 5,
    "start_time": "2025-02-20T19:41:21.805Z"
   },
   {
    "duration": 1800,
    "start_time": "2025-02-20T19:41:24.208Z"
   },
   {
    "duration": 338,
    "start_time": "2025-02-20T19:41:53.528Z"
   },
   {
    "duration": 9,
    "start_time": "2025-02-20T19:42:59.589Z"
   },
   {
    "duration": 614,
    "start_time": "2025-02-20T19:43:02.780Z"
   },
   {
    "duration": 104,
    "start_time": "2025-02-20T19:43:06.321Z"
   },
   {
    "duration": 79,
    "start_time": "2025-02-20T19:43:08.927Z"
   },
   {
    "duration": 373,
    "start_time": "2025-02-20T19:43:47.930Z"
   },
   {
    "duration": 105,
    "start_time": "2025-02-20T19:43:51.384Z"
   },
   {
    "duration": 80,
    "start_time": "2025-02-20T19:43:58.357Z"
   },
   {
    "duration": 13,
    "start_time": "2025-02-20T19:44:03.963Z"
   },
   {
    "duration": 2992,
    "start_time": "2025-02-20T19:45:13.059Z"
   },
   {
    "duration": 421,
    "start_time": "2025-02-20T19:45:18.062Z"
   },
   {
    "duration": 479,
    "start_time": "2025-02-20T19:45:20.684Z"
   },
   {
    "duration": 788,
    "start_time": "2025-02-20T19:45:22.562Z"
   },
   {
    "duration": 158,
    "start_time": "2025-02-20T19:45:25.563Z"
   },
   {
    "duration": 138,
    "start_time": "2025-02-20T19:45:29.924Z"
   },
   {
    "duration": 235,
    "start_time": "2025-02-20T19:47:17.867Z"
   },
   {
    "duration": 118,
    "start_time": "2025-02-20T19:47:20.094Z"
   },
   {
    "duration": 6,
    "start_time": "2025-02-20T19:47:22.248Z"
   },
   {
    "duration": 5,
    "start_time": "2025-02-20T19:47:23.884Z"
   },
   {
    "duration": 2738,
    "start_time": "2025-02-24T01:04:19.809Z"
   },
   {
    "duration": 45,
    "start_time": "2025-02-24T01:04:52.441Z"
   },
   {
    "duration": 47,
    "start_time": "2025-02-24T01:04:53.125Z"
   },
   {
    "duration": 47,
    "start_time": "2025-02-24T01:07:26.420Z"
   },
   {
    "duration": 518,
    "start_time": "2025-02-24T01:09:09.508Z"
   },
   {
    "duration": 8,
    "start_time": "2025-02-24T01:15:08.256Z"
   },
   {
    "duration": 5,
    "start_time": "2025-02-24T01:15:30.558Z"
   },
   {
    "duration": 5,
    "start_time": "2025-02-24T01:16:08.101Z"
   },
   {
    "duration": 5,
    "start_time": "2025-02-24T01:17:04.900Z"
   },
   {
    "duration": 5,
    "start_time": "2025-02-24T01:17:05.755Z"
   },
   {
    "duration": 18,
    "start_time": "2025-02-24T01:28:34.020Z"
   },
   {
    "duration": 8,
    "start_time": "2025-02-24T01:28:35.109Z"
   },
   {
    "duration": 11,
    "start_time": "2025-02-24T01:29:46.156Z"
   },
   {
    "duration": 22,
    "start_time": "2025-02-24T01:31:57.203Z"
   },
   {
    "duration": 8,
    "start_time": "2025-02-24T01:45:34.656Z"
   },
   {
    "duration": 6,
    "start_time": "2025-02-24T01:45:36.110Z"
   },
   {
    "duration": 7,
    "start_time": "2025-02-24T01:45:36.560Z"
   },
   {
    "duration": 8,
    "start_time": "2025-02-24T01:45:36.786Z"
   },
   {
    "duration": 7,
    "start_time": "2025-02-24T01:45:37.084Z"
   },
   {
    "duration": 7,
    "start_time": "2025-02-24T01:48:57.592Z"
   },
   {
    "duration": 7,
    "start_time": "2025-02-24T01:49:23.881Z"
   },
   {
    "duration": 6,
    "start_time": "2025-02-24T01:50:31.297Z"
   },
   {
    "duration": 7,
    "start_time": "2025-02-24T01:50:49.512Z"
   },
   {
    "duration": 7,
    "start_time": "2025-02-24T01:51:04.297Z"
   },
   {
    "duration": 6,
    "start_time": "2025-02-24T01:51:20.545Z"
   },
   {
    "duration": 6,
    "start_time": "2025-02-24T01:51:21.080Z"
   },
   {
    "duration": 8,
    "start_time": "2025-02-24T01:51:33.179Z"
   },
   {
    "duration": 15,
    "start_time": "2025-02-24T03:02:45.299Z"
   },
   {
    "duration": 16,
    "start_time": "2025-02-24T03:02:50.038Z"
   },
   {
    "duration": 13,
    "start_time": "2025-02-24T03:02:50.652Z"
   },
   {
    "duration": 13,
    "start_time": "2025-02-24T03:02:52.944Z"
   },
   {
    "duration": 13,
    "start_time": "2025-02-24T03:02:53.654Z"
   },
   {
    "duration": 15,
    "start_time": "2025-02-24T03:02:54.042Z"
   },
   {
    "duration": 13,
    "start_time": "2025-02-24T03:03:16.820Z"
   },
   {
    "duration": 15,
    "start_time": "2025-02-24T03:03:17.568Z"
   },
   {
    "duration": 14,
    "start_time": "2025-02-24T03:03:18.213Z"
   },
   {
    "duration": 13,
    "start_time": "2025-02-24T03:03:18.730Z"
   },
   {
    "duration": 15,
    "start_time": "2025-02-24T03:03:19.202Z"
   },
   {
    "duration": 14,
    "start_time": "2025-02-24T03:03:19.619Z"
   },
   {
    "duration": 13,
    "start_time": "2025-02-24T03:03:20.149Z"
   },
   {
    "duration": 13,
    "start_time": "2025-02-24T03:03:20.667Z"
   },
   {
    "duration": 14,
    "start_time": "2025-02-24T03:03:21.162Z"
   },
   {
    "duration": 15,
    "start_time": "2025-02-24T03:03:21.537Z"
   },
   {
    "duration": 12,
    "start_time": "2025-02-24T03:03:21.957Z"
   },
   {
    "duration": 14,
    "start_time": "2025-02-24T03:03:22.365Z"
   },
   {
    "duration": 14,
    "start_time": "2025-02-24T03:03:23.372Z"
   },
   {
    "duration": 14,
    "start_time": "2025-02-24T03:03:23.975Z"
   },
   {
    "duration": 14,
    "start_time": "2025-02-24T03:03:24.532Z"
   },
   {
    "duration": 16,
    "start_time": "2025-02-24T03:03:25.059Z"
   },
   {
    "duration": 6,
    "start_time": "2025-02-24T03:03:42.714Z"
   },
   {
    "duration": 3,
    "start_time": "2025-02-24T03:03:44.649Z"
   },
   {
    "duration": 15,
    "start_time": "2025-02-24T03:03:49.769Z"
   },
   {
    "duration": 14,
    "start_time": "2025-02-24T03:03:50.629Z"
   },
   {
    "duration": 13,
    "start_time": "2025-02-24T03:03:51.406Z"
   },
   {
    "duration": 3,
    "start_time": "2025-02-24T03:03:55.037Z"
   },
   {
    "duration": 3,
    "start_time": "2025-02-24T03:03:57.857Z"
   },
   {
    "duration": 4,
    "start_time": "2025-02-24T03:03:58.486Z"
   },
   {
    "duration": 4,
    "start_time": "2025-02-24T03:03:59.111Z"
   },
   {
    "duration": 3,
    "start_time": "2025-02-24T03:04:01.138Z"
   },
   {
    "duration": 4,
    "start_time": "2025-02-24T03:04:01.598Z"
   },
   {
    "duration": 18,
    "start_time": "2025-02-24T03:04:21.187Z"
   },
   {
    "duration": 13,
    "start_time": "2025-02-24T03:04:22.086Z"
   },
   {
    "duration": 14,
    "start_time": "2025-02-24T03:05:12.771Z"
   },
   {
    "duration": 15,
    "start_time": "2025-02-24T03:05:13.529Z"
   },
   {
    "duration": 15,
    "start_time": "2025-02-24T03:13:55.217Z"
   },
   {
    "duration": 103,
    "start_time": "2025-02-24T03:22:07.697Z"
   },
   {
    "duration": 85,
    "start_time": "2025-02-24T03:22:21.825Z"
   },
   {
    "duration": 192,
    "start_time": "2025-02-24T03:41:26.837Z"
   },
   {
    "duration": 283,
    "start_time": "2025-02-24T03:42:07.120Z"
   },
   {
    "duration": 61,
    "start_time": "2025-02-24T03:42:59.473Z"
   },
   {
    "duration": 55,
    "start_time": "2025-02-24T03:43:02.363Z"
   },
   {
    "duration": 57,
    "start_time": "2025-02-24T03:43:02.862Z"
   },
   {
    "duration": 51,
    "start_time": "2025-02-24T03:43:03.292Z"
   },
   {
    "duration": 61,
    "start_time": "2025-02-24T03:43:03.564Z"
   },
   {
    "duration": 52,
    "start_time": "2025-02-24T03:43:04.202Z"
   },
   {
    "duration": 51,
    "start_time": "2025-02-24T03:43:04.630Z"
   },
   {
    "duration": 53,
    "start_time": "2025-02-24T03:43:05.127Z"
   },
   {
    "duration": 52,
    "start_time": "2025-02-24T03:43:05.609Z"
   },
   {
    "duration": 4,
    "start_time": "2025-02-24T03:50:51.052Z"
   },
   {
    "duration": 554,
    "start_time": "2025-02-24T14:05:12.611Z"
   },
   {
    "duration": 231,
    "start_time": "2025-02-24T14:05:13.167Z"
   },
   {
    "duration": 10,
    "start_time": "2025-02-24T14:05:13.399Z"
   },
   {
    "duration": 5,
    "start_time": "2025-02-24T14:05:13.411Z"
   },
   {
    "duration": 11,
    "start_time": "2025-02-24T14:05:13.417Z"
   },
   {
    "duration": 10,
    "start_time": "2025-02-24T14:05:13.431Z"
   },
   {
    "duration": 7,
    "start_time": "2025-02-24T14:05:13.443Z"
   },
   {
    "duration": 3,
    "start_time": "2025-02-24T14:05:13.452Z"
   },
   {
    "duration": 18,
    "start_time": "2025-02-24T14:05:13.457Z"
   },
   {
    "duration": 13,
    "start_time": "2025-02-24T14:05:13.478Z"
   },
   {
    "duration": 39,
    "start_time": "2025-02-24T14:05:13.493Z"
   },
   {
    "duration": 4,
    "start_time": "2025-02-24T14:05:13.533Z"
   },
   {
    "duration": 141,
    "start_time": "2025-02-24T14:05:13.538Z"
   },
   {
    "duration": 8,
    "start_time": "2025-02-24T14:05:13.681Z"
   },
   {
    "duration": 0,
    "start_time": "2025-02-24T14:05:13.690Z"
   },
   {
    "duration": 0,
    "start_time": "2025-02-24T14:05:13.692Z"
   },
   {
    "duration": 0,
    "start_time": "2025-02-24T14:05:13.693Z"
   },
   {
    "duration": 0,
    "start_time": "2025-02-24T14:05:13.695Z"
   },
   {
    "duration": 0,
    "start_time": "2025-02-24T14:05:13.696Z"
   },
   {
    "duration": 0,
    "start_time": "2025-02-24T14:05:13.697Z"
   },
   {
    "duration": 0,
    "start_time": "2025-02-24T14:05:13.698Z"
   },
   {
    "duration": 0,
    "start_time": "2025-02-24T14:05:13.699Z"
   },
   {
    "duration": 0,
    "start_time": "2025-02-24T14:05:13.700Z"
   },
   {
    "duration": 0,
    "start_time": "2025-02-24T14:05:13.702Z"
   },
   {
    "duration": 0,
    "start_time": "2025-02-24T14:05:13.732Z"
   },
   {
    "duration": 0,
    "start_time": "2025-02-24T14:05:13.733Z"
   },
   {
    "duration": 0,
    "start_time": "2025-02-24T14:05:13.735Z"
   },
   {
    "duration": 0,
    "start_time": "2025-02-24T14:05:13.736Z"
   },
   {
    "duration": 0,
    "start_time": "2025-02-24T14:05:13.737Z"
   },
   {
    "duration": 0,
    "start_time": "2025-02-24T14:05:13.738Z"
   },
   {
    "duration": 0,
    "start_time": "2025-02-24T14:05:13.739Z"
   },
   {
    "duration": 0,
    "start_time": "2025-02-24T14:05:13.740Z"
   },
   {
    "duration": 0,
    "start_time": "2025-02-24T14:05:13.741Z"
   },
   {
    "duration": 0,
    "start_time": "2025-02-24T14:05:13.742Z"
   },
   {
    "duration": 0,
    "start_time": "2025-02-24T14:05:13.743Z"
   },
   {
    "duration": 0,
    "start_time": "2025-02-24T14:05:13.744Z"
   },
   {
    "duration": 0,
    "start_time": "2025-02-24T14:05:13.745Z"
   },
   {
    "duration": 0,
    "start_time": "2025-02-24T14:05:13.746Z"
   },
   {
    "duration": 0,
    "start_time": "2025-02-24T14:05:13.748Z"
   },
   {
    "duration": 0,
    "start_time": "2025-02-24T14:05:13.749Z"
   },
   {
    "duration": 0,
    "start_time": "2025-02-24T14:05:13.750Z"
   },
   {
    "duration": 5,
    "start_time": "2025-02-24T14:07:22.047Z"
   },
   {
    "duration": 8,
    "start_time": "2025-02-24T14:07:28.269Z"
   },
   {
    "duration": 11,
    "start_time": "2025-02-24T14:07:30.706Z"
   },
   {
    "duration": 4,
    "start_time": "2025-02-24T14:07:31.810Z"
   },
   {
    "duration": 1700,
    "start_time": "2025-02-24T14:07:34.489Z"
   },
   {
    "duration": 325,
    "start_time": "2025-02-24T14:07:38.234Z"
   },
   {
    "duration": 8,
    "start_time": "2025-02-24T14:07:52.537Z"
   },
   {
    "duration": 581,
    "start_time": "2025-02-24T14:07:55.326Z"
   },
   {
    "duration": 102,
    "start_time": "2025-02-24T14:07:58.560Z"
   },
   {
    "duration": 166,
    "start_time": "2025-02-24T14:08:11.670Z"
   },
   {
    "duration": 212,
    "start_time": "2025-02-24T14:08:13.435Z"
   },
   {
    "duration": 431,
    "start_time": "2025-02-24T14:08:18.521Z"
   },
   {
    "duration": 31,
    "start_time": "2025-03-10T21:10:24.330Z"
   },
   {
    "duration": 7,
    "start_time": "2025-03-10T21:10:55.649Z"
   },
   {
    "duration": 7,
    "start_time": "2025-03-10T21:11:11.553Z"
   },
   {
    "duration": 10,
    "start_time": "2025-03-10T21:12:17.736Z"
   },
   {
    "duration": 171,
    "start_time": "2025-03-10T21:12:26.704Z"
   },
   {
    "duration": 354,
    "start_time": "2025-03-10T22:16:55.008Z"
   },
   {
    "duration": 133,
    "start_time": "2025-03-10T22:17:19.116Z"
   },
   {
    "duration": 92,
    "start_time": "2025-03-10T22:18:04.103Z"
   },
   {
    "duration": 85,
    "start_time": "2025-03-10T22:18:05.150Z"
   },
   {
    "duration": 110,
    "start_time": "2025-03-10T22:18:25.361Z"
   },
   {
    "duration": 859,
    "start_time": "2025-03-10T22:18:57.461Z"
   },
   {
    "duration": 787,
    "start_time": "2025-03-10T22:20:45.302Z"
   },
   {
    "duration": 7,
    "start_time": "2025-03-10T22:29:51.735Z"
   },
   {
    "duration": 6,
    "start_time": "2025-03-10T22:29:52.655Z"
   },
   {
    "duration": 6,
    "start_time": "2025-03-10T22:30:02.877Z"
   },
   {
    "duration": 7,
    "start_time": "2025-03-10T22:31:03.641Z"
   },
   {
    "duration": 6,
    "start_time": "2025-03-10T22:31:20.978Z"
   },
   {
    "duration": 6,
    "start_time": "2025-03-10T22:31:41.937Z"
   },
   {
    "duration": 7,
    "start_time": "2025-03-10T22:31:48.854Z"
   },
   {
    "duration": 7,
    "start_time": "2025-03-10T22:31:54.663Z"
   },
   {
    "duration": 7,
    "start_time": "2025-03-10T22:32:01.818Z"
   },
   {
    "duration": 5,
    "start_time": "2025-03-10T22:32:15.348Z"
   },
   {
    "duration": 9,
    "start_time": "2025-03-10T22:32:35.563Z"
   },
   {
    "duration": 8,
    "start_time": "2025-03-10T22:32:36.428Z"
   },
   {
    "duration": 9,
    "start_time": "2025-03-10T22:32:41.362Z"
   },
   {
    "duration": 8,
    "start_time": "2025-03-10T22:42:52.530Z"
   },
   {
    "duration": 6,
    "start_time": "2025-03-10T22:43:10.521Z"
   },
   {
    "duration": 6,
    "start_time": "2025-03-10T22:43:20.700Z"
   },
   {
    "duration": 7,
    "start_time": "2025-03-10T22:44:00.851Z"
   },
   {
    "duration": 5,
    "start_time": "2025-03-10T22:44:17.028Z"
   },
   {
    "duration": 6,
    "start_time": "2025-03-10T22:45:53.345Z"
   },
   {
    "duration": 8,
    "start_time": "2025-03-10T22:46:32.085Z"
   },
   {
    "duration": 6,
    "start_time": "2025-03-10T22:48:49.504Z"
   },
   {
    "duration": 5,
    "start_time": "2025-03-10T22:49:36.826Z"
   },
   {
    "duration": 8,
    "start_time": "2025-03-10T22:50:25.525Z"
   },
   {
    "duration": 136,
    "start_time": "2025-03-10T22:51:04.120Z"
   },
   {
    "duration": 127,
    "start_time": "2025-03-10T22:53:10.951Z"
   },
   {
    "duration": 133,
    "start_time": "2025-03-10T22:53:35.035Z"
   },
   {
    "duration": 450,
    "start_time": "2025-03-10T22:54:46.759Z"
   },
   {
    "duration": 504,
    "start_time": "2025-03-10T22:55:35.121Z"
   },
   {
    "duration": 19,
    "start_time": "2025-03-10T22:56:38.547Z"
   },
   {
    "duration": 414,
    "start_time": "2025-03-10T22:57:17.375Z"
   },
   {
    "duration": 103,
    "start_time": "2025-03-10T22:57:20.025Z"
   },
   {
    "duration": 101,
    "start_time": "2025-03-10T22:57:20.779Z"
   },
   {
    "duration": 103,
    "start_time": "2025-03-10T22:57:32.433Z"
   },
   {
    "duration": 184,
    "start_time": "2025-03-18T21:41:18.302Z"
   },
   {
    "duration": 20,
    "start_time": "2025-03-18T21:41:19.521Z"
   },
   {
    "duration": 22,
    "start_time": "2025-03-18T21:41:27.103Z"
   },
   {
    "duration": 20,
    "start_time": "2025-03-18T21:42:19.449Z"
   },
   {
    "duration": 40,
    "start_time": "2025-03-18T21:43:25.798Z"
   },
   {
    "duration": 13,
    "start_time": "2025-03-18T21:43:58.819Z"
   },
   {
    "duration": 12,
    "start_time": "2025-03-18T21:44:10.513Z"
   },
   {
    "duration": 13,
    "start_time": "2025-03-18T21:44:18.741Z"
   },
   {
    "duration": 13,
    "start_time": "2025-03-18T21:44:24.469Z"
   },
   {
    "duration": 701,
    "start_time": "2025-03-18T21:44:29.378Z"
   },
   {
    "duration": 73,
    "start_time": "2025-03-18T21:44:31.647Z"
   },
   {
    "duration": 13,
    "start_time": "2025-03-18T21:45:00.098Z"
   },
   {
    "duration": 12,
    "start_time": "2025-03-18T21:45:00.633Z"
   },
   {
    "duration": 378,
    "start_time": "2025-03-18T21:45:13.619Z"
   },
   {
    "duration": 61,
    "start_time": "2025-03-18T21:45:15.920Z"
   },
   {
    "duration": 228,
    "start_time": "2025-03-18T21:45:34.981Z"
   },
   {
    "duration": 187,
    "start_time": "2025-03-18T21:45:38.268Z"
   },
   {
    "duration": 186,
    "start_time": "2025-03-18T21:45:38.960Z"
   },
   {
    "duration": 115,
    "start_time": "2025-03-18T21:45:48.039Z"
   },
   {
    "duration": 105,
    "start_time": "2025-03-18T21:45:53.427Z"
   },
   {
    "duration": 0,
    "start_time": "2025-03-18T21:46:04.993Z"
   },
   {
    "duration": 44,
    "start_time": "2025-03-18T21:46:05.469Z"
   },
   {
    "duration": 49,
    "start_time": "2025-03-18T21:46:06.143Z"
   },
   {
    "duration": 5,
    "start_time": "2025-03-18T21:46:29.019Z"
   },
   {
    "duration": 6,
    "start_time": "2025-03-18T21:46:29.843Z"
   },
   {
    "duration": 4,
    "start_time": "2025-03-18T21:46:43.500Z"
   },
   {
    "duration": 4,
    "start_time": "2025-03-18T21:46:44.839Z"
   },
   {
    "duration": 392,
    "start_time": "2025-03-18T21:46:49.248Z"
   },
   {
    "duration": 5,
    "start_time": "2025-03-18T21:46:49.923Z"
   },
   {
    "duration": 6,
    "start_time": "2025-03-18T21:46:51.509Z"
   },
   {
    "duration": 5,
    "start_time": "2025-03-18T21:46:55.744Z"
   },
   {
    "duration": 5,
    "start_time": "2025-03-18T21:46:56.672Z"
   },
   {
    "duration": 5,
    "start_time": "2025-03-18T21:46:58.156Z"
   },
   {
    "duration": 602,
    "start_time": "2025-03-19T18:36:44.970Z"
   },
   {
    "duration": 230,
    "start_time": "2025-03-19T18:36:45.576Z"
   },
   {
    "duration": 10,
    "start_time": "2025-03-19T18:36:45.807Z"
   },
   {
    "duration": 4,
    "start_time": "2025-03-19T18:36:45.819Z"
   },
   {
    "duration": 11,
    "start_time": "2025-03-19T18:36:45.825Z"
   },
   {
    "duration": 10,
    "start_time": "2025-03-19T18:36:45.838Z"
   },
   {
    "duration": 9,
    "start_time": "2025-03-19T18:36:45.850Z"
   },
   {
    "duration": 4,
    "start_time": "2025-03-19T18:36:45.861Z"
   },
   {
    "duration": 18,
    "start_time": "2025-03-19T18:36:45.866Z"
   },
   {
    "duration": 14,
    "start_time": "2025-03-19T18:36:45.887Z"
   },
   {
    "duration": 15,
    "start_time": "2025-03-19T18:36:45.931Z"
   },
   {
    "duration": 4,
    "start_time": "2025-03-19T18:36:45.948Z"
   },
   {
    "duration": 158,
    "start_time": "2025-03-19T18:36:45.954Z"
   },
   {
    "duration": 904,
    "start_time": "2025-03-19T18:36:46.114Z"
   },
   {
    "duration": 0,
    "start_time": "2025-03-19T18:36:47.021Z"
   },
   {
    "duration": 0,
    "start_time": "2025-03-19T18:36:47.031Z"
   },
   {
    "duration": 0,
    "start_time": "2025-03-19T18:36:47.032Z"
   },
   {
    "duration": 0,
    "start_time": "2025-03-19T18:36:47.033Z"
   },
   {
    "duration": 0,
    "start_time": "2025-03-19T18:36:47.036Z"
   },
   {
    "duration": 0,
    "start_time": "2025-03-19T18:36:47.038Z"
   },
   {
    "duration": 0,
    "start_time": "2025-03-19T18:36:47.040Z"
   },
   {
    "duration": 0,
    "start_time": "2025-03-19T18:36:47.041Z"
   },
   {
    "duration": 0,
    "start_time": "2025-03-19T18:36:47.042Z"
   },
   {
    "duration": 0,
    "start_time": "2025-03-19T18:36:47.044Z"
   },
   {
    "duration": 0,
    "start_time": "2025-03-19T18:36:47.045Z"
   },
   {
    "duration": 0,
    "start_time": "2025-03-19T18:36:47.047Z"
   },
   {
    "duration": 0,
    "start_time": "2025-03-19T18:36:47.048Z"
   },
   {
    "duration": 0,
    "start_time": "2025-03-19T18:36:47.049Z"
   },
   {
    "duration": 0,
    "start_time": "2025-03-19T18:36:47.051Z"
   },
   {
    "duration": 0,
    "start_time": "2025-03-19T18:36:47.052Z"
   },
   {
    "duration": 0,
    "start_time": "2025-03-19T18:36:47.053Z"
   },
   {
    "duration": 0,
    "start_time": "2025-03-19T18:36:47.055Z"
   },
   {
    "duration": 0,
    "start_time": "2025-03-19T18:36:47.056Z"
   },
   {
    "duration": 0,
    "start_time": "2025-03-19T18:36:47.058Z"
   },
   {
    "duration": 0,
    "start_time": "2025-03-19T18:36:47.059Z"
   },
   {
    "duration": 0,
    "start_time": "2025-03-19T18:36:47.060Z"
   },
   {
    "duration": 0,
    "start_time": "2025-03-19T18:36:47.061Z"
   },
   {
    "duration": 0,
    "start_time": "2025-03-19T18:36:47.063Z"
   },
   {
    "duration": 0,
    "start_time": "2025-03-19T18:36:47.064Z"
   },
   {
    "duration": 0,
    "start_time": "2025-03-19T18:36:47.065Z"
   },
   {
    "duration": 5,
    "start_time": "2025-03-19T18:39:44.219Z"
   },
   {
    "duration": 117,
    "start_time": "2025-03-19T18:39:44.226Z"
   },
   {
    "duration": 0,
    "start_time": "2025-03-19T18:39:44.346Z"
   },
   {
    "duration": 0,
    "start_time": "2025-03-19T18:39:44.347Z"
   },
   {
    "duration": 0,
    "start_time": "2025-03-19T18:39:44.348Z"
   },
   {
    "duration": 0,
    "start_time": "2025-03-19T18:39:44.349Z"
   },
   {
    "duration": 0,
    "start_time": "2025-03-19T18:39:44.350Z"
   },
   {
    "duration": 0,
    "start_time": "2025-03-19T18:39:44.351Z"
   },
   {
    "duration": 0,
    "start_time": "2025-03-19T18:39:44.352Z"
   },
   {
    "duration": 0,
    "start_time": "2025-03-19T18:39:44.353Z"
   },
   {
    "duration": 0,
    "start_time": "2025-03-19T18:39:44.353Z"
   },
   {
    "duration": 0,
    "start_time": "2025-03-19T18:39:44.355Z"
   },
   {
    "duration": 0,
    "start_time": "2025-03-19T18:39:44.356Z"
   },
   {
    "duration": 0,
    "start_time": "2025-03-19T18:39:44.357Z"
   },
   {
    "duration": 0,
    "start_time": "2025-03-19T18:39:44.358Z"
   },
   {
    "duration": 0,
    "start_time": "2025-03-19T18:39:44.359Z"
   },
   {
    "duration": 0,
    "start_time": "2025-03-19T18:39:44.360Z"
   },
   {
    "duration": 0,
    "start_time": "2025-03-19T18:39:44.361Z"
   },
   {
    "duration": 0,
    "start_time": "2025-03-19T18:39:44.362Z"
   },
   {
    "duration": 0,
    "start_time": "2025-03-19T18:39:44.362Z"
   },
   {
    "duration": 0,
    "start_time": "2025-03-19T18:39:44.363Z"
   },
   {
    "duration": 0,
    "start_time": "2025-03-19T18:39:44.364Z"
   },
   {
    "duration": 0,
    "start_time": "2025-03-19T18:39:44.365Z"
   },
   {
    "duration": 0,
    "start_time": "2025-03-19T18:39:44.366Z"
   },
   {
    "duration": 0,
    "start_time": "2025-03-19T18:39:44.368Z"
   },
   {
    "duration": 0,
    "start_time": "2025-03-19T18:39:44.369Z"
   },
   {
    "duration": 105,
    "start_time": "2025-03-19T18:40:05.730Z"
   },
   {
    "duration": 449,
    "start_time": "2025-03-19T18:41:54.923Z"
   },
   {
    "duration": 11,
    "start_time": "2025-03-19T18:42:46.832Z"
   },
   {
    "duration": 4,
    "start_time": "2025-03-19T18:42:47.547Z"
   },
   {
    "duration": 1744,
    "start_time": "2025-03-19T18:42:50.104Z"
   },
   {
    "duration": 355,
    "start_time": "2025-03-19T18:43:01.063Z"
   },
   {
    "duration": 7,
    "start_time": "2025-03-19T18:43:08.407Z"
   },
   {
    "duration": 295,
    "start_time": "2025-03-19T18:43:10.506Z"
   },
   {
    "duration": 108,
    "start_time": "2025-03-19T18:43:13.249Z"
   },
   {
    "duration": 78,
    "start_time": "2025-03-19T18:43:15.947Z"
   },
   {
    "duration": 43,
    "start_time": "2025-03-19T18:43:18.870Z"
   },
   {
    "duration": 433,
    "start_time": "2025-03-19T18:43:20.426Z"
   },
   {
    "duration": 159,
    "start_time": "2025-03-19T18:43:24.469Z"
   },
   {
    "duration": 332,
    "start_time": "2025-03-19T18:43:26.268Z"
   },
   {
    "duration": 319,
    "start_time": "2025-03-19T18:43:30.748Z"
   },
   {
    "duration": 198,
    "start_time": "2025-03-19T18:43:33.044Z"
   },
   {
    "duration": 610,
    "start_time": "2025-03-19T18:43:35.773Z"
   },
   {
    "duration": 821,
    "start_time": "2025-03-19T18:43:38.327Z"
   },
   {
    "duration": 106,
    "start_time": "2025-03-19T18:43:40.008Z"
   },
   {
    "duration": 108,
    "start_time": "2025-03-19T18:43:41.714Z"
   },
   {
    "duration": 5,
    "start_time": "2025-03-19T18:44:01.719Z"
   },
   {
    "duration": 5,
    "start_time": "2025-03-19T18:44:59.108Z"
   },
   {
    "duration": 5,
    "start_time": "2025-03-19T18:45:00.620Z"
   },
   {
    "duration": 14,
    "start_time": "2025-04-22T04:05:14.674Z"
   },
   {
    "duration": 4,
    "start_time": "2025-04-22T04:05:18.082Z"
   },
   {
    "duration": 262,
    "start_time": "2025-04-22T04:06:32.150Z"
   },
   {
    "duration": 162,
    "start_time": "2025-04-22T23:52:02.742Z"
   },
   {
    "duration": 14,
    "start_time": "2025-04-22T23:53:01.720Z"
   },
   {
    "duration": 540,
    "start_time": "2025-04-23T00:43:35.018Z"
   },
   {
    "duration": 149,
    "start_time": "2025-04-23T00:44:07.183Z"
   },
   {
    "duration": 118,
    "start_time": "2025-04-23T00:45:33.175Z"
   },
   {
    "duration": 105,
    "start_time": "2025-04-23T00:46:39.593Z"
   },
   {
    "duration": 112,
    "start_time": "2025-04-23T00:47:07.792Z"
   },
   {
    "duration": 116,
    "start_time": "2025-04-23T00:49:01.961Z"
   },
   {
    "duration": 110,
    "start_time": "2025-04-23T00:49:30.965Z"
   },
   {
    "duration": 561,
    "start_time": "2025-04-23T00:54:32.937Z"
   },
   {
    "duration": 504,
    "start_time": "2025-04-23T00:56:13.408Z"
   },
   {
    "duration": 522,
    "start_time": "2025-04-23T00:56:54.833Z"
   },
   {
    "duration": 491,
    "start_time": "2025-04-23T00:59:23.757Z"
   },
   {
    "duration": 17,
    "start_time": "2025-04-23T02:06:24.988Z"
   },
   {
    "duration": 14,
    "start_time": "2025-04-23T02:06:26.681Z"
   },
   {
    "duration": 15,
    "start_time": "2025-04-23T02:08:29.051Z"
   },
   {
    "duration": 12,
    "start_time": "2025-04-23T02:08:30.872Z"
   },
   {
    "duration": 13,
    "start_time": "2025-04-23T02:08:31.458Z"
   },
   {
    "duration": 9,
    "start_time": "2025-04-23T02:08:41.030Z"
   },
   {
    "duration": 5,
    "start_time": "2025-04-23T02:08:58.069Z"
   },
   {
    "duration": 4,
    "start_time": "2025-04-23T02:08:58.666Z"
   },
   {
    "duration": 4,
    "start_time": "2025-04-23T02:09:00.576Z"
   },
   {
    "duration": 4,
    "start_time": "2025-04-23T02:09:01.148Z"
   },
   {
    "duration": 4,
    "start_time": "2025-04-23T02:09:22.167Z"
   },
   {
    "duration": 5,
    "start_time": "2025-04-23T02:09:22.789Z"
   },
   {
    "duration": 436,
    "start_time": "2025-04-23T02:09:36.071Z"
   },
   {
    "duration": 102,
    "start_time": "2025-04-23T02:09:37.790Z"
   },
   {
    "duration": 104,
    "start_time": "2025-04-23T02:09:38.643Z"
   },
   {
    "duration": 101,
    "start_time": "2025-04-23T02:09:39.413Z"
   },
   {
    "duration": 104,
    "start_time": "2025-04-23T02:09:40.935Z"
   },
   {
    "duration": 158,
    "start_time": "2025-04-23T20:04:39.895Z"
   },
   {
    "duration": 13,
    "start_time": "2025-04-23T20:05:12.622Z"
   },
   {
    "duration": 12,
    "start_time": "2025-04-23T20:05:14.042Z"
   },
   {
    "duration": 11,
    "start_time": "2025-04-23T20:05:14.597Z"
   },
   {
    "duration": 12,
    "start_time": "2025-04-23T20:05:15.083Z"
   },
   {
    "duration": 12,
    "start_time": "2025-04-23T20:08:21.435Z"
   },
   {
    "duration": 12,
    "start_time": "2025-04-23T20:08:22.101Z"
   },
   {
    "duration": 33,
    "start_time": "2025-04-23T20:08:22.730Z"
   },
   {
    "duration": 10,
    "start_time": "2025-04-23T20:09:16.029Z"
   },
   {
    "duration": 11,
    "start_time": "2025-04-23T20:09:16.923Z"
   },
   {
    "duration": 11,
    "start_time": "2025-04-23T20:09:17.081Z"
   },
   {
    "duration": 12,
    "start_time": "2025-04-23T20:09:38.443Z"
   },
   {
    "duration": 601,
    "start_time": "2025-04-23T20:10:10.680Z"
   },
   {
    "duration": 236,
    "start_time": "2025-04-23T20:10:17.677Z"
   },
   {
    "duration": 9,
    "start_time": "2025-04-23T20:10:42.133Z"
   },
   {
    "duration": 6,
    "start_time": "2025-04-23T20:10:47.462Z"
   },
   {
    "duration": 12,
    "start_time": "2025-04-23T20:10:53.853Z"
   },
   {
    "duration": 12,
    "start_time": "2025-04-23T20:11:00.670Z"
   },
   {
    "duration": 8,
    "start_time": "2025-04-23T20:11:07.589Z"
   },
   {
    "duration": 4,
    "start_time": "2025-04-23T20:11:13.909Z"
   },
   {
    "duration": 17,
    "start_time": "2025-04-23T20:11:20.346Z"
   },
   {
    "duration": 18,
    "start_time": "2025-04-23T20:11:26.960Z"
   },
   {
    "duration": 11,
    "start_time": "2025-04-23T20:11:34.071Z"
   },
   {
    "duration": 4,
    "start_time": "2025-04-23T20:11:38.452Z"
   },
   {
    "duration": 136,
    "start_time": "2025-04-23T20:11:45.181Z"
   },
   {
    "duration": 831,
    "start_time": "2025-04-23T20:11:52.618Z"
   },
   {
    "duration": 12,
    "start_time": "2025-04-23T20:12:24.302Z"
   },
   {
    "duration": 5,
    "start_time": "2025-04-23T20:12:33.135Z"
   },
   {
    "duration": 116,
    "start_time": "2025-04-23T20:12:40.092Z"
   },
   {
    "duration": 549,
    "start_time": "2025-04-23T20:12:57.679Z"
   },
   {
    "duration": 11,
    "start_time": "2025-04-23T20:13:15.883Z"
   },
   {
    "duration": 4,
    "start_time": "2025-04-23T20:13:20.770Z"
   },
   {
    "duration": 1811,
    "start_time": "2025-04-23T20:13:26.435Z"
   },
   {
    "duration": 299,
    "start_time": "2025-04-23T20:13:40.088Z"
   },
   {
    "duration": 8,
    "start_time": "2025-04-23T20:13:49.225Z"
   },
   {
    "duration": 8,
    "start_time": "2025-04-23T20:13:57.738Z"
   },
   {
    "duration": 3,
    "start_time": "2025-04-23T20:13:57.894Z"
   },
   {
    "duration": 561,
    "start_time": "2025-04-23T20:15:06.129Z"
   },
   {
    "duration": 77,
    "start_time": "2025-04-23T20:15:18.641Z"
   },
   {
    "duration": 42,
    "start_time": "2025-04-23T20:15:26.336Z"
   },
   {
    "duration": 314,
    "start_time": "2025-04-23T20:15:32.881Z"
   },
   {
    "duration": 162,
    "start_time": "2025-04-23T20:15:47.368Z"
   },
   {
    "duration": 299,
    "start_time": "2025-04-23T20:16:02.661Z"
   },
   {
    "duration": 2008,
    "start_time": "2025-04-23T20:16:20.272Z"
   },
   {
    "duration": 15,
    "start_time": "2025-04-23T20:16:37.711Z"
   },
   {
    "duration": 472,
    "start_time": "2025-04-23T20:16:45.117Z"
   },
   {
    "duration": 978,
    "start_time": "2025-04-23T20:17:47.957Z"
   },
   {
    "duration": 109,
    "start_time": "2025-04-23T20:18:02.382Z"
   },
   {
    "duration": 111,
    "start_time": "2025-04-23T20:18:15.150Z"
   },
   {
    "duration": 47,
    "start_time": "2025-04-23T20:18:47.119Z"
   },
   {
    "duration": 52,
    "start_time": "2025-04-23T20:18:58.118Z"
   },
   {
    "duration": 48,
    "start_time": "2025-04-23T20:20:31.981Z"
   },
   {
    "duration": 49,
    "start_time": "2025-04-23T20:21:14.963Z"
   },
   {
    "duration": 5,
    "start_time": "2025-04-23T20:22:11.565Z"
   },
   {
    "duration": 6,
    "start_time": "2025-04-23T20:22:28.385Z"
   },
   {
    "duration": 4,
    "start_time": "2025-04-23T20:22:39.425Z"
   },
   {
    "duration": 6,
    "start_time": "2025-04-23T20:22:47.861Z"
   },
   {
    "duration": 3,
    "start_time": "2025-04-23T20:40:40.303Z"
   },
   {
    "duration": 4,
    "start_time": "2025-04-23T20:40:49.624Z"
   },
   {
    "duration": 4,
    "start_time": "2025-04-23T20:40:54.001Z"
   },
   {
    "duration": 3,
    "start_time": "2025-04-23T20:40:55.196Z"
   },
   {
    "duration": 4,
    "start_time": "2025-04-23T20:40:58.636Z"
   },
   {
    "duration": 16,
    "start_time": "2025-04-23T20:44:50.305Z"
   },
   {
    "duration": 11,
    "start_time": "2025-04-23T20:45:31.068Z"
   },
   {
    "duration": 9,
    "start_time": "2025-04-23T20:53:23.931Z"
   },
   {
    "duration": 3,
    "start_time": "2025-04-23T20:57:55.392Z"
   },
   {
    "duration": 23,
    "start_time": "2025-04-23T20:58:00.766Z"
   },
   {
    "duration": 13,
    "start_time": "2025-04-23T21:29:59.284Z"
   },
   {
    "duration": 9,
    "start_time": "2025-04-23T21:40:54.096Z"
   },
   {
    "duration": 10,
    "start_time": "2025-04-23T21:43:32.034Z"
   },
   {
    "duration": 10,
    "start_time": "2025-04-23T21:45:20.235Z"
   },
   {
    "duration": 230,
    "start_time": "2025-04-23T21:45:48.824Z"
   },
   {
    "duration": 25,
    "start_time": "2025-04-23T21:45:50.074Z"
   },
   {
    "duration": 9,
    "start_time": "2025-04-23T21:45:57.786Z"
   },
   {
    "duration": 25,
    "start_time": "2025-04-23T21:46:05.756Z"
   },
   {
    "duration": 136,
    "start_time": "2025-04-23T21:46:06.614Z"
   },
   {
    "duration": 25,
    "start_time": "2025-04-23T21:46:07.760Z"
   },
   {
    "duration": 26,
    "start_time": "2025-04-23T21:46:56.351Z"
   },
   {
    "duration": 26,
    "start_time": "2025-04-23T21:46:57.008Z"
   },
   {
    "duration": 26,
    "start_time": "2025-04-23T21:46:57.593Z"
   },
   {
    "duration": 8,
    "start_time": "2025-04-23T21:53:37.696Z"
   },
   {
    "duration": 12,
    "start_time": "2025-04-23T21:55:22.693Z"
   },
   {
    "duration": 15,
    "start_time": "2025-04-23T21:57:17.832Z"
   },
   {
    "duration": 22,
    "start_time": "2025-04-23T21:58:55.190Z"
   },
   {
    "duration": 22,
    "start_time": "2025-04-23T22:01:15.365Z"
   },
   {
    "duration": 9,
    "start_time": "2025-04-23T22:04:20.520Z"
   },
   {
    "duration": 9,
    "start_time": "2025-04-23T22:06:21.076Z"
   },
   {
    "duration": 14,
    "start_time": "2025-04-23T22:07:12.318Z"
   },
   {
    "duration": 21,
    "start_time": "2025-04-23T22:08:28.192Z"
   },
   {
    "duration": 21,
    "start_time": "2025-04-23T22:08:56.270Z"
   },
   {
    "duration": 20,
    "start_time": "2025-04-23T22:09:15.114Z"
   },
   {
    "duration": 15,
    "start_time": "2025-04-23T22:09:37.443Z"
   },
   {
    "duration": 14,
    "start_time": "2025-04-23T22:14:03.962Z"
   },
   {
    "duration": 15,
    "start_time": "2025-04-23T22:14:05.090Z"
   },
   {
    "duration": 14,
    "start_time": "2025-04-23T22:14:16.223Z"
   },
   {
    "duration": 15,
    "start_time": "2025-04-23T22:14:18.251Z"
   },
   {
    "duration": 15,
    "start_time": "2025-04-23T22:14:19.401Z"
   },
   {
    "duration": 14,
    "start_time": "2025-04-23T22:14:20.038Z"
   },
   {
    "duration": 15,
    "start_time": "2025-04-23T22:15:14.547Z"
   },
   {
    "duration": 13,
    "start_time": "2025-04-23T22:15:50.740Z"
   },
   {
    "duration": 15,
    "start_time": "2025-04-23T22:16:46.150Z"
   },
   {
    "duration": 14,
    "start_time": "2025-04-23T22:16:47.888Z"
   },
   {
    "duration": 14,
    "start_time": "2025-04-23T22:16:48.755Z"
   },
   {
    "duration": 15,
    "start_time": "2025-04-23T22:18:08.601Z"
   },
   {
    "duration": 221,
    "start_time": "2025-04-23T22:19:03.792Z"
   },
   {
    "duration": 3,
    "start_time": "2025-04-23T22:19:05.981Z"
   },
   {
    "duration": 3,
    "start_time": "2025-04-23T22:19:07.160Z"
   },
   {
    "duration": 201,
    "start_time": "2025-04-23T22:19:08.367Z"
   },
   {
    "duration": 9,
    "start_time": "2025-04-23T22:19:21.094Z"
   },
   {
    "duration": 11,
    "start_time": "2025-04-23T22:19:25.527Z"
   },
   {
    "duration": 48,
    "start_time": "2025-04-23T22:19:30.513Z"
   },
   {
    "duration": 142,
    "start_time": "2025-04-23T22:19:53.878Z"
   },
   {
    "duration": 8,
    "start_time": "2025-04-23T22:20:24.165Z"
   },
   {
    "duration": 12,
    "start_time": "2025-04-23T22:20:28.491Z"
   },
   {
    "duration": 46,
    "start_time": "2025-04-23T22:20:35.933Z"
   },
   {
    "duration": 50,
    "start_time": "2025-04-23T22:20:51.602Z"
   },
   {
    "duration": 18,
    "start_time": "2025-04-23T22:21:04.260Z"
   },
   {
    "duration": 15,
    "start_time": "2025-04-23T22:21:05.282Z"
   },
   {
    "duration": 14,
    "start_time": "2025-04-23T22:21:11.589Z"
   },
   {
    "duration": 130,
    "start_time": "2025-04-23T22:21:24.117Z"
   },
   {
    "duration": 629,
    "start_time": "2025-04-23T22:21:31.369Z"
   },
   {
    "duration": 13,
    "start_time": "2025-04-23T22:22:10.909Z"
   },
   {
    "duration": 9,
    "start_time": "2025-04-23T22:22:20.520Z"
   },
   {
    "duration": 19,
    "start_time": "2025-04-23T22:22:26.801Z"
   },
   {
    "duration": 14,
    "start_time": "2025-04-23T22:22:32.875Z"
   },
   {
    "duration": 12,
    "start_time": "2025-04-23T22:22:41.358Z"
   },
   {
    "duration": 4,
    "start_time": "2025-04-23T22:22:46.279Z"
   },
   {
    "duration": 1739,
    "start_time": "2025-04-23T22:22:57.059Z"
   },
   {
    "duration": 1671,
    "start_time": "2025-04-23T22:23:23.918Z"
   },
   {
    "duration": 371,
    "start_time": "2025-04-23T22:23:39.238Z"
   },
   {
    "duration": 5,
    "start_time": "2025-04-30T04:15:36.479Z"
   },
   {
    "duration": 702,
    "start_time": "2025-04-30T04:15:54.774Z"
   },
   {
    "duration": 26,
    "start_time": "2025-04-30T04:17:05.761Z"
   },
   {
    "duration": 21,
    "start_time": "2025-04-30T04:17:14.637Z"
   },
   {
    "duration": 18,
    "start_time": "2025-04-30T04:17:22.357Z"
   },
   {
    "duration": 20,
    "start_time": "2025-04-30T04:17:43.540Z"
   },
   {
    "duration": 19,
    "start_time": "2025-04-30T04:17:58.429Z"
   },
   {
    "duration": 14,
    "start_time": "2025-04-30T04:18:03.773Z"
   },
   {
    "duration": 16,
    "start_time": "2025-04-30T04:18:09.874Z"
   },
   {
    "duration": 23,
    "start_time": "2025-04-30T04:18:16.264Z"
   },
   {
    "duration": 17,
    "start_time": "2025-04-30T04:18:27.459Z"
   },
   {
    "duration": 15,
    "start_time": "2025-04-30T04:18:38.463Z"
   },
   {
    "duration": 16,
    "start_time": "2025-04-30T04:21:58.501Z"
   },
   {
    "duration": 20,
    "start_time": "2025-04-30T04:22:31.056Z"
   },
   {
    "duration": 13,
    "start_time": "2025-04-30T04:22:35.378Z"
   },
   {
    "duration": 19,
    "start_time": "2025-04-30T04:22:40.213Z"
   },
   {
    "duration": 14,
    "start_time": "2025-04-30T04:22:43.907Z"
   },
   {
    "duration": 24,
    "start_time": "2025-04-30T04:22:49.649Z"
   },
   {
    "duration": 15,
    "start_time": "2025-04-30T04:22:55.671Z"
   },
   {
    "duration": 17,
    "start_time": "2025-04-30T04:23:00.065Z"
   },
   {
    "duration": 14,
    "start_time": "2025-04-30T04:23:05.004Z"
   },
   {
    "duration": 15,
    "start_time": "2025-04-30T04:23:11.092Z"
   },
   {
    "duration": 15,
    "start_time": "2025-04-30T04:23:15.389Z"
   },
   {
    "duration": 14,
    "start_time": "2025-04-30T04:23:20.893Z"
   },
   {
    "duration": 21,
    "start_time": "2025-04-30T04:23:25.937Z"
   },
   {
    "duration": 15,
    "start_time": "2025-04-30T04:23:30.444Z"
   },
   {
    "duration": 17,
    "start_time": "2025-04-30T04:23:36.164Z"
   },
   {
    "duration": 13,
    "start_time": "2025-04-30T04:23:41.310Z"
   },
   {
    "duration": 21,
    "start_time": "2025-04-30T04:23:45.433Z"
   },
   {
    "duration": 22,
    "start_time": "2025-04-30T04:23:50.638Z"
   },
   {
    "duration": 23,
    "start_time": "2025-04-30T04:23:57.128Z"
   },
   {
    "duration": 19,
    "start_time": "2025-04-30T04:24:02.240Z"
   },
   {
    "duration": 22,
    "start_time": "2025-04-30T04:24:09.547Z"
   },
   {
    "duration": 28,
    "start_time": "2025-04-30T04:24:14.634Z"
   },
   {
    "duration": 13,
    "start_time": "2025-04-30T04:24:21.975Z"
   },
   {
    "duration": 15,
    "start_time": "2025-04-30T04:24:28.213Z"
   },
   {
    "duration": 26,
    "start_time": "2025-04-30T04:24:32.110Z"
   },
   {
    "duration": 14,
    "start_time": "2025-04-30T04:24:36.987Z"
   },
   {
    "duration": 11,
    "start_time": "2025-04-30T04:24:41.649Z"
   },
   {
    "duration": 23,
    "start_time": "2025-04-30T04:24:51.047Z"
   },
   {
    "duration": 21,
    "start_time": "2025-04-30T04:24:56.719Z"
   },
   {
    "duration": 13,
    "start_time": "2025-04-30T04:25:00.580Z"
   },
   {
    "duration": 4,
    "start_time": "2025-04-30T04:25:04.515Z"
   },
   {
    "duration": 18,
    "start_time": "2025-04-30T04:25:40.267Z"
   },
   {
    "duration": 15,
    "start_time": "2025-04-30T04:25:49.071Z"
   },
   {
    "duration": 4,
    "start_time": "2025-04-30T04:25:54.781Z"
   },
   {
    "duration": 19,
    "start_time": "2025-04-30T04:26:21.211Z"
   },
   {
    "duration": 19,
    "start_time": "2025-04-30T04:26:27.461Z"
   },
   {
    "duration": 18,
    "start_time": "2025-04-30T04:26:31.773Z"
   },
   {
    "duration": 7,
    "start_time": "2025-04-30T04:26:35.169Z"
   },
   {
    "duration": 23,
    "start_time": "2025-04-30T04:26:49.325Z"
   },
   {
    "duration": 21,
    "start_time": "2025-04-30T04:26:55.430Z"
   },
   {
    "duration": 21,
    "start_time": "2025-04-30T04:26:59.957Z"
   },
   {
    "duration": 30,
    "start_time": "2025-04-30T04:27:03.817Z"
   },
   {
    "duration": 21,
    "start_time": "2025-04-30T04:27:07.213Z"
   },
   {
    "duration": 17,
    "start_time": "2025-04-30T04:27:10.885Z"
   },
   {
    "duration": 16,
    "start_time": "2025-04-30T04:27:14.478Z"
   },
   {
    "duration": 20,
    "start_time": "2025-04-30T04:27:18.890Z"
   },
   {
    "duration": 16,
    "start_time": "2025-04-30T04:27:23.288Z"
   },
   {
    "duration": 17,
    "start_time": "2025-04-30T04:27:27.864Z"
   },
   {
    "duration": 20,
    "start_time": "2025-04-30T04:27:29.820Z"
   },
   {
    "duration": 15,
    "start_time": "2025-04-30T04:27:33.992Z"
   },
   {
    "duration": 832,
    "start_time": "2025-04-30T16:18:55.927Z"
   },
   {
    "duration": 224,
    "start_time": "2025-04-30T16:18:56.762Z"
   },
   {
    "duration": 99,
    "start_time": "2025-04-30T16:18:56.988Z"
   },
   {
    "duration": 39,
    "start_time": "2025-04-30T16:18:57.090Z"
   },
   {
    "duration": 30,
    "start_time": "2025-04-30T16:18:57.131Z"
   },
   {
    "duration": 8,
    "start_time": "2025-04-30T16:18:57.163Z"
   },
   {
    "duration": 8,
    "start_time": "2025-04-30T16:18:57.173Z"
   },
   {
    "duration": 38,
    "start_time": "2025-04-30T16:18:57.183Z"
   },
   {
    "duration": 9,
    "start_time": "2025-04-30T16:18:57.222Z"
   },
   {
    "duration": 8,
    "start_time": "2025-04-30T16:18:57.234Z"
   },
   {
    "duration": 10,
    "start_time": "2025-04-30T16:18:57.244Z"
   },
   {
    "duration": 683,
    "start_time": "2025-04-30T16:18:57.256Z"
   },
   {
    "duration": 0,
    "start_time": "2025-04-30T16:18:57.943Z"
   },
   {
    "duration": 0,
    "start_time": "2025-04-30T16:18:57.944Z"
   },
   {
    "duration": 0,
    "start_time": "2025-04-30T16:18:57.945Z"
   },
   {
    "duration": 0,
    "start_time": "2025-04-30T16:18:57.946Z"
   },
   {
    "duration": 0,
    "start_time": "2025-04-30T16:18:57.947Z"
   },
   {
    "duration": 0,
    "start_time": "2025-04-30T16:18:57.948Z"
   },
   {
    "duration": 0,
    "start_time": "2025-04-30T16:18:57.949Z"
   },
   {
    "duration": 0,
    "start_time": "2025-04-30T16:18:57.951Z"
   },
   {
    "duration": 0,
    "start_time": "2025-04-30T16:18:57.952Z"
   },
   {
    "duration": 0,
    "start_time": "2025-04-30T16:18:57.953Z"
   },
   {
    "duration": 0,
    "start_time": "2025-04-30T16:18:57.954Z"
   },
   {
    "duration": 0,
    "start_time": "2025-04-30T16:18:57.955Z"
   },
   {
    "duration": 0,
    "start_time": "2025-04-30T16:18:57.957Z"
   },
   {
    "duration": 0,
    "start_time": "2025-04-30T16:18:57.958Z"
   },
   {
    "duration": 0,
    "start_time": "2025-04-30T16:18:57.960Z"
   },
   {
    "duration": 0,
    "start_time": "2025-04-30T16:18:57.962Z"
   },
   {
    "duration": 0,
    "start_time": "2025-04-30T16:18:57.964Z"
   },
   {
    "duration": 0,
    "start_time": "2025-04-30T16:18:57.965Z"
   },
   {
    "duration": 0,
    "start_time": "2025-04-30T16:18:57.967Z"
   },
   {
    "duration": 0,
    "start_time": "2025-04-30T16:18:57.968Z"
   },
   {
    "duration": 0,
    "start_time": "2025-04-30T16:18:57.969Z"
   },
   {
    "duration": 0,
    "start_time": "2025-04-30T16:18:57.971Z"
   },
   {
    "duration": 0,
    "start_time": "2025-04-30T16:18:58.020Z"
   },
   {
    "duration": 0,
    "start_time": "2025-04-30T16:18:58.021Z"
   },
   {
    "duration": 0,
    "start_time": "2025-04-30T16:18:58.023Z"
   },
   {
    "duration": 0,
    "start_time": "2025-04-30T16:18:58.024Z"
   },
   {
    "duration": 0,
    "start_time": "2025-04-30T16:18:58.025Z"
   },
   {
    "duration": 0,
    "start_time": "2025-04-30T16:18:58.026Z"
   },
   {
    "duration": 1,
    "start_time": "2025-04-30T16:18:58.027Z"
   },
   {
    "duration": 0,
    "start_time": "2025-04-30T16:18:58.028Z"
   },
   {
    "duration": 0,
    "start_time": "2025-04-30T16:18:58.029Z"
   },
   {
    "duration": 0,
    "start_time": "2025-04-30T16:18:58.030Z"
   },
   {
    "duration": 0,
    "start_time": "2025-04-30T16:18:58.031Z"
   },
   {
    "duration": 0,
    "start_time": "2025-04-30T16:18:58.032Z"
   },
   {
    "duration": 0,
    "start_time": "2025-04-30T16:18:58.033Z"
   },
   {
    "duration": 0,
    "start_time": "2025-04-30T16:18:58.035Z"
   },
   {
    "duration": 0,
    "start_time": "2025-04-30T16:18:58.037Z"
   },
   {
    "duration": 0,
    "start_time": "2025-04-30T16:18:58.038Z"
   },
   {
    "duration": 0,
    "start_time": "2025-04-30T16:18:58.039Z"
   },
   {
    "duration": 1,
    "start_time": "2025-04-30T16:18:58.040Z"
   },
   {
    "duration": 0,
    "start_time": "2025-04-30T16:18:58.042Z"
   },
   {
    "duration": 0,
    "start_time": "2025-04-30T16:18:58.043Z"
   },
   {
    "duration": 0,
    "start_time": "2025-04-30T16:18:58.044Z"
   },
   {
    "duration": 0,
    "start_time": "2025-04-30T16:18:58.045Z"
   },
   {
    "duration": 0,
    "start_time": "2025-04-30T16:18:58.047Z"
   },
   {
    "duration": 0,
    "start_time": "2025-04-30T16:18:58.048Z"
   },
   {
    "duration": 15,
    "start_time": "2025-04-30T16:19:15.197Z"
   },
   {
    "duration": 13,
    "start_time": "2025-04-30T16:19:20.775Z"
   },
   {
    "duration": 10,
    "start_time": "2025-04-30T16:19:20.790Z"
   },
   {
    "duration": 32,
    "start_time": "2025-04-30T16:19:20.802Z"
   },
   {
    "duration": 19,
    "start_time": "2025-04-30T16:19:20.837Z"
   },
   {
    "duration": 10,
    "start_time": "2025-04-30T16:19:20.858Z"
   },
   {
    "duration": 8,
    "start_time": "2025-04-30T16:19:20.870Z"
   },
   {
    "duration": 41,
    "start_time": "2025-04-30T16:19:20.880Z"
   },
   {
    "duration": 14,
    "start_time": "2025-04-30T16:19:20.923Z"
   },
   {
    "duration": 13,
    "start_time": "2025-04-30T16:19:20.939Z"
   },
   {
    "duration": 0,
    "start_time": "2025-04-30T16:19:20.955Z"
   },
   {
    "duration": 0,
    "start_time": "2025-04-30T16:19:20.957Z"
   },
   {
    "duration": 0,
    "start_time": "2025-04-30T16:19:20.958Z"
   },
   {
    "duration": 0,
    "start_time": "2025-04-30T16:19:20.960Z"
   },
   {
    "duration": 0,
    "start_time": "2025-04-30T16:19:20.961Z"
   },
   {
    "duration": 0,
    "start_time": "2025-04-30T16:19:20.963Z"
   },
   {
    "duration": 0,
    "start_time": "2025-04-30T16:19:20.964Z"
   },
   {
    "duration": 0,
    "start_time": "2025-04-30T16:19:20.966Z"
   },
   {
    "duration": 0,
    "start_time": "2025-04-30T16:19:20.967Z"
   },
   {
    "duration": 0,
    "start_time": "2025-04-30T16:19:20.969Z"
   },
   {
    "duration": 0,
    "start_time": "2025-04-30T16:19:20.970Z"
   },
   {
    "duration": 0,
    "start_time": "2025-04-30T16:19:20.972Z"
   },
   {
    "duration": 0,
    "start_time": "2025-04-30T16:19:20.974Z"
   },
   {
    "duration": 0,
    "start_time": "2025-04-30T16:19:20.976Z"
   },
   {
    "duration": 0,
    "start_time": "2025-04-30T16:19:21.020Z"
   },
   {
    "duration": 0,
    "start_time": "2025-04-30T16:19:21.022Z"
   },
   {
    "duration": 0,
    "start_time": "2025-04-30T16:19:21.023Z"
   },
   {
    "duration": 0,
    "start_time": "2025-04-30T16:19:21.024Z"
   },
   {
    "duration": 0,
    "start_time": "2025-04-30T16:19:21.026Z"
   },
   {
    "duration": 0,
    "start_time": "2025-04-30T16:19:21.027Z"
   },
   {
    "duration": 0,
    "start_time": "2025-04-30T16:19:21.028Z"
   },
   {
    "duration": 0,
    "start_time": "2025-04-30T16:19:21.029Z"
   },
   {
    "duration": 0,
    "start_time": "2025-04-30T16:19:21.030Z"
   },
   {
    "duration": 0,
    "start_time": "2025-04-30T16:19:21.031Z"
   },
   {
    "duration": 0,
    "start_time": "2025-04-30T16:19:21.032Z"
   },
   {
    "duration": 0,
    "start_time": "2025-04-30T16:19:21.033Z"
   },
   {
    "duration": 0,
    "start_time": "2025-04-30T16:19:21.034Z"
   },
   {
    "duration": 0,
    "start_time": "2025-04-30T16:19:21.035Z"
   },
   {
    "duration": 0,
    "start_time": "2025-04-30T16:19:21.036Z"
   },
   {
    "duration": 0,
    "start_time": "2025-04-30T16:19:21.037Z"
   },
   {
    "duration": 0,
    "start_time": "2025-04-30T16:19:21.038Z"
   },
   {
    "duration": 0,
    "start_time": "2025-04-30T16:19:21.039Z"
   },
   {
    "duration": 0,
    "start_time": "2025-04-30T16:19:21.040Z"
   },
   {
    "duration": 0,
    "start_time": "2025-04-30T16:19:21.041Z"
   },
   {
    "duration": 0,
    "start_time": "2025-04-30T16:19:21.043Z"
   },
   {
    "duration": 0,
    "start_time": "2025-04-30T16:19:21.044Z"
   },
   {
    "duration": 1,
    "start_time": "2025-04-30T16:19:21.045Z"
   },
   {
    "duration": 12,
    "start_time": "2025-04-30T16:19:51.717Z"
   },
   {
    "duration": 11,
    "start_time": "2025-04-30T16:19:53.764Z"
   },
   {
    "duration": 5,
    "start_time": "2025-04-30T16:19:57.757Z"
   },
   {
    "duration": 15,
    "start_time": "2025-04-30T16:19:59.691Z"
   },
   {
    "duration": 7,
    "start_time": "2025-04-30T16:20:01.874Z"
   },
   {
    "duration": 19,
    "start_time": "2025-04-30T16:20:03.079Z"
   },
   {
    "duration": 19,
    "start_time": "2025-04-30T16:20:04.441Z"
   },
   {
    "duration": 18,
    "start_time": "2025-04-30T16:20:05.385Z"
   },
   {
    "duration": 13,
    "start_time": "2025-04-30T16:20:19.089Z"
   },
   {
    "duration": 16,
    "start_time": "2025-04-30T16:20:20.997Z"
   },
   {
    "duration": 20,
    "start_time": "2025-04-30T16:20:24.305Z"
   },
   {
    "duration": 12,
    "start_time": "2025-04-30T16:20:26.479Z"
   },
   {
    "duration": 11,
    "start_time": "2025-04-30T16:20:36.063Z"
   },
   {
    "duration": 26,
    "start_time": "2025-04-30T16:20:37.978Z"
   },
   {
    "duration": 21,
    "start_time": "2025-04-30T16:20:56.232Z"
   },
   {
    "duration": 7,
    "start_time": "2025-04-30T16:21:07.400Z"
   },
   {
    "duration": 25,
    "start_time": "2025-04-30T16:21:13.657Z"
   },
   {
    "duration": 35,
    "start_time": "2025-04-30T16:22:27.860Z"
   },
   {
    "duration": 46,
    "start_time": "2025-04-30T16:22:34.611Z"
   },
   {
    "duration": 4,
    "start_time": "2025-04-30T16:22:55.914Z"
   },
   {
    "duration": 50,
    "start_time": "2025-04-30T16:23:06.665Z"
   },
   {
    "duration": 16,
    "start_time": "2025-04-30T16:23:17.291Z"
   },
   {
    "duration": 5,
    "start_time": "2025-04-30T16:23:27.924Z"
   },
   {
    "duration": 721,
    "start_time": "2025-04-30T16:23:27.931Z"
   },
   {
    "duration": 0,
    "start_time": "2025-04-30T16:23:28.655Z"
   },
   {
    "duration": 1,
    "start_time": "2025-04-30T16:23:28.655Z"
   },
   {
    "duration": 0,
    "start_time": "2025-04-30T16:23:28.656Z"
   },
   {
    "duration": 0,
    "start_time": "2025-04-30T16:23:28.658Z"
   },
   {
    "duration": 0,
    "start_time": "2025-04-30T16:23:28.658Z"
   },
   {
    "duration": 0,
    "start_time": "2025-04-30T16:23:28.660Z"
   },
   {
    "duration": 0,
    "start_time": "2025-04-30T16:23:28.661Z"
   },
   {
    "duration": 0,
    "start_time": "2025-04-30T16:23:28.663Z"
   },
   {
    "duration": 0,
    "start_time": "2025-04-30T16:23:28.664Z"
   },
   {
    "duration": 0,
    "start_time": "2025-04-30T16:23:28.666Z"
   },
   {
    "duration": 0,
    "start_time": "2025-04-30T16:23:28.667Z"
   },
   {
    "duration": 0,
    "start_time": "2025-04-30T16:23:28.668Z"
   },
   {
    "duration": 0,
    "start_time": "2025-04-30T16:23:28.671Z"
   },
   {
    "duration": 0,
    "start_time": "2025-04-30T16:23:28.672Z"
   },
   {
    "duration": 0,
    "start_time": "2025-04-30T16:23:28.673Z"
   },
   {
    "duration": 0,
    "start_time": "2025-04-30T16:23:28.674Z"
   },
   {
    "duration": 0,
    "start_time": "2025-04-30T16:23:28.675Z"
   },
   {
    "duration": 0,
    "start_time": "2025-04-30T16:23:28.677Z"
   },
   {
    "duration": 0,
    "start_time": "2025-04-30T16:23:28.678Z"
   },
   {
    "duration": 0,
    "start_time": "2025-04-30T16:23:28.679Z"
   },
   {
    "duration": 0,
    "start_time": "2025-04-30T16:23:28.680Z"
   },
   {
    "duration": 0,
    "start_time": "2025-04-30T16:23:28.720Z"
   },
   {
    "duration": 406,
    "start_time": "2025-04-30T16:23:42.937Z"
   },
   {
    "duration": 173,
    "start_time": "2025-04-30T16:23:53.675Z"
   },
   {
    "duration": 173,
    "start_time": "2025-04-30T16:23:57.152Z"
   },
   {
    "duration": 9,
    "start_time": "2025-04-30T16:23:57.328Z"
   },
   {
    "duration": 7,
    "start_time": "2025-04-30T16:23:57.338Z"
   },
   {
    "duration": 0,
    "start_time": "2025-04-30T16:23:57.347Z"
   },
   {
    "duration": 0,
    "start_time": "2025-04-30T16:23:57.348Z"
   },
   {
    "duration": 0,
    "start_time": "2025-04-30T16:23:57.349Z"
   },
   {
    "duration": 0,
    "start_time": "2025-04-30T16:23:57.350Z"
   },
   {
    "duration": 0,
    "start_time": "2025-04-30T16:23:57.353Z"
   },
   {
    "duration": 0,
    "start_time": "2025-04-30T16:23:57.354Z"
   },
   {
    "duration": 0,
    "start_time": "2025-04-30T16:23:57.355Z"
   },
   {
    "duration": 0,
    "start_time": "2025-04-30T16:23:57.357Z"
   },
   {
    "duration": 0,
    "start_time": "2025-04-30T16:23:57.358Z"
   },
   {
    "duration": 0,
    "start_time": "2025-04-30T16:23:57.359Z"
   },
   {
    "duration": 0,
    "start_time": "2025-04-30T16:23:57.360Z"
   },
   {
    "duration": 0,
    "start_time": "2025-04-30T16:23:57.361Z"
   },
   {
    "duration": 0,
    "start_time": "2025-04-30T16:23:57.363Z"
   },
   {
    "duration": 0,
    "start_time": "2025-04-30T16:23:57.364Z"
   },
   {
    "duration": 0,
    "start_time": "2025-04-30T16:23:57.365Z"
   },
   {
    "duration": 0,
    "start_time": "2025-04-30T16:23:57.365Z"
   },
   {
    "duration": 0,
    "start_time": "2025-04-30T16:23:57.367Z"
   },
   {
    "duration": 1,
    "start_time": "2025-04-30T16:23:57.368Z"
   },
   {
    "duration": 0,
    "start_time": "2025-04-30T16:23:57.420Z"
   },
   {
    "duration": 0,
    "start_time": "2025-04-30T16:23:57.421Z"
   },
   {
    "duration": 155,
    "start_time": "2025-04-30T16:24:26.100Z"
   },
   {
    "duration": 204,
    "start_time": "2025-04-30T16:24:29.029Z"
   },
   {
    "duration": 369,
    "start_time": "2025-04-30T16:24:31.811Z"
   },
   {
    "duration": 6,
    "start_time": "2025-04-30T16:24:34.328Z"
   },
   {
    "duration": 137,
    "start_time": "2025-04-30T16:24:35.185Z"
   },
   {
    "duration": 12,
    "start_time": "2025-04-30T16:24:37.057Z"
   },
   {
    "duration": 321,
    "start_time": "2025-04-30T16:24:39.043Z"
   },
   {
    "duration": 232,
    "start_time": "2025-04-30T16:24:55.861Z"
   },
   {
    "duration": 12,
    "start_time": "2025-04-30T16:24:58.181Z"
   },
   {
    "duration": 363,
    "start_time": "2025-04-30T16:24:58.963Z"
   },
   {
    "duration": 5,
    "start_time": "2025-04-30T16:25:10.431Z"
   },
   {
    "duration": 345,
    "start_time": "2025-04-30T16:25:12.509Z"
   },
   {
    "duration": 102,
    "start_time": "2025-04-30T16:25:14.611Z"
   },
   {
    "duration": 144,
    "start_time": "2025-04-30T16:25:18.247Z"
   },
   {
    "duration": 11,
    "start_time": "2025-04-30T16:25:20.424Z"
   },
   {
    "duration": 99,
    "start_time": "2025-04-30T16:25:21.632Z"
   },
   {
    "duration": 373,
    "start_time": "2025-04-30T16:25:23.826Z"
   },
   {
    "duration": 131,
    "start_time": "2025-04-30T16:25:26.246Z"
   },
   {
    "duration": 41,
    "start_time": "2025-04-30T16:25:27.749Z"
   },
   {
    "duration": 4,
    "start_time": "2025-04-30T16:25:42.706Z"
   },
   {
    "duration": 44,
    "start_time": "2025-04-30T16:25:58.681Z"
   },
   {
    "duration": 6,
    "start_time": "2025-04-30T16:26:04.259Z"
   },
   {
    "duration": 60,
    "start_time": "2025-04-30T16:26:10.638Z"
   },
   {
    "duration": 47,
    "start_time": "2025-04-30T16:26:20.092Z"
   },
   {
    "duration": 60,
    "start_time": "2025-04-30T16:26:29.468Z"
   },
   {
    "duration": 6,
    "start_time": "2025-04-30T16:26:36.454Z"
   },
   {
    "duration": 127,
    "start_time": "2025-04-30T16:26:54.369Z"
   },
   {
    "duration": 16,
    "start_time": "2025-04-30T16:26:59.210Z"
   },
   {
    "duration": 7,
    "start_time": "2025-04-30T16:27:12.628Z"
   },
   {
    "duration": 46,
    "start_time": "2025-04-30T16:27:15.091Z"
   },
   {
    "duration": 19,
    "start_time": "2025-04-30T16:27:27.864Z"
   },
   {
    "duration": 7,
    "start_time": "2025-04-30T16:27:51.562Z"
   },
   {
    "duration": 7,
    "start_time": "2025-04-30T16:28:01.827Z"
   },
   {
    "duration": 7,
    "start_time": "2025-04-30T16:28:06.601Z"
   },
   {
    "duration": 7,
    "start_time": "2025-04-30T16:28:08.408Z"
   },
   {
    "duration": 14,
    "start_time": "2025-04-30T16:28:10.124Z"
   },
   {
    "duration": 15,
    "start_time": "2025-04-30T16:28:19.054Z"
   },
   {
    "duration": 4,
    "start_time": "2025-04-30T16:28:30.728Z"
   }
  ],
  "colab": {
   "provenance": []
  },
  "kernelspec": {
   "display_name": "base",
   "language": "python",
   "name": "python3"
  },
  "language_info": {
   "codemirror_mode": {
    "name": "ipython",
    "version": 3
   },
   "file_extension": ".py",
   "mimetype": "text/x-python",
   "name": "python",
   "nbconvert_exporter": "python",
   "pygments_lexer": "ipython3",
   "version": "3.12.7"
  },
  "toc": {
   "base_numbering": 1,
   "nav_menu": {},
   "number_sections": true,
   "sideBar": true,
   "skip_h1_title": false,
   "title_cell": "Table of Contents",
   "title_sidebar": "Contents",
   "toc_cell": false,
   "toc_position": {
    "height": "calc(100% - 180px)",
    "left": "10px",
    "top": "150px",
    "width": "315px"
   },
   "toc_section_display": true,
   "toc_window_display": false
  }
 },
 "nbformat": 4,
 "nbformat_minor": 1
}
